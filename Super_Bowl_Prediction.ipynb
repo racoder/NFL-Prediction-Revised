{
 "cells": [
  {
   "cell_type": "markdown",
   "metadata": {},
   "source": [
    "# <center>Super bowl Prediction</center>"
   ]
  },
  {
   "cell_type": "markdown",
   "metadata": {},
   "source": [
    " **Authors: Chetan Naik | Sindhuri Mamidi | Ankit Arun | Beijie Li**\n",
    "\n",
    " **Modified by: Rakesh Chada**"
   ]
  },
  {
   "cell_type": "markdown",
   "metadata": {},
   "source": [
    "**[Introduction](#intro)**\n",
    "\n",
    "**[Data Cleaning & Extraction](#clean)**\n",
    "\n",
    "**[NFL](#nfl_main)**\n",
    "\n",
    "- [Baseline Models](Baseline_Super_Bowl.ipynb)\n",
    "\n",
    "- [Advanced Models](#advanced_nfl)\n",
    "    - [Linear Regression Model with separate features](#linreg_sep_nfl)\n",
    "    - [Linear Regression Model with paired features](#linreg_paired_nfl)\n",
    "    - [Page Rank Model](nfl_pagerank.ipynb)\n",
    "\n",
    "\n",
    "**[College Football](#clg_main)**\n",
    "\n",
    "- [Baseline Models](Baseline_Super_Bowl.ipynb)\n",
    "\n",
    "- [Advanced Models](#advanced_clg)\n",
    "    - [Linear Regression Model with separate features](#linreg_sep_clg)\n",
    "    - [Linear Regression Model with paired features](#linreg_paired_clg)\n",
    "    - [Page Rank Model](#clg_pagerank.ipynb)"
   ]
  },
  {
   "cell_type": "markdown",
   "metadata": {},
   "source": [
    "<a id=\"intro\"/>"
   ]
  },
  {
   "cell_type": "markdown",
   "metadata": {},
   "source": [
    "## Introduction"
   ]
  },
  {
   "cell_type": "markdown",
   "metadata": {},
   "source": [
    "The goal of this project is to build machine learning models to predict the winners of 2015 Super Bowl and the College Football Championship using historical data. \n",
    "\n",
    "We have predicted the outcome of football matches entirely using the knowledge of previous game statistics. We have used three different models to do this:\n",
    "Baseline model : \"Point Score Difference Model\". In this model we use the score difference to predict winners of future games.\n",
    "Linear Regression Model: In this model, we use linear regression to predict the point difference for each game.\n",
    "PageRank Model: Here, we model the game data as a graph with nodes as teams and edges as score differences between the teams. We then use PageRank on this game graph to rank all the teams. This ranking is used to predict winners of future games."
   ]
  },
  {
   "cell_type": "code",
   "execution_count": 172,
   "metadata": {
    "collapsed": false
   },
   "outputs": [
    {
     "name": "stdout",
     "output_type": "stream",
     "text": [
      "Populating the interactive namespace from numpy and matplotlib\n"
     ]
    },
    {
     "name": "stderr",
     "output_type": "stream",
     "text": [
      "WARNING: pylab import has clobbered these variables: ['colors', 'rc', 'pylab', 'clf']\n",
      "`%matplotlib` prevents importing * from pylab and numpy\n"
     ]
    }
   ],
   "source": [
    "%pylab inline"
   ]
  },
  {
   "cell_type": "code",
   "execution_count": 173,
   "metadata": {
    "collapsed": false
   },
   "outputs": [],
   "source": [
    "from collections import defaultdict\n",
    "\n",
    "import cPickle as pickle\n",
    "import numpy as np\n",
    "import pandas as pd\n",
    "import pylab\n",
    "import statsmodels.api as sm\n",
    "\n",
    "from sklearn.linear_model import LinearRegression\n",
    "from sklearn.linear_model import Ridge\n",
    "from sklearn.linear_model import Lasso\n",
    "from sklearn.linear_model import BayesianRidge\n",
    "\n",
    "import warnings\n",
    "warnings.filterwarnings('ignore')"
   ]
  },
  {
   "cell_type": "code",
   "execution_count": 174,
   "metadata": {
    "collapsed": false
   },
   "outputs": [],
   "source": [
    "import seaborn\n",
    "colors = seaborn.color_palette()\n",
    "\n",
    "from matplotlib import rc\n",
    "\n",
    "rc(\"figure\", facecolor=\"white\")\n",
    "rc(\"axes\", facecolor=\"white\")\n",
    "rc(\"axes\", edgecolor=\"grey\")\n",
    "\n",
    "\n",
    "rc(\"grid\", alpha=0.9)\n",
    "rc(\"grid\", linewidth=0.2)\n",
    "rc(\"grid\", linestyle=\":\")\n",
    "\n",
    "\n",
    "rc('font',**{'family':'serif','serif':['Palatino']})"
   ]
  },
  {
   "cell_type": "markdown",
   "metadata": {},
   "source": [
    "<a id=\"clean\"/>"
   ]
  },
  {
   "cell_type": "markdown",
   "metadata": {},
   "source": [
    "# Data Cleaning and Extraction"
   ]
  },
  {
   "cell_type": "code",
   "execution_count": 175,
   "metadata": {
    "collapsed": false
   },
   "outputs": [],
   "source": [
    "trainDF = pd.DataFrame()\n",
    "testDF = pd.DataFrame()\n",
    "features = []"
   ]
  },
  {
   "cell_type": "code",
   "execution_count": 128,
   "metadata": {
    "collapsed": false
   },
   "outputs": [],
   "source": [
    "def setDataAndFeaturesForNFLSeparate(trDF,tstDF,ftr):\n",
    "    trDF = pd.read_csv('data/trainNFL.csv', index_col=0)\n",
    "    tstDF = pd.read_csv('data/testNFL.csv', index_col=0)\n",
    "    ftr = ['temperature','humidity','wind_speed','away_team_id','home_team_id','1QP_home','2QP_home','3QP_home','4QP_home','RFD_home','PFD_home','IFD_home','RY_home','RA_home','PY_home','PA_home','PC_home','SK_home','INT_home','FUM_home','PU_home','GPY_home','PR_home','PRY_home','KR_home','KRY_home','IR_home','IRY_home','PEN_home','TOP_home','TD_home','TDR_home','TDP_home','TDT_home','FGM_home','FGAT_home','FGY_home','RZA_home','RZC_home','BRY_home','BPY_home','SRP_home','S1RP_home','S2RP_home','S3RP_home','SPP_home','S1PP_home','S2PP_home','S3PP_home','LEA_home','LEY_home','LTA_home','LTY_home','LGA_home','LGY_home','MDA_home','MDY_home','RGA_home','RGY_home','RTA_home','RTY_home','REA_home','REY_home','R1A_home','R1Y_home','R2A_home','R2Y_home','R3A_home','R3Y_home','QBA_home','QBY_home','SLA_home','SLY_home','SMA_home','SMY_home','SRA_home','SRY_home','DLA_home','DLY_home','DMA_home','DMY_home','DRA_home','DRY_home','WR1A_home','WR1Y_home','WR3A_home','WR3Y_home','TEA_home','TEY_home','RBA_home','RBY_home','SGA_home','SGY_home','P1A_home','P1Y_home','P2A_home','P2Y_home','P3A_home','P3Y_home','SPC_home','MPC_home','LPC_home','Q1RA_home','Q1RY_home','Q1PA_home','Q1PY_home','LCRA_home','LCRY_home','LCPA_home','LCPY_home','RZRA_home','RZRY_home','RZPA_home','RZPY_home','SKY_home','LBS_home','DBS_home','SFPY_home','DRV_home','NPY_home','TB_home','I20_home','RTD_home','LNR_home','LNP_home','LBR_home','LBP_home','DBR_home','DBP_home','NHA_home','S3A_home','S3C_home','L3A_home','L3C_home','STF_home','DP_home','FSP_home','OHP_home','PBEP_home','DLP_home','DSP_home','DMP_home','PFN_home','1QP_away','2QP_away','3QP_away','4QP_away','RFD_away','PFD_away','IFD_away','RY_away','RA_away','PY_away','PA_away','PC_away','SK_away','INT_away','FUM_away','PU_away','GPY_away','PR_away','PRY_away','KR_away','KRY_away','IR_away','IRY_away','PEN_away','TOP_away','TD_away','TDR_away','TDP_away','TDT_away','FGM_away','FGAT_away','FGY_away','RZA_away','RZC_away','BRY_away','BPY_away','SRP_away','S1RP_away','S2RP_away','S3RP_away','SPP_away','S1PP_away','S2PP_away','S3PP_away','LEA_away','LEY_away','LTA_away','LTY_away','LGA_away','LGY_away','MDA_away','MDY_away','RGA_away','RGY_away','RTA_away','RTY_away','REA_away','REY_away','R1A_away','R1Y_away','R2A_away','R2Y_away','R3A_away','R3Y_away','QBA_away','QBY_away','SLA_away','SLY_away','SMA_away','SMY_away','SRA_away','SRY_away','DLA_away','DLY_away','DMA_away','DMY_away','DRA_away','DRY_away','WR1A_away','WR1Y_away','WR3A_away','WR3Y_away','TEA_away','TEY_away','RBA_away','RBY_away','SGA_away','SGY_away','P1A_away','P1Y_away','P2A_away','P2Y_away','P3A_away','P3Y_away','SPC_away','MPC_away','LPC_away','Q1RA_away','Q1RY_away','Q1PA_away','Q1PY_away','LCRA_away','LCRY_away','LCPA_away','LCPY_away','RZRA_away','RZRY_away','RZPA_away','RZPY_away','SKY_away','LBS_away','DBS_away','SFPY_away','DRV_away','NPY_away','TB_away','I20_away','RTD_away','LNR_away','LNP_away','LBR_away','LBP_away','DBR_away','DBP_away','NHA_away','S3A_away','S3C_away','L3A_away','L3C_away','STF_away','DP_away','FSP_away','OHP_away','PBEP_away','DLP_away','DSP_away','DMP_away','PFN_away']\n",
    "    ftr = ['temperature','humidity','wind_speed','away_team_id','home_team_id','over_or_under','visitor_point_spread','1QP_home','2QP_home','3QP_home','4QP_home','RFD_home','PFD_home','IFD_home','RY_home','RA_home','PY_home','PA_home','PC_home','SK_home','INT_home','FUM_home','PU_home','GPY_home','PR_home','PRY_home','KR_home','KRY_home','IR_home','IRY_home','PEN_home','TOP_home','TD_home','TDR_home','TDP_home','TDT_home','FGM_home','FGAT_home','FGY_home','RZA_home','RZC_home','BRY_home','BPY_home','SRP_home','S1RP_home','S2RP_home','S3RP_home','SPP_home','S1PP_home','S2PP_home','S3PP_home','LEA_home','LEY_home','LTA_home','LTY_home','LGA_home','LGY_home','MDA_home','MDY_home','RGA_home','RGY_home','RTA_home','RTY_home','REA_home','REY_home','R1A_home','R1Y_home','R2A_home','R2Y_home','R3A_home','R3Y_home','QBA_home','QBY_home','SLA_home','SLY_home','SMA_home','SMY_home','SRA_home','SRY_home','DLA_home','DLY_home','DMA_home','DMY_home','DRA_home','DRY_home','WR1A_home','WR1Y_home','WR3A_home','WR3Y_home','TEA_home','TEY_home','RBA_home','RBY_home','SGA_home','SGY_home','P1A_home','P1Y_home','P2A_home','P2Y_home','P3A_home','P3Y_home','SPC_home','MPC_home','LPC_home','Q1RA_home','Q1RY_home','Q1PA_home','Q1PY_home','LCRA_home','LCRY_home','LCPA_home','LCPY_home','RZRA_home','RZRY_home','RZPA_home','RZPY_home','SKY_home','LBS_home','DBS_home','SFPY_home','DRV_home','NPY_home','TB_home','I20_home','RTD_home','LNR_home','LNP_home','LBR_home','LBP_home','DBR_home','DBP_home','NHA_home','S3A_home','S3C_home','L3A_home','L3C_home','STF_home','DP_home','FSP_home','OHP_home','PBEP_home','DLP_home','DSP_home','DMP_home','PFN_home','1QP_away','2QP_away','3QP_away','4QP_away','RFD_away','PFD_away','IFD_away','RY_away','RA_away','PY_away','PA_away','PC_away','SK_away','INT_away','FUM_away','PU_away','GPY_away','PR_away','PRY_away','KR_away','KRY_away','IR_away','IRY_away','PEN_away','TOP_away','TD_away','TDR_away','TDP_away','TDT_away','FGM_away','FGAT_away','FGY_away','RZA_away','RZC_away','BRY_away','BPY_away','SRP_away','S1RP_away','S2RP_away','S3RP_away','SPP_away','S1PP_away','S2PP_away','S3PP_away','LEA_away','LEY_away','LTA_away','LTY_away','LGA_away','LGY_away','MDA_away','MDY_away','RGA_away','RGY_away','RTA_away','RTY_away','REA_away','REY_away','R1A_away','R1Y_away','R2A_away','R2Y_away','R3A_away','R3Y_away','QBA_away','QBY_away','SLA_away','SLY_away','SMA_away','SMY_away','SRA_away','SRY_away','DLA_away','DLY_away','DMA_away','DMY_away','DRA_away','DRY_away','WR1A_away','WR1Y_away','WR3A_away','WR3Y_away','TEA_away','TEY_away','RBA_away','RBY_away','SGA_away','SGY_away','P1A_away','P1Y_away','P2A_away','P2Y_away','P3A_away','P3Y_away','SPC_away','MPC_away','LPC_away','Q1RA_away','Q1RY_away','Q1PA_away','Q1PY_away','LCRA_away','LCRY_away','LCPA_away','LCPY_away','RZRA_away','RZRY_away','RZPA_away','RZPY_away','SKY_away','LBS_away','DBS_away','SFPY_away','DRV_away','NPY_away','TB_away','I20_away','RTD_away','LNR_away','LNP_away','LBR_away','LBP_away','DBR_away','DBP_away','NHA_away','S3A_away','S3C_away','L3A_away','L3C_away','STF_away','DP_away','FSP_away','OHP_away','PBEP_away','DLP_away','DSP_away','DMP_away','PFN_away']\n",
    "    return (trDF,tstDF,ftr)"
   ]
  },
  {
   "cell_type": "code",
   "execution_count": 129,
   "metadata": {
    "collapsed": false
   },
   "outputs": [],
   "source": [
    "def setDataAndFeaturesForNFLPaired(trDF,tstDF,ftr):\n",
    "    trDF = pd.read_csv('data/trainNFL_diff.csv', index_col=0)\n",
    "    tstDF = pd.read_csv('data/testNFL_diff.csv', index_col=0)\n",
    "    ftr = ['temperature','humidity','wind_speed','away_team_id','home_team_id','over_or_under','visitor_point_spread','1QP_diff','2QP_diff','3QP_diff','4QP_diff','RFD_diff','PFD_diff','IFD_diff','RY_diff','RA_diff','PY_diff','PA_diff','PC_diff','SK_diff','INT_diff','FUM_diff','PU_diff','GPY_diff','PR_diff','PRY_diff','KR_diff','KRY_diff','IR_diff','IRY_diff','PEN_diff','TOP_diff','TD_diff','TDR_diff','TDP_diff','TDT_diff','FGM_diff','FGAT_diff','FGY_diff','RZA_diff','RZC_diff','BRY_diff','BPY_diff','SRP_diff','S1RP_diff','S2RP_diff','S3RP_diff','SPP_diff','S1PP_diff','S2PP_diff','S3PP_diff','LEA_diff','LEY_diff','LTA_diff','LTY_diff','LGA_diff','LGY_diff','MDA_diff','MDY_diff','RGA_diff','RGY_diff','RTA_diff','RTY_diff','REA_diff','REY_diff','R1A_diff','R1Y_diff','R2A_diff','R2Y_diff','R3A_diff','R3Y_diff','QBA_diff','QBY_diff','SLA_diff','SLY_diff','SMA_diff','SMY_diff','SRA_diff','SRY_diff','DLA_diff','DLY_diff','DMA_diff','DMY_diff','DRA_diff','DRY_diff','WR1A_diff','WR1Y_diff','WR3A_diff','WR3Y_diff','TEA_diff','TEY_diff','RBA_diff','RBY_diff','SGA_diff','SGY_diff','P1A_diff','P1Y_diff','P2A_diff','P2Y_diff','P3A_diff','P3Y_diff','SPC_diff','MPC_diff','LPC_diff','Q1RA_diff','Q1RY_diff','Q1PA_diff','Q1PY_diff','LCRA_diff','LCRY_diff','LCPA_diff','LCPY_diff','RZRA_diff','RZRY_diff','RZPA_diff','RZPY_diff','SKY_diff','LBS_diff','DBS_diff','SFPY_diff','DRV_diff','NPY_diff','TB_diff','I20_diff','RTD_diff','LNR_diff','LNP_diff','LBR_diff','LBP_diff','DBR_diff','DBP_diff','NHA_diff','S3A_diff','S3C_diff','L3A_diff','L3C_diff','STF_diff','DP_diff','FSP_diff','OHP_diff','PBEP_diff','DLP_diff','DSP_diff','DMP_diff','PFN_diff']\n",
    "    return (trDF,tstDF,ftr)"
   ]
  },
  {
   "cell_type": "code",
   "execution_count": 130,
   "metadata": {
    "collapsed": false
   },
   "outputs": [],
   "source": [
    "def setDataAndFeaturesForClgSeparate(trDF,tstDF,ftr):\n",
    "    trDF = pd.read_csv('data/trainLinCOL.csv', index_col=0)\n",
    "    tstDF = pd.read_csv('data/testLinCOL.csv', index_col=0)\n",
    "    ftr = ['1st Downs_away','1st Downs_home','3rd Down Attempts_away','3rd Down Attempts_home','3rd Down Conversions_away','3rd Down Conversions_home','4th Down conversions_away','4th Down conversions_home','Fumbles Lost_away','Fumbles Lost_home','Passing Completions_away','Passing Completions_home','Passing Yards_away','Passing Yards_home','Penalties_away','Penalties_home','Penalty Yards_away','Penalty Yards_home','Rushing Attempts_away','Rushing Attempts_home','Rushing Yards_away','Rushing Yards_home','Time of Possession_away','Time of Possession_home','4th Down Attempts_away','4th Down Attempts_home','Interceptions Thrown_away','Interceptions Thrown_home','Passing Attempts_away','Passing Attempts_home']\n",
    "    return (trDF,tstDF,ftr)"
   ]
  },
  {
   "cell_type": "code",
   "execution_count": 148,
   "metadata": {
    "collapsed": false
   },
   "outputs": [],
   "source": [
    "def setDataAndFeaturesForClgPaired(trDF,tstDF,ftr):\n",
    "    trDF = pd.read_csv('data/trainCOL_diff.csv', index_col=0)\n",
    "    tstDF = pd.read_csv('data/testCOL_diff.csv', index_col=0)\n",
    "    ftr = ['1st Downs_diff','3rd Down Attempts_diff','3rd Down Conversions_diff','4th Down conversions_diff','Fumbles Lost_diff','Passing Completions_diff','Passing Yards_diff','Penalties_diff','Penalty Yards_diff','Rushing Attempts_diff','Rushing Yards_diff','Time of Possession_diff','4th Down Attempts_diff','Interceptions Thrown_diff','Passing Attempts_diff']\n",
    "    return (trDF,tstDF,ftr)"
   ]
  },
  {
   "cell_type": "markdown",
   "metadata": {},
   "source": [
    "<a id=\"nfl_main\"/>"
   ]
  },
  {
   "cell_type": "markdown",
   "metadata": {},
   "source": [
    "# NFL"
   ]
  },
  {
   "cell_type": "markdown",
   "metadata": {},
   "source": [
    "<a id=\"advanced_nfl\"/>"
   ]
  },
  {
   "cell_type": "markdown",
   "metadata": {},
   "source": [
    "# Advanced Models"
   ]
  },
  {
   "cell_type": "markdown",
   "metadata": {},
   "source": [
    "<a id=\"linreg_sep_nfl\"/>"
   ]
  },
  {
   "cell_type": "markdown",
   "metadata": {},
   "source": [
    "# Linear Regression Model with separate features"
   ]
  },
  {
   "cell_type": "code",
   "execution_count": 30,
   "metadata": {
    "collapsed": false
   },
   "outputs": [],
   "source": [
    "trainDF,testDF,features = setDataAndFeaturesForNFLSeparate(trainDF,testDF,features)"
   ]
  },
  {
   "cell_type": "code",
   "execution_count": 31,
   "metadata": {
    "collapsed": false
   },
   "outputs": [],
   "source": [
    "trainDF['score_diff'] = trainDF.home_score - trainDF.away_score\n",
    "testDF['score_diff'] = testDF.home_score - testDF.away_score\n",
    "\n",
    "trainDF = trainDF.sort(column='game_id').reset_index(drop=True)\n",
    "testDF = testDF.sort(column='game_id').reset_index(drop=True)"
   ]
  },
  {
   "cell_type": "code",
   "execution_count": 32,
   "metadata": {
    "collapsed": false
   },
   "outputs": [],
   "source": [
    "#group = trainDF.groupby('away_team')\n",
    "trainDF[\"away_team_id\"] = trainDF.groupby([\"away_team\"]).grouper.group_info[0]\n",
    "trainDF[\"home_team_id\"] = trainDF.groupby([\"home_team\"]).grouper.group_info[0]\n",
    "testDF[\"away_team_id\"] = testDF.groupby([\"away_team\"]).grouper.group_info[0]\n",
    "testDF[\"home_team_id\"] = testDF.groupby([\"home_team\"]).grouper.group_info[0]"
   ]
  },
  {
   "cell_type": "code",
   "execution_count": 34,
   "metadata": {
    "collapsed": false
   },
   "outputs": [],
   "source": [
    "def get_correct(score_diff, predicted_score):\n",
    "    if ((predicted_score > 0 and score_diff > 0) or (predicted_score < 0 and score_diff < 0)):\n",
    "        return 1\n",
    "    else:\n",
    "        return 0"
   ]
  },
  {
   "cell_type": "code",
   "execution_count": 35,
   "metadata": {
    "collapsed": false
   },
   "outputs": [],
   "source": [
    "def check_accuracy(allStats):\n",
    "    accuracy = dict()\n",
    "    for year, df in allStats.iteritems():  \n",
    "        #print df.correct_prediction\n",
    "        numGames = len(df.correct_prediction)\n",
    "        numCorrect = sum(df.correct_prediction)\n",
    "        pctCorrect = numCorrect*100/float(numGames)\n",
    "        accuracy[year] = [numGames, numCorrect, pctCorrect]\n",
    "    return accuracy"
   ]
  },
  {
   "cell_type": "code",
   "execution_count": 36,
   "metadata": {
    "collapsed": false
   },
   "outputs": [],
   "source": [
    "def initialize(data):\n",
    "    X = data.ix[:, features]\n",
    "    y = data.ix[:, 'score_diff']\n",
    "    \n",
    "    reg = LinearRegression(fit_intercept=True, normalize=True)\n",
    "\n",
    "    model = reg.fit(X, y)\n",
    "    return model"
   ]
  },
  {
   "cell_type": "code",
   "execution_count": 37,
   "metadata": {
    "collapsed": false
   },
   "outputs": [],
   "source": [
    "def get_games_till_now(game, df):\n",
    "    curGameId = int(game.game_id)\n",
    "    retdf = df[df.game_id < curGameId]\n",
    "    return retdf"
   ]
  },
  {
   "cell_type": "code",
   "execution_count": 38,
   "metadata": {
    "collapsed": false
   },
   "outputs": [],
   "source": [
    "def get_game_features(g, gamesTillNow):\n",
    "    hTeam = g.home_team\n",
    "    aTeam = g.away_team\n",
    "    gameYear = int(g.year)\n",
    "\n",
    "    games = []    \n",
    "    for row, game in gamesTillNow.iterrows():\n",
    "        rhTeam = game.home_team\n",
    "        raTeam = game.away_team\n",
    "        if ((rhTeam == hTeam) or (rhTeam == aTeam) or (raTeam == hTeam) or (raTeam == aTeam)):\n",
    "            games.append(pd.DataFrame(game).T)\n",
    "    games = games[-15:]\n",
    "    numGames = len(games)\n",
    "    games = pd.concat(games)\n",
    "    average = pd.DataFrame(games[features].mean().round()).T\n",
    "    return (numGames, average[features])"
   ]
  },
  {
   "cell_type": "code",
   "execution_count": 39,
   "metadata": {
    "collapsed": false
   },
   "outputs": [],
   "source": [
    "def get_updated_data(game, df, g):\n",
    "    curGameId = int(game.game_id)\n",
    "    retdf = df[df.game_id <= curGameId]\n",
    "    return retdf[-g:]"
   ]
  },
  {
   "cell_type": "code",
   "execution_count": 40,
   "metadata": {
    "collapsed": false
   },
   "outputs": [],
   "source": [
    "def train_updated_model(data):\n",
    "    X = data.ix[:, features]\n",
    "    y = data.ix[:, 'score_diff']\n",
    "\n",
    "    reg = LinearRegression(fit_intercept=True, normalize=True)\n",
    "\n",
    "    model = reg.fit(X, y)\n",
    "    return model"
   ]
  },
  {
   "cell_type": "code",
   "execution_count": 41,
   "metadata": {
    "collapsed": false
   },
   "outputs": [],
   "source": [
    "def run_model(model, gameFeatures):\n",
    "    gameResult = int(model.predict(gameFeatures[features]).round())\n",
    "    return gameResult"
   ]
  },
  {
   "cell_type": "code",
   "execution_count": 42,
   "metadata": {
    "collapsed": false
   },
   "outputs": [],
   "source": [
    "#features = ['temperature','humidity','wind_speed','over_or_under','visitor_point_spread','away_score','home_score','1QP_home','2QP_home','3QP_home','4QP_home','RFD_home','PFD_home','IFD_home','RY_home','RA_home','PY_home','PA_home','PC_home','SK_home','INT_home','FUM_home','PU_home','GPY_home','PR_home','PRY_home','KR_home','KRY_home','IR_home','IRY_home','PEN_home','TOP_home','TD_home','TDR_home','TDP_home','TDT_home','FGM_home','FGAT_home','FGY_home','RZA_home','RZC_home','BRY_home','BPY_home','SRP_home','S1RP_home','S2RP_home','S3RP_home','SPP_home','S1PP_home','S2PP_home','S3PP_home','LEA_home','LEY_home','LTA_home','LTY_home','LGA_home','LGY_home','MDA_home','MDY_home','RGA_home','RGY_home','RTA_home','RTY_home','REA_home','REY_home','R1A_home','R1Y_home','R2A_home','R2Y_home','R3A_home','R3Y_home','QBA_home','QBY_home','SLA_home','SLY_home','SMA_home','SMY_home','SRA_home','SRY_home','DLA_home','DLY_home','DMA_home','DMY_home','DRA_home','DRY_home','WR1A_home','WR1Y_home','WR3A_home','WR3Y_home','TEA_home','TEY_home','RBA_home','RBY_home','SGA_home','SGY_home','P1A_home','P1Y_home','P2A_home','P2Y_home','P3A_home','P3Y_home','SPC_home','MPC_home','LPC_home','Q1RA_home','Q1RY_home','Q1PA_home','Q1PY_home','LCRA_home','LCRY_home','LCPA_home','LCPY_home','RZRA_home','RZRY_home','RZPA_home','RZPY_home','SKY_home','LBS_home','DBS_home','SFPY_home','DRV_home','NPY_home','TB_home','I20_home','RTD_home','LNR_home','LNP_home','LBR_home','LBP_home','DBR_home','DBP_home','NHA_home','S3A_home','S3C_home','L3A_home','L3C_home','STF_home','DP_home','FSP_home','OHP_home','PBEP_home','DLP_home','DSP_home','DMP_home','PFN_home','1QP_away','2QP_away','3QP_away','4QP_away','RFD_away','PFD_away','IFD_away','RY_away','RA_away','PY_away','PA_away','PC_away','SK_away','INT_away','FUM_away','PU_away','GPY_away','PR_away','PRY_away','KR_away','KRY_away','IR_away','IRY_away','PEN_away','TOP_away','TD_away','TDR_away','TDP_away','TDT_away','FGM_away','FGAT_away','FGY_away','RZA_away','RZC_away','BRY_away','BPY_away','SRP_away','S1RP_away','S2RP_away','S3RP_away','SPP_away','S1PP_away','S2PP_away','S3PP_away','LEA_away','LEY_away','LTA_away','LTY_away','LGA_away','LGY_away','MDA_away','MDY_away','RGA_away','RGY_away','RTA_away','RTY_away','REA_away','REY_away','R1A_away','R1Y_away','R2A_away','R2Y_away','R3A_away','R3Y_away','QBA_away','QBY_away','SLA_away','SLY_away','SMA_away','SMY_away','SRA_away','SRY_away','DLA_away','DLY_away','DMA_away','DMY_away','DRA_away','DRY_away','WR1A_away','WR1Y_away','WR3A_away','WR3Y_away','TEA_away','TEY_away','RBA_away','RBY_away','SGA_away','SGY_away','P1A_away','P1Y_away','P2A_away','P2Y_away','P3A_away','P3Y_away','SPC_away','MPC_away','LPC_away','Q1RA_away','Q1RY_away','Q1PA_away','Q1PY_away','LCRA_away','LCRY_away','LCPA_away','LCPY_away','RZRA_away','RZRY_away','RZPA_away','RZPY_away','SKY_away','LBS_away','DBS_away','SFPY_away','DRV_away','NPY_away','TB_away','I20_away','RTD_away','LNR_away','LNP_away','LBR_away','LBP_away','DBR_away','DBP_away','NHA_away','S3A_away','S3C_away','L3A_away','L3C_away','STF_away','DP_away','FSP_away','OHP_away','PBEP_away','DLP_away','DSP_away','DMP_away','PFN_away']"
   ]
  },
  {
   "cell_type": "code",
   "execution_count": 43,
   "metadata": {
    "collapsed": false
   },
   "outputs": [],
   "source": [
    "# features = ['temperature','humidity','wind_speed','away_team_id','home_team_id','1QP_home','2QP_home','3QP_home','4QP_home','RFD_home','PFD_home','IFD_home','RY_home','RA_home','PY_home','PA_home','PC_home','SK_home','INT_home','FUM_home','PU_home','GPY_home','PR_home','PRY_home','KR_home','KRY_home','IR_home','IRY_home','PEN_home','TOP_home','TD_home','TDR_home','TDP_home','TDT_home','FGM_home','FGAT_home','FGY_home','RZA_home','RZC_home','BRY_home','BPY_home','SRP_home','S1RP_home','S2RP_home','S3RP_home','SPP_home','S1PP_home','S2PP_home','S3PP_home','LEA_home','LEY_home','LTA_home','LTY_home','LGA_home','LGY_home','MDA_home','MDY_home','RGA_home','RGY_home','RTA_home','RTY_home','REA_home','REY_home','R1A_home','R1Y_home','R2A_home','R2Y_home','R3A_home','R3Y_home','QBA_home','QBY_home','SLA_home','SLY_home','SMA_home','SMY_home','SRA_home','SRY_home','DLA_home','DLY_home','DMA_home','DMY_home','DRA_home','DRY_home','WR1A_home','WR1Y_home','WR3A_home','WR3Y_home','TEA_home','TEY_home','RBA_home','RBY_home','SGA_home','SGY_home','P1A_home','P1Y_home','P2A_home','P2Y_home','P3A_home','P3Y_home','SPC_home','MPC_home','LPC_home','Q1RA_home','Q1RY_home','Q1PA_home','Q1PY_home','LCRA_home','LCRY_home','LCPA_home','LCPY_home','RZRA_home','RZRY_home','RZPA_home','RZPY_home','SKY_home','LBS_home','DBS_home','SFPY_home','DRV_home','NPY_home','TB_home','I20_home','RTD_home','LNR_home','LNP_home','LBR_home','LBP_home','DBR_home','DBP_home','NHA_home','S3A_home','S3C_home','L3A_home','L3C_home','STF_home','DP_home','FSP_home','OHP_home','PBEP_home','DLP_home','DSP_home','DMP_home','PFN_home','1QP_away','2QP_away','3QP_away','4QP_away','RFD_away','PFD_away','IFD_away','RY_away','RA_away','PY_away','PA_away','PC_away','SK_away','INT_away','FUM_away','PU_away','GPY_away','PR_away','PRY_away','KR_away','KRY_away','IR_away','IRY_away','PEN_away','TOP_away','TD_away','TDR_away','TDP_away','TDT_away','FGM_away','FGAT_away','FGY_away','RZA_away','RZC_away','BRY_away','BPY_away','SRP_away','S1RP_away','S2RP_away','S3RP_away','SPP_away','S1PP_away','S2PP_away','S3PP_away','LEA_away','LEY_away','LTA_away','LTY_away','LGA_away','LGY_away','MDA_away','MDY_away','RGA_away','RGY_away','RTA_away','RTY_away','REA_away','REY_away','R1A_away','R1Y_away','R2A_away','R2Y_away','R3A_away','R3Y_away','QBA_away','QBY_away','SLA_away','SLY_away','SMA_away','SMY_away','SRA_away','SRY_away','DLA_away','DLY_away','DMA_away','DMY_away','DRA_away','DRY_away','WR1A_away','WR1Y_away','WR3A_away','WR3Y_away','TEA_away','TEY_away','RBA_away','RBY_away','SGA_away','SGY_away','P1A_away','P1Y_away','P2A_away','P2Y_away','P3A_away','P3Y_away','SPC_away','MPC_away','LPC_away','Q1RA_away','Q1RY_away','Q1PA_away','Q1PY_away','LCRA_away','LCRY_away','LCPA_away','LCPY_away','RZRA_away','RZRY_away','RZPA_away','RZPY_away','SKY_away','LBS_away','DBS_away','SFPY_away','DRV_away','NPY_away','TB_away','I20_away','RTD_away','LNR_away','LNP_away','LBR_away','LBP_away','DBR_away','DBP_away','NHA_away','S3A_away','S3C_away','L3A_away','L3C_away','STF_away','DP_away','FSP_away','OHP_away','PBEP_away','DLP_away','DSP_away','DMP_away','PFN_away']\n",
    "# features.remove('TD_home')\n",
    "# features.remove('FGM_home')\n",
    "# features.remove('TD_away')\n",
    "# features.remove('FGM_away')\n",
    "# features.remove('TB_away')\n",
    "#features.remove(['TD_home','FGM_home','TD_away','FGM_away','TB_away'])\n",
    "#features = ['temperature','humidity','wind_speed','over_or_under','away_team_id','home_team_id']\n",
    "#features = ['temperature','humidity','wind_speed','over_or_under','visitor_point_spread','1QP_home','2QP_home','3QP_home','1QP_away','2QP_away','3QP_away']"
   ]
  },
  {
   "cell_type": "code",
   "execution_count": 44,
   "metadata": {
    "collapsed": false
   },
   "outputs": [],
   "source": [
    "#features = ['temperature','humidity','wind_speed','over_or_under','visitor_point_spread','1QP_home','2QP_home','3QP_home','4QP_home','RFD_home','PFD_home','IFD_home','1QP_away','2QP_away','3QP_away','4QP_away','RFD_away','PFD_away','IFD_away']\n"
   ]
  },
  {
   "cell_type": "code",
   "execution_count": 45,
   "metadata": {
    "collapsed": false
   },
   "outputs": [
    {
     "data": {
      "text/plain": [
       "283"
      ]
     },
     "execution_count": 45,
     "metadata": {},
     "output_type": "execute_result"
    }
   ],
   "source": [
    "len(features)"
   ]
  },
  {
   "cell_type": "code",
   "execution_count": 46,
   "metadata": {
    "collapsed": false
   },
   "outputs": [
    {
     "name": "stdout",
     "output_type": "stream",
     "text": [
      "[ -7.15909968e-04  -3.82884348e-04  -2.57857390e-03  -1.01551877e-03\n",
      "  -1.81026262e-03  -3.84643283e-03   4.33296818e-03   3.85672287e-01\n",
      "   3.92056175e-01   3.93498903e-01   3.91761565e-01  -2.97867987e-03\n",
      "   1.21043835e-03  -2.61931756e-02   1.11158163e-03  -5.20594708e-02\n",
      "  -1.31725217e-06  -5.23578894e-03  -1.92438970e-02   1.67894601e-02\n",
      "   4.99031674e-02   6.04000849e-02   5.24702765e-02  -2.63079330e-02\n",
      "   2.85346182e-02  -1.53808994e-01   4.59006969e-02  -5.45700112e-04\n",
      "  -4.74869504e-02   3.75645911e-04  -3.40108454e-03   1.65341640e-02\n",
      "   3.97881358e+00   2.69805253e-01   2.96884003e-01  -8.30270228e-02\n",
      "   1.85795718e+00   1.41163310e-02   5.42176258e-04  -2.46728002e-02\n",
      "   2.82462446e-02   1.34647997e-03   3.57895356e-04  -1.57009773e-02\n",
      "   4.59593876e-03   9.61372635e-03  -2.99106424e-02   6.01688172e-03\n",
      "   1.19662390e-02   2.41344792e-02  -3.00838365e-02   3.16413565e-02\n",
      "  -1.10946441e-04   2.97238333e-02  -1.25260390e-03   3.50066519e-02\n",
      "  -1.11588160e-03   3.25234438e-02  -5.11223817e-04   9.81223349e-03\n",
      "   1.93163023e-03   2.64110420e-02  -7.41581878e-04   1.69484283e-02\n",
      "   1.06447354e-03   7.09423289e-02  -9.57079009e-04   3.16971772e-02\n",
      "   2.47574497e-04   7.94274832e-02  -2.66293618e-05  -3.28050490e-02\n",
      "   2.72155887e-03   1.83195316e-03  -1.18881256e-03   8.12877330e-03\n",
      "  -9.54362524e-04   1.23467349e-03  -3.52176044e-04  -4.19648272e-03\n",
      "  -2.50062660e-04   6.31428409e-03   4.76759231e-04  -1.42277888e-02\n",
      "  -1.05921414e-04   1.45511636e-02  -6.05851929e-04   1.85574811e-02\n",
      "  -1.16131768e-03   1.90958094e-02  -1.19314455e-03   1.48085232e-02\n",
      "  -8.95226931e-04   6.36810238e-03  -5.41576044e-04   5.45583980e-03\n",
      "   2.67484828e-03  -3.03689652e-02   2.12899776e-03  -4.19069758e-03\n",
      "   4.02086401e-03   1.08635600e-02  -2.85432007e-03  -1.11762583e-03\n",
      "  -6.25675521e-03   1.68664110e-03  -8.41321947e-03   2.71989305e-04\n",
      "   3.52704762e-03   1.06337104e-03  -3.31291507e-03   1.37955974e-03\n",
      "  -1.81382221e-02   1.84824403e-03  -1.03662187e-02   1.38973233e-03\n",
      "   1.31134033e-03  -8.22652058e-03  -3.57418855e-02   1.26793004e-03\n",
      "   1.44764117e-02   2.80971690e-02   5.30502602e-01   1.31923607e-02\n",
      "   5.79156223e-01  -1.44206766e-02   1.68736242e-02  -8.67027527e-03\n",
      "   5.63728144e-04  -6.36882102e-03   7.45006737e-03   1.52552648e-03\n",
      "   9.15868835e-04   7.76644473e-03   1.61036381e-02  -2.16531527e-02\n",
      "  -1.85406332e-02   9.87331273e-02  -1.07497248e-02   1.05915533e-02\n",
      "   5.42875771e-03  -5.90061070e-03  -5.09748544e-03  -1.63044579e-03\n",
      "   3.40676744e-02  -3.50461757e-01  -3.48561989e-01  -3.50409902e-01\n",
      "  -3.47825861e-01  -3.80487165e-02  -4.34706942e-02   1.82651257e-02\n",
      "   4.48791953e-03   1.30439092e-01   1.23913028e-03   9.81694924e-02\n",
      "  -3.67844575e-02   8.39724357e-02  -4.74869504e-02  -1.35099294e-01\n",
      "  -5.47789043e-02   1.51312639e-01   1.61983391e-02   2.56792092e-02\n",
      "  -2.00816529e-02  -1.11267566e-03   4.99031674e-02  -3.09970720e-03\n",
      "   1.56367766e-03  -8.63780175e-03  -4.22444739e+00  -4.16710029e-01\n",
      "  -3.87639754e-01   1.06508251e-01  -1.94228594e+00  -1.44784237e-02\n",
      "  -2.18432770e-03  -2.57150898e-03   2.95416225e-02  -2.05645294e-03\n",
      "  -4.27167833e-04   1.61152082e-02  -2.50695929e-02  -4.02904390e-03\n",
      "   4.52138450e-02   1.07383013e-02  -1.59606828e-02   4.89468452e-03\n",
      "   2.18042996e-02  -2.11314640e-02  -2.02336285e-03  -2.62547241e-02\n",
      "  -1.93878981e-03  -1.66414982e-02  -4.79357063e-03  -3.86164288e-02\n",
      "  -1.68048572e-03  -3.69534009e-02  -1.03354376e-03  -4.37995241e-02\n",
      "   3.99309154e-04  -4.25901427e-02  -1.30719237e-04  -5.42861255e-02\n",
      "  -2.15589981e-03  -6.80956223e-02  -4.77297451e-03  -1.03605435e-01\n",
      "  -4.27228854e-03  -1.93734211e-02   3.43845029e-03   8.42382961e-03\n",
      "  -5.84059320e-04  -2.74624421e-03   4.32173484e-04   5.17605024e-03\n",
      "   3.84401550e-04  -1.89284356e-02   1.55630811e-05  -1.71364728e-03\n",
      "  -9.10304581e-05   1.56325175e-02   5.95395427e-05  -1.07961132e-04\n",
      "  -7.19412669e-03  -5.56204996e-03  -6.60347680e-03  -1.58565023e-02\n",
      "  -5.23221522e-03  -7.88088350e-03  -7.09315928e-03  -1.90497640e-03\n",
      "  -1.19106905e-04  -7.68341249e-02   5.20314031e-03  -1.07043458e-01\n",
      "   4.91920656e-03  -1.31439107e-01   5.32076505e-03   5.75346034e-02\n",
      "   5.46750821e-02   5.53439876e-02  -1.43817210e-02   1.21166721e-03\n",
      "   7.16224994e-04  -3.42667788e-04  -3.87986559e-03  -2.54503612e-04\n",
      "   2.98109392e-03  -1.04782778e-03  -9.09796006e-03   2.39168305e-03\n",
      "   2.65987318e-02  -8.90276704e-04   1.03031264e-02   3.50127999e-02\n",
      "  -1.23342322e-03  -1.41869348e-05  -5.41833896e-02  -1.54346234e-01\n",
      "  -2.97546139e+00   2.05697282e-02  -5.93381791e-01  -1.59364492e-02\n",
      "   1.74123107e-02  -1.89205463e-02  -5.27749552e-05  -8.57857730e-03\n",
      "  -3.59127671e-03  -2.64433060e-03  -8.99627561e-03  -2.94600642e-02\n",
      "   2.60597631e-02  -2.98776996e-02   7.26246679e-03  -7.81327656e-02\n",
      "  -4.16491994e-03   1.53978602e-02  -9.72672961e-03  -4.52462050e-03\n",
      "   7.02895765e-03   1.89572289e-02   2.51052224e-03]\n"
     ]
    },
    {
     "data": {
      "text/html": [
       "<div style=\"max-height:1000px;max-width:1500px;overflow:auto;\">\n",
       "<table border=\"1\" class=\"dataframe\">\n",
       "  <thead>\n",
       "    <tr style=\"text-align: right;\">\n",
       "      <th></th>\n",
       "      <th>Linear Regression</th>\n",
       "      <th>Linear Regression Normalized</th>\n",
       "      <th>Ridge Regression</th>\n",
       "      <th>Ridge Regression Normalized</th>\n",
       "      <th>Lasso Regression</th>\n",
       "      <th>Lasso Regression Normalized</th>\n",
       "    </tr>\n",
       "  </thead>\n",
       "  <tbody>\n",
       "    <tr>\n",
       "      <th>2001</th>\n",
       "      <td> 100.000</td>\n",
       "      <td> 100.000</td>\n",
       "      <td> 100.000</td>\n",
       "      <td> 92.903226</td>\n",
       "      <td> 95.483871</td>\n",
       "      <td> 54.193548</td>\n",
       "    </tr>\n",
       "    <tr>\n",
       "      <th>2002</th>\n",
       "      <td>  99.375</td>\n",
       "      <td>  99.375</td>\n",
       "      <td>  99.375</td>\n",
       "      <td> 93.125000</td>\n",
       "      <td> 92.500000</td>\n",
       "      <td> 59.375000</td>\n",
       "    </tr>\n",
       "    <tr>\n",
       "      <th>2003</th>\n",
       "      <td>  98.750</td>\n",
       "      <td>  98.750</td>\n",
       "      <td>  98.750</td>\n",
       "      <td> 93.750000</td>\n",
       "      <td> 95.000000</td>\n",
       "      <td> 61.875000</td>\n",
       "    </tr>\n",
       "    <tr>\n",
       "      <th>2004</th>\n",
       "      <td> 100.000</td>\n",
       "      <td> 100.000</td>\n",
       "      <td> 100.000</td>\n",
       "      <td> 93.125000</td>\n",
       "      <td> 98.750000</td>\n",
       "      <td> 55.000000</td>\n",
       "    </tr>\n",
       "    <tr>\n",
       "      <th>2005</th>\n",
       "      <td> 100.000</td>\n",
       "      <td> 100.000</td>\n",
       "      <td> 100.000</td>\n",
       "      <td> 91.875000</td>\n",
       "      <td> 96.875000</td>\n",
       "      <td> 56.875000</td>\n",
       "    </tr>\n",
       "    <tr>\n",
       "      <th>2006</th>\n",
       "      <td>  99.375</td>\n",
       "      <td>  99.375</td>\n",
       "      <td>  99.375</td>\n",
       "      <td> 91.250000</td>\n",
       "      <td> 96.875000</td>\n",
       "      <td> 53.125000</td>\n",
       "    </tr>\n",
       "    <tr>\n",
       "      <th>2007</th>\n",
       "      <td>  99.375</td>\n",
       "      <td>  99.375</td>\n",
       "      <td>  99.375</td>\n",
       "      <td> 97.500000</td>\n",
       "      <td> 98.125000</td>\n",
       "      <td> 54.375000</td>\n",
       "    </tr>\n",
       "    <tr>\n",
       "      <th>2008</th>\n",
       "      <td>  99.375</td>\n",
       "      <td>  99.375</td>\n",
       "      <td>  99.375</td>\n",
       "      <td> 93.750000</td>\n",
       "      <td> 95.625000</td>\n",
       "      <td> 56.250000</td>\n",
       "    </tr>\n",
       "    <tr>\n",
       "      <th>2009</th>\n",
       "      <td> 100.000</td>\n",
       "      <td> 100.000</td>\n",
       "      <td> 100.000</td>\n",
       "      <td> 92.500000</td>\n",
       "      <td> 95.000000</td>\n",
       "      <td> 58.125000</td>\n",
       "    </tr>\n",
       "    <tr>\n",
       "      <th>2010</th>\n",
       "      <td> 100.000</td>\n",
       "      <td> 100.000</td>\n",
       "      <td> 100.000</td>\n",
       "      <td> 96.875000</td>\n",
       "      <td> 96.875000</td>\n",
       "      <td> 57.500000</td>\n",
       "    </tr>\n",
       "    <tr>\n",
       "      <th>2011</th>\n",
       "      <td> 100.000</td>\n",
       "      <td> 100.000</td>\n",
       "      <td> 100.000</td>\n",
       "      <td> 91.875000</td>\n",
       "      <td> 93.125000</td>\n",
       "      <td> 54.375000</td>\n",
       "    </tr>\n",
       "    <tr>\n",
       "      <th>2012</th>\n",
       "      <td> 100.000</td>\n",
       "      <td> 100.000</td>\n",
       "      <td> 100.000</td>\n",
       "      <td> 92.500000</td>\n",
       "      <td> 95.625000</td>\n",
       "      <td> 52.500000</td>\n",
       "    </tr>\n",
       "    <tr>\n",
       "      <th>2013</th>\n",
       "      <td>  98.125</td>\n",
       "      <td>  98.125</td>\n",
       "      <td>  98.125</td>\n",
       "      <td> 91.250000</td>\n",
       "      <td> 95.625000</td>\n",
       "      <td> 57.500000</td>\n",
       "    </tr>\n",
       "  </tbody>\n",
       "</table>\n",
       "<p>13 rows × 6 columns</p>\n",
       "</div>"
      ],
      "text/plain": [
       "      Linear Regression  Linear Regression Normalized  Ridge Regression  \\\n",
       "2001            100.000                       100.000           100.000   \n",
       "2002             99.375                        99.375            99.375   \n",
       "2003             98.750                        98.750            98.750   \n",
       "2004            100.000                       100.000           100.000   \n",
       "2005            100.000                       100.000           100.000   \n",
       "2006             99.375                        99.375            99.375   \n",
       "2007             99.375                        99.375            99.375   \n",
       "2008             99.375                        99.375            99.375   \n",
       "2009            100.000                       100.000           100.000   \n",
       "2010            100.000                       100.000           100.000   \n",
       "2011            100.000                       100.000           100.000   \n",
       "2012            100.000                       100.000           100.000   \n",
       "2013             98.125                        98.125            98.125   \n",
       "\n",
       "      Ridge Regression Normalized  Lasso Regression  \\\n",
       "2001                    92.903226         95.483871   \n",
       "2002                    93.125000         92.500000   \n",
       "2003                    93.750000         95.000000   \n",
       "2004                    93.125000         98.750000   \n",
       "2005                    91.875000         96.875000   \n",
       "2006                    91.250000         96.875000   \n",
       "2007                    97.500000         98.125000   \n",
       "2008                    93.750000         95.625000   \n",
       "2009                    92.500000         95.000000   \n",
       "2010                    96.875000         96.875000   \n",
       "2011                    91.875000         93.125000   \n",
       "2012                    92.500000         95.625000   \n",
       "2013                    91.250000         95.625000   \n",
       "\n",
       "      Lasso Regression Normalized  \n",
       "2001                    54.193548  \n",
       "2002                    59.375000  \n",
       "2003                    61.875000  \n",
       "2004                    55.000000  \n",
       "2005                    56.875000  \n",
       "2006                    53.125000  \n",
       "2007                    54.375000  \n",
       "2008                    56.250000  \n",
       "2009                    58.125000  \n",
       "2010                    57.500000  \n",
       "2011                    54.375000  \n",
       "2012                    52.500000  \n",
       "2013                    57.500000  \n",
       "\n",
       "[13 rows x 6 columns]"
      ]
     },
     "execution_count": 46,
     "metadata": {},
     "output_type": "execute_result"
    }
   ],
   "source": [
    "clfs = [LinearRegression(fit_intercept=True),\n",
    "        LinearRegression(fit_intercept=True, normalize=True),\n",
    "        Ridge(fit_intercept=True),\n",
    "        Ridge(fit_intercept=True, normalize=True),\n",
    "        Lasso(fit_intercept=True),\n",
    "        Lasso(fit_intercept=True, normalize=True)]\n",
    "clf_names = ['Linear Regression', 'Linear Regression Normalized',\n",
    "             'Ridge Regression', 'Ridge Regression Normalized',\n",
    "             'Lasso Regression', 'Lasso Regression Normalized']\n",
    "\n",
    "train_results = []\n",
    "models = {}\n",
    "for (i, clf_) in enumerate(clfs):\n",
    "    data = trainDF[trainDF.year >= 2001]\n",
    "    X = data.ix[:, features]\n",
    "    y = data.ix[:, 'score_diff']\n",
    "    clf = clf_.fit(X, y)\n",
    "    models[clf_names[i]] = clf\n",
    "    if clf_names[i] == 'Linear Regression':\n",
    "        print clf.coef_\n",
    "    predicted_train = clf.predict(X)\n",
    "    p = [int(round(val)) for val in predicted_train]\n",
    "    data['predicted_score_diff'] = pd.Series(p, index=data.index)\n",
    "    data['correct_prediction'] = data.apply(lambda x: get_correct(x['score_diff'], x['predicted_score_diff']), axis=1)\n",
    "    years = [int(y) for y in unique(data.year)]\n",
    "    ansdf = {}\n",
    "    for y in years:\n",
    "        ansdf[y] = data[data.year == y]\n",
    "    accuracy = check_accuracy(ansdf)\n",
    "    accuracy = pd.DataFrame(accuracy).T\n",
    "    accuracy.columns = ['num_games', 'num_correct_prediction', 'pct_correct_prediction']\n",
    "    accuracy = accuracy[['pct_correct_prediction']]\n",
    "    accuracy.columns = [clf_names[i]]\n",
    "    train_results.append(accuracy.T)\n",
    "\n",
    "train_resultdf = pd.concat(train_results).T\n",
    "train_resultdf"
   ]
  },
  {
   "cell_type": "code",
   "execution_count": 47,
   "metadata": {
    "collapsed": false
   },
   "outputs": [
    {
     "data": {
      "image/png": "[encoded data removed]",
      "text/plain": [
       "<matplotlib.figure.Figure at 0x7f1b26789210>"
      ]
     },
     "metadata": {},
     "output_type": "display_data"
    }
   ],
   "source": [
    "train_resultdf.plot(kind='bar', figsize=(17, 8))\n",
    "plt.grid(b=True, which='major', color='gray', linestyle=':')\n",
    "plt.xlabel('Years')\n",
    "plt.ylabel('Prediction accurcay')\n",
    "plt.ylim([0, 100])\n",
    "plt.legend(loc='upper center', bbox_to_anchor=(0.5, -0.1), fancybox=True, shadow=True, ncol=3)\n",
    "plt.show()"
   ]
  },
  {
   "cell_type": "code",
   "execution_count": 48,
   "metadata": {
    "collapsed": false
   },
   "outputs": [
    {
     "data": {
      "text/html": [
       "<div style=\"max-height:1000px;max-width:1500px;overflow:auto;\">\n",
       "<table border=\"1\" class=\"dataframe\">\n",
       "  <thead>\n",
       "    <tr style=\"text-align: right;\">\n",
       "      <th></th>\n",
       "      <th>Ridge Regression Normalized</th>\n",
       "      <th>Lasso Regression Normalized</th>\n",
       "      <th>Lasso Regression</th>\n",
       "      <th>Ridge Regression</th>\n",
       "      <th>Linear Regression</th>\n",
       "      <th>Linear Regression Normalized</th>\n",
       "    </tr>\n",
       "  </thead>\n",
       "  <tbody>\n",
       "    <tr>\n",
       "      <th>2001</th>\n",
       "      <td> 95.192308</td>\n",
       "      <td> 57.692308</td>\n",
       "      <td> 97.115385</td>\n",
       "      <td> 100.000000</td>\n",
       "      <td> 100.000000</td>\n",
       "      <td> 100.000000</td>\n",
       "    </tr>\n",
       "    <tr>\n",
       "      <th>2002</th>\n",
       "      <td> 93.457944</td>\n",
       "      <td> 57.943925</td>\n",
       "      <td> 94.392523</td>\n",
       "      <td>  99.065421</td>\n",
       "      <td>  99.065421</td>\n",
       "      <td>  99.065421</td>\n",
       "    </tr>\n",
       "    <tr>\n",
       "      <th>2003</th>\n",
       "      <td> 93.457944</td>\n",
       "      <td> 60.747664</td>\n",
       "      <td> 97.196262</td>\n",
       "      <td>  99.065421</td>\n",
       "      <td>  99.065421</td>\n",
       "      <td>  99.065421</td>\n",
       "    </tr>\n",
       "    <tr>\n",
       "      <th>2004</th>\n",
       "      <td> 93.457944</td>\n",
       "      <td> 58.878505</td>\n",
       "      <td> 93.457944</td>\n",
       "      <td>  99.065421</td>\n",
       "      <td>  99.065421</td>\n",
       "      <td>  99.065421</td>\n",
       "    </tr>\n",
       "    <tr>\n",
       "      <th>2005</th>\n",
       "      <td> 94.392523</td>\n",
       "      <td> 60.747664</td>\n",
       "      <td> 96.261682</td>\n",
       "      <td> 100.000000</td>\n",
       "      <td> 100.000000</td>\n",
       "      <td> 100.000000</td>\n",
       "    </tr>\n",
       "    <tr>\n",
       "      <th>2006</th>\n",
       "      <td> 95.327103</td>\n",
       "      <td> 55.140187</td>\n",
       "      <td> 98.130841</td>\n",
       "      <td> 100.000000</td>\n",
       "      <td> 100.000000</td>\n",
       "      <td> 100.000000</td>\n",
       "    </tr>\n",
       "    <tr>\n",
       "      <th>2007</th>\n",
       "      <td> 95.327103</td>\n",
       "      <td> 60.747664</td>\n",
       "      <td> 95.327103</td>\n",
       "      <td> 100.000000</td>\n",
       "      <td> 100.000000</td>\n",
       "      <td> 100.000000</td>\n",
       "    </tr>\n",
       "    <tr>\n",
       "      <th>2008</th>\n",
       "      <td> 90.654206</td>\n",
       "      <td> 57.009346</td>\n",
       "      <td> 94.392523</td>\n",
       "      <td>  98.130841</td>\n",
       "      <td>  98.130841</td>\n",
       "      <td>  98.130841</td>\n",
       "    </tr>\n",
       "    <tr>\n",
       "      <th>2009</th>\n",
       "      <td> 90.654206</td>\n",
       "      <td> 56.074766</td>\n",
       "      <td> 94.392523</td>\n",
       "      <td> 100.000000</td>\n",
       "      <td> 100.000000</td>\n",
       "      <td> 100.000000</td>\n",
       "    </tr>\n",
       "    <tr>\n",
       "      <th>2010</th>\n",
       "      <td> 93.457944</td>\n",
       "      <td> 52.336449</td>\n",
       "      <td> 95.327103</td>\n",
       "      <td>  99.065421</td>\n",
       "      <td>  99.065421</td>\n",
       "      <td>  99.065421</td>\n",
       "    </tr>\n",
       "    <tr>\n",
       "      <th>2011</th>\n",
       "      <td> 97.196262</td>\n",
       "      <td> 61.682243</td>\n",
       "      <td> 98.130841</td>\n",
       "      <td> 100.000000</td>\n",
       "      <td> 100.000000</td>\n",
       "      <td> 100.000000</td>\n",
       "    </tr>\n",
       "    <tr>\n",
       "      <th>2012</th>\n",
       "      <td> 92.523364</td>\n",
       "      <td> 63.551402</td>\n",
       "      <td> 96.261682</td>\n",
       "      <td>  99.065421</td>\n",
       "      <td>  99.065421</td>\n",
       "      <td>  99.065421</td>\n",
       "    </tr>\n",
       "    <tr>\n",
       "      <th>2013</th>\n",
       "      <td> 96.261682</td>\n",
       "      <td> 62.616822</td>\n",
       "      <td> 98.130841</td>\n",
       "      <td>  99.065421</td>\n",
       "      <td>  99.065421</td>\n",
       "      <td>  99.065421</td>\n",
       "    </tr>\n",
       "  </tbody>\n",
       "</table>\n",
       "<p>13 rows × 6 columns</p>\n",
       "</div>"
      ],
      "text/plain": [
       "      Ridge Regression Normalized  Lasso Regression Normalized  \\\n",
       "2001                    95.192308                    57.692308   \n",
       "2002                    93.457944                    57.943925   \n",
       "2003                    93.457944                    60.747664   \n",
       "2004                    93.457944                    58.878505   \n",
       "2005                    94.392523                    60.747664   \n",
       "2006                    95.327103                    55.140187   \n",
       "2007                    95.327103                    60.747664   \n",
       "2008                    90.654206                    57.009346   \n",
       "2009                    90.654206                    56.074766   \n",
       "2010                    93.457944                    52.336449   \n",
       "2011                    97.196262                    61.682243   \n",
       "2012                    92.523364                    63.551402   \n",
       "2013                    96.261682                    62.616822   \n",
       "\n",
       "      Lasso Regression  Ridge Regression  Linear Regression  \\\n",
       "2001         97.115385        100.000000         100.000000   \n",
       "2002         94.392523         99.065421          99.065421   \n",
       "2003         97.196262         99.065421          99.065421   \n",
       "2004         93.457944         99.065421          99.065421   \n",
       "2005         96.261682        100.000000         100.000000   \n",
       "2006         98.130841        100.000000         100.000000   \n",
       "2007         95.327103        100.000000         100.000000   \n",
       "2008         94.392523         98.130841          98.130841   \n",
       "2009         94.392523        100.000000         100.000000   \n",
       "2010         95.327103         99.065421          99.065421   \n",
       "2011         98.130841        100.000000         100.000000   \n",
       "2012         96.261682         99.065421          99.065421   \n",
       "2013         98.130841         99.065421          99.065421   \n",
       "\n",
       "      Linear Regression Normalized  \n",
       "2001                    100.000000  \n",
       "2002                     99.065421  \n",
       "2003                     99.065421  \n",
       "2004                     99.065421  \n",
       "2005                    100.000000  \n",
       "2006                    100.000000  \n",
       "2007                    100.000000  \n",
       "2008                     98.130841  \n",
       "2009                    100.000000  \n",
       "2010                     99.065421  \n",
       "2011                    100.000000  \n",
       "2012                     99.065421  \n",
       "2013                     99.065421  \n",
       "\n",
       "[13 rows x 6 columns]"
      ]
     },
     "execution_count": 48,
     "metadata": {},
     "output_type": "execute_result"
    }
   ],
   "source": [
    "test_results = []\n",
    "for model_name, model in models.iteritems():\n",
    "    data_test = testDF[testDF.year > 2000]\n",
    "    X_test = data_test.ix[:, features]\n",
    "    y_test = data_test.ix[:, 'score_diff']\n",
    "    predicted_test = model.predict(X_test)\n",
    "    pt = [int(round(val)) for val in predicted_test]\n",
    "    data_test['predicted_score_diff'] = pd.Series(pt, index=data_test.index)\n",
    "    data_test['correct_prediction'] = data_test.apply(lambda x: get_correct(x['score_diff'], x['predicted_score_diff']), axis=1)\n",
    "    years = [int(y) for y in unique(data_test.year)]\n",
    "    ansdf = {}\n",
    "    for y in years:\n",
    "        ansdf[y] = data_test[data_test.year == y]\n",
    "    accuracy = check_accuracy(ansdf)\n",
    "    accuracy = pd.DataFrame(accuracy).T\n",
    "    accuracy.columns = ['num_games', 'num_correct_prediction', 'pct_correct_prediction']\n",
    "    accuracy = accuracy[['pct_correct_prediction']]\n",
    "    accuracy.columns = [model_name]\n",
    "    test_results.append(accuracy.T)\n",
    "\n",
    "test_resultdf = pd.concat(test_results).T\n",
    "test_resultdf"
   ]
  },
  {
   "cell_type": "code",
   "execution_count": 26,
   "metadata": {
    "collapsed": false
   },
   "outputs": [
    {
     "data": {
      "image/png": "[encoded data removed]",
      "text/plain": [
       "<matplotlib.figure.Figure at 0x7fee0ba40110>"
      ]
     },
     "metadata": {},
     "output_type": "display_data"
    }
   ],
   "source": [
    "test_resultdf.plot(kind='bar', figsize=(17, 8))\n",
    "plt.grid(b=True, which='major', color='gray', linestyle=':')\n",
    "plt.xlabel('Years')\n",
    "plt.ylabel('Prediction accurcay')\n",
    "plt.ylim([0, 100])\n",
    "plt.legend(loc='upper center', bbox_to_anchor=(0.5, -0.1), fancybox=True, shadow=True, ncol=3)\n",
    "plt.show()"
   ]
  },
  {
   "cell_type": "markdown",
   "metadata": {},
   "source": [
    "---"
   ]
  },
  {
   "cell_type": "code",
   "execution_count": 43,
   "metadata": {
    "collapsed": false
   },
   "outputs": [],
   "source": [
    "# def get_game_features(g, gamesTillNow, itr, alpha):\n",
    "#     hTeam = g.home_team\n",
    "#     aTeam = g.away_team\n",
    "#     gameYear = int(g.year)\n",
    "\n",
    "#     games = []    \n",
    "#     for row, game in gamesTillNow.iterrows():\n",
    "#         rhTeam = game.home_team\n",
    "#         raTeam = game.away_team\n",
    "#         if ((rhTeam == hTeam) or (rhTeam == aTeam) or (raTeam == hTeam) or (raTeam == aTeam)):\n",
    "#             games.append(pd.DataFrame(game).T)\n",
    "#     games = games[-itr:]\n",
    "#     numGames = len(games)\n",
    "#     games = pd.concat(games)\n",
    "#     games = games[features]\n",
    "    \n",
    "#     numGames = len(games.index)\n",
    "#     weights = []\n",
    "#     for i in xrange(1, numGames+1):\n",
    "#         weights.append(alpha**i)\n",
    "#     weights = np.array(weights)\n",
    "#     average = (games.mul(weights[::-1], axis=0)/float(sum(weights)))\n",
    "#     average = pd.DataFrame(average.sum()).T.apply(np.round)\n",
    "#     return (numGames, average[features])"
   ]
  },
  {
   "cell_type": "code",
   "execution_count": 49,
   "metadata": {
    "collapsed": false
   },
   "outputs": [],
   "source": [
    "def get_game_features(g, gamesTillNow, itr, alpha):\n",
    "    hTeam = g.home_team\n",
    "    aTeam = g.away_team\n",
    "    gameYear = int(g.year)\n",
    "    \n",
    "\n",
    "    games = []    \n",
    "#     for row, game in gamesTillNow.iterrows():\n",
    "#         rhTeam = game.home_team\n",
    "#         raTeam = game.away_team\n",
    "#         if ((rhTeam == hTeam) or (rhTeam == aTeam) or (raTeam == hTeam) or (raTeam == aTeam)):\n",
    "#             games.append(pd.DataFrame(game).T)\n",
    "    games = gamesTillNow.loc[(((gamesTillNow['home_team']==hTeam) | (gamesTillNow['away_team']==aTeam))|((gamesTillNow['home_team']==aTeam) | (gamesTillNow['away_team']==hTeam))),features]\n",
    "    #games = gamesTillNow.loc[gamesTillNow['home_team']==hTeam | gamesTillNow['home_team']==aTeam | gamesTillNow['away_team']==hTeam | gamesTillNow['away_team']==aTeam,features]\n",
    "    #games = games[-itr:]\n",
    "    numGames = len(games)\n",
    "    #games = pd.concat(games)\n",
    "    #games = games[features]\n",
    "    \n",
    "    numGames = len(games.index)\n",
    "    weights = []\n",
    "    for i in xrange(1, numGames+1):\n",
    "        weights.append(alpha**i)\n",
    "    weights = np.array(weights)\n",
    "    average = (games.mul(weights[::-1], axis=0)/float(sum(weights)))\n",
    "    average = pd.DataFrame(average.sum()).T.apply(np.round)\n",
    "    return (numGames, average[features])"
   ]
  },
  {
   "cell_type": "code",
   "execution_count": 50,
   "metadata": {
    "collapsed": false
   },
   "outputs": [
    {
     "data": {
      "text/html": [
       "<div style=\"max-height:1000px;max-width:1500px;overflow:auto;\">\n",
       "<table border=\"1\" class=\"dataframe\">\n",
       "  <thead>\n",
       "    <tr style=\"text-align: right;\">\n",
       "      <th></th>\n",
       "      <th>Ridge Regression Normalized</th>\n",
       "      <th>Lasso Regression Normalized</th>\n",
       "      <th>Lasso Regression</th>\n",
       "      <th>Ridge Regression</th>\n",
       "      <th>Linear Regression</th>\n",
       "      <th>Linear Regression Normalized</th>\n",
       "    </tr>\n",
       "  </thead>\n",
       "  <tbody>\n",
       "    <tr>\n",
       "      <th>2008</th>\n",
       "      <td> 57.009346</td>\n",
       "      <td> 57.009346</td>\n",
       "      <td> 54.205607</td>\n",
       "      <td> 49.532710</td>\n",
       "      <td> 54.205607</td>\n",
       "      <td> 50.467290</td>\n",
       "    </tr>\n",
       "    <tr>\n",
       "      <th>2009</th>\n",
       "      <td> 56.074766</td>\n",
       "      <td> 56.074766</td>\n",
       "      <td> 51.401869</td>\n",
       "      <td> 52.336449</td>\n",
       "      <td> 48.598131</td>\n",
       "      <td> 48.598131</td>\n",
       "    </tr>\n",
       "    <tr>\n",
       "      <th>2010</th>\n",
       "      <td> 52.336449</td>\n",
       "      <td> 52.336449</td>\n",
       "      <td> 46.728972</td>\n",
       "      <td> 50.467290</td>\n",
       "      <td> 51.401869</td>\n",
       "      <td> 49.532710</td>\n",
       "    </tr>\n",
       "    <tr>\n",
       "      <th>2011</th>\n",
       "      <td> 61.682243</td>\n",
       "      <td> 61.682243</td>\n",
       "      <td> 57.009346</td>\n",
       "      <td> 56.074766</td>\n",
       "      <td> 59.813084</td>\n",
       "      <td> 41.121495</td>\n",
       "    </tr>\n",
       "    <tr>\n",
       "      <th>2012</th>\n",
       "      <td> 63.551402</td>\n",
       "      <td> 63.551402</td>\n",
       "      <td> 57.009346</td>\n",
       "      <td> 59.813084</td>\n",
       "      <td> 63.551402</td>\n",
       "      <td> 43.925234</td>\n",
       "    </tr>\n",
       "    <tr>\n",
       "      <th>2013</th>\n",
       "      <td> 62.616822</td>\n",
       "      <td> 62.616822</td>\n",
       "      <td> 57.943925</td>\n",
       "      <td> 59.813084</td>\n",
       "      <td> 61.682243</td>\n",
       "      <td> 50.467290</td>\n",
       "    </tr>\n",
       "  </tbody>\n",
       "</table>\n",
       "<p>6 rows × 6 columns</p>\n",
       "</div>"
      ],
      "text/plain": [
       "      Ridge Regression Normalized  Lasso Regression Normalized  \\\n",
       "2008                    57.009346                    57.009346   \n",
       "2009                    56.074766                    56.074766   \n",
       "2010                    52.336449                    52.336449   \n",
       "2011                    61.682243                    61.682243   \n",
       "2012                    63.551402                    63.551402   \n",
       "2013                    62.616822                    62.616822   \n",
       "\n",
       "      Lasso Regression  Ridge Regression  Linear Regression  \\\n",
       "2008         54.205607         49.532710          54.205607   \n",
       "2009         51.401869         52.336449          48.598131   \n",
       "2010         46.728972         50.467290          51.401869   \n",
       "2011         57.009346         56.074766          59.813084   \n",
       "2012         57.009346         59.813084          63.551402   \n",
       "2013         57.943925         59.813084          61.682243   \n",
       "\n",
       "      Linear Regression Normalized  \n",
       "2008                     50.467290  \n",
       "2009                     48.598131  \n",
       "2010                     49.532710  \n",
       "2011                     41.121495  \n",
       "2012                     43.925234  \n",
       "2013                     50.467290  \n",
       "\n",
       "[6 rows x 6 columns]"
      ]
     },
     "execution_count": 50,
     "metadata": {},
     "output_type": "execute_result"
    }
   ],
   "source": [
    "test2_results = []\n",
    "for model_name, model in models.iteritems():\n",
    "    itr = 15\n",
    "    alpha = 1\n",
    "    mtemp = []\n",
    "    data_test = testDF[testDF.year > 2007]\n",
    "    for ix, game in data_test.iterrows():\n",
    "        gamesTillNow = get_games_till_now(game, data)\n",
    "        numGames, gameFeatures = get_game_features(game, gamesTillNow, itr, alpha)\n",
    "        #print gameFeatures\n",
    "        gameResult = run_model(model, gameFeatures)\n",
    "        mtemp.append(gameResult)\n",
    "\n",
    "    data_test['predicted_score_diff'] = pd.Series(mtemp, index=data_test.index)\n",
    "    cols = ['year', 'week', 'home_team', 'away_team', 'home_score', 'away_score', 'winner', 'score_diff', 'predicted_score_diff']\n",
    "    process = data_test[cols]\n",
    "    process['error'] = process.score_diff - process.predicted_score_diff\n",
    "    process['correct_prediction'] = process.apply(lambda x: get_correct(x['score_diff'], x['predicted_score_diff']), axis=1)\n",
    "    years = [int(y) for y in unique(process.year)]\n",
    "    ansdf = {}\n",
    "    for y in years:\n",
    "        ansdf[y] = process[process.year == y]\n",
    "    accuracy = check_accuracy(ansdf)\n",
    "    accuracy = pd.DataFrame(accuracy).T\n",
    "    accuracy.columns = ['num_games', 'num_correct_prediction', 'pct_correct_prediction']\n",
    "    accuracy = accuracy[['pct_correct_prediction']]\n",
    "    accuracy.columns = [model_name]\n",
    "    test2_results.append(accuracy.T)\n",
    "    \n",
    "test2_resultdf = pd.concat(test2_results).T\n",
    "test2_resultdf"
   ]
  },
  {
   "cell_type": "code",
   "execution_count": 27,
   "metadata": {
    "collapsed": false
   },
   "outputs": [
    {
     "data": {
      "image/png": "[encoded data removed]",
      "text/plain": [
       "<matplotlib.figure.Figure at 0x7f876ccac650>"
      ]
     },
     "metadata": {},
     "output_type": "display_data"
    }
   ],
   "source": [
    "test2_resultdf.plot(kind='bar', figsize=(17, 8))\n",
    "plt.grid(b=True, which='major', color='gray', linestyle=':')\n",
    "plt.xlabel('Years')\n",
    "plt.ylabel('Prediction accurcay')\n",
    "plt.ylim([0, 100])\n",
    "plt.legend(loc='upper center', bbox_to_anchor=(0.5, -0.1), fancybox=True, shadow=True, ncol=3)\n",
    "plt.show()"
   ]
  },
  {
   "cell_type": "markdown",
   "metadata": {},
   "source": [
    "<a id='linreg_paired_nfl'/>"
   ]
  },
  {
   "cell_type": "markdown",
   "metadata": {},
   "source": [
    "<a id=\"linreg_paired_nfl\"/>"
   ]
  },
  {
   "cell_type": "markdown",
   "metadata": {},
   "source": [
    "# Linear Regression Model with paired features"
   ]
  },
  {
   "cell_type": "code",
   "execution_count": 79,
   "metadata": {
    "collapsed": false
   },
   "outputs": [],
   "source": [
    "trainDF,testDF,features = setDataAndFeaturesForNFLPaired(trainDF,testDF,features)"
   ]
  },
  {
   "cell_type": "code",
   "execution_count": 80,
   "metadata": {
    "collapsed": false
   },
   "outputs": [],
   "source": [
    "trainDF['score_diff'] = trainDF.home_score - trainDF.away_score\n",
    "testDF['score_diff'] = testDF.home_score - testDF.away_score\n",
    "\n",
    "trainDF = trainDF.sort(column='game_id').reset_index(drop=True)\n",
    "testDF = testDF.sort(column='game_id').reset_index(drop=True)"
   ]
  },
  {
   "cell_type": "code",
   "execution_count": 81,
   "metadata": {
    "collapsed": false
   },
   "outputs": [],
   "source": [
    "#group = trainDF.groupby('away_team')\n",
    "trainDF[\"away_team_id\"] = trainDF.groupby([\"away_team\"]).grouper.group_info[0]\n",
    "trainDF[\"home_team_id\"] = trainDF.groupby([\"home_team\"]).grouper.group_info[0]\n",
    "testDF[\"away_team_id\"] = testDF.groupby([\"away_team\"]).grouper.group_info[0]\n",
    "testDF[\"home_team_id\"] = testDF.groupby([\"home_team\"]).grouper.group_info[0]"
   ]
  },
  {
   "cell_type": "code",
   "execution_count": 82,
   "metadata": {
    "collapsed": false
   },
   "outputs": [],
   "source": [
    "def get_correct(score_diff, predicted_score):\n",
    "    if ((predicted_score > 0 and score_diff > 0) or (predicted_score < 0 and score_diff < 0)):\n",
    "        return 1\n",
    "    else:\n",
    "        return 0"
   ]
  },
  {
   "cell_type": "code",
   "execution_count": 83,
   "metadata": {
    "collapsed": false
   },
   "outputs": [],
   "source": [
    "def check_accuracy(allStats):\n",
    "    accuracy = dict()\n",
    "    for year, df in allStats.iteritems():  \n",
    "        #print df.correct_prediction\n",
    "        numGames = len(df.correct_prediction)\n",
    "        numCorrect = sum(df.correct_prediction)\n",
    "        pctCorrect = numCorrect*100/float(numGames)\n",
    "        accuracy[year] = [numGames, numCorrect, pctCorrect]\n",
    "    return accuracy"
   ]
  },
  {
   "cell_type": "code",
   "execution_count": 84,
   "metadata": {
    "collapsed": false
   },
   "outputs": [],
   "source": [
    "def initialize(data):\n",
    "    X = data.ix[:, features]\n",
    "    y = data.ix[:, 'score_diff']\n",
    "    \n",
    "    reg = LinearRegression(fit_intercept=True, normalize=True)\n",
    "\n",
    "    model = reg.fit(X, y)\n",
    "    return model"
   ]
  },
  {
   "cell_type": "code",
   "execution_count": 85,
   "metadata": {
    "collapsed": false
   },
   "outputs": [],
   "source": [
    "def get_games_till_now(game, df):\n",
    "    curGameId = int(game.game_id)\n",
    "    retdf = df[df.game_id < curGameId]\n",
    "    return retdf"
   ]
  },
  {
   "cell_type": "code",
   "execution_count": 86,
   "metadata": {
    "collapsed": false
   },
   "outputs": [],
   "source": [
    "def get_game_features(g, gamesTillNow):\n",
    "    hTeam = g.home_team\n",
    "    aTeam = g.away_team\n",
    "    gameYear = int(g.year)\n",
    "\n",
    "    games = []    \n",
    "    for row, game in gamesTillNow.iterrows():\n",
    "        rhTeam = game.home_team\n",
    "        raTeam = game.away_team\n",
    "        if ((rhTeam == hTeam) or (rhTeam == aTeam) or (raTeam == hTeam) or (raTeam == aTeam)):\n",
    "            games.append(pd.DataFrame(game).T)\n",
    "    games = games[-15:]\n",
    "    numGames = len(games)\n",
    "    games = pd.concat(games)\n",
    "    average = pd.DataFrame(games[features].mean().round()).T\n",
    "    return (numGames, average[features])"
   ]
  },
  {
   "cell_type": "code",
   "execution_count": 87,
   "metadata": {
    "collapsed": false
   },
   "outputs": [],
   "source": [
    "def get_updated_data(game, df, g):\n",
    "    curGameId = int(game.game_id)\n",
    "    retdf = df[df.game_id <= curGameId]\n",
    "    return retdf[-g:]"
   ]
  },
  {
   "cell_type": "code",
   "execution_count": 88,
   "metadata": {
    "collapsed": false
   },
   "outputs": [],
   "source": [
    "def train_updated_model(data):\n",
    "    X = data.ix[:, features]\n",
    "    y = data.ix[:, 'score_diff']\n",
    "\n",
    "    reg = LinearRegression(fit_intercept=True, normalize=True)\n",
    "\n",
    "    model = reg.fit(X, y)\n",
    "    return model"
   ]
  },
  {
   "cell_type": "code",
   "execution_count": 89,
   "metadata": {
    "collapsed": false
   },
   "outputs": [],
   "source": [
    "def run_model(model, gameFeatures):\n",
    "    gameResult = int(model.predict(gameFeatures[features]).round())\n",
    "    return gameResult"
   ]
  },
  {
   "cell_type": "code",
   "execution_count": 90,
   "metadata": {
    "collapsed": false
   },
   "outputs": [],
   "source": [
    "#features = ['temperature','humidity','wind_speed','over_or_under','visitor_point_spread','away_score','home_score','1QP_home','2QP_home','3QP_home','4QP_home','RFD_home','PFD_home','IFD_home','RY_home','RA_home','PY_home','PA_home','PC_home','SK_home','INT_home','FUM_home','PU_home','GPY_home','PR_home','PRY_home','KR_home','KRY_home','IR_home','IRY_home','PEN_home','TOP_home','TD_home','TDR_home','TDP_home','TDT_home','FGM_home','FGAT_home','FGY_home','RZA_home','RZC_home','BRY_home','BPY_home','SRP_home','S1RP_home','S2RP_home','S3RP_home','SPP_home','S1PP_home','S2PP_home','S3PP_home','LEA_home','LEY_home','LTA_home','LTY_home','LGA_home','LGY_home','MDA_home','MDY_home','RGA_home','RGY_home','RTA_home','RTY_home','REA_home','REY_home','R1A_home','R1Y_home','R2A_home','R2Y_home','R3A_home','R3Y_home','QBA_home','QBY_home','SLA_home','SLY_home','SMA_home','SMY_home','SRA_home','SRY_home','DLA_home','DLY_home','DMA_home','DMY_home','DRA_home','DRY_home','WR1A_home','WR1Y_home','WR3A_home','WR3Y_home','TEA_home','TEY_home','RBA_home','RBY_home','SGA_home','SGY_home','P1A_home','P1Y_home','P2A_home','P2Y_home','P3A_home','P3Y_home','SPC_home','MPC_home','LPC_home','Q1RA_home','Q1RY_home','Q1PA_home','Q1PY_home','LCRA_home','LCRY_home','LCPA_home','LCPY_home','RZRA_home','RZRY_home','RZPA_home','RZPY_home','SKY_home','LBS_home','DBS_home','SFPY_home','DRV_home','NPY_home','TB_home','I20_home','RTD_home','LNR_home','LNP_home','LBR_home','LBP_home','DBR_home','DBP_home','NHA_home','S3A_home','S3C_home','L3A_home','L3C_home','STF_home','DP_home','FSP_home','OHP_home','PBEP_home','DLP_home','DSP_home','DMP_home','PFN_home','1QP_away','2QP_away','3QP_away','4QP_away','RFD_away','PFD_away','IFD_away','RY_away','RA_away','PY_away','PA_away','PC_away','SK_away','INT_away','FUM_away','PU_away','GPY_away','PR_away','PRY_away','KR_away','KRY_away','IR_away','IRY_away','PEN_away','TOP_away','TD_away','TDR_away','TDP_away','TDT_away','FGM_away','FGAT_away','FGY_away','RZA_away','RZC_away','BRY_away','BPY_away','SRP_away','S1RP_away','S2RP_away','S3RP_away','SPP_away','S1PP_away','S2PP_away','S3PP_away','LEA_away','LEY_away','LTA_away','LTY_away','LGA_away','LGY_away','MDA_away','MDY_away','RGA_away','RGY_away','RTA_away','RTY_away','REA_away','REY_away','R1A_away','R1Y_away','R2A_away','R2Y_away','R3A_away','R3Y_away','QBA_away','QBY_away','SLA_away','SLY_away','SMA_away','SMY_away','SRA_away','SRY_away','DLA_away','DLY_away','DMA_away','DMY_away','DRA_away','DRY_away','WR1A_away','WR1Y_away','WR3A_away','WR3Y_away','TEA_away','TEY_away','RBA_away','RBY_away','SGA_away','SGY_away','P1A_away','P1Y_away','P2A_away','P2Y_away','P3A_away','P3Y_away','SPC_away','MPC_away','LPC_away','Q1RA_away','Q1RY_away','Q1PA_away','Q1PY_away','LCRA_away','LCRY_away','LCPA_away','LCPY_away','RZRA_away','RZRY_away','RZPA_away','RZPY_away','SKY_away','LBS_away','DBS_away','SFPY_away','DRV_away','NPY_away','TB_away','I20_away','RTD_away','LNR_away','LNP_away','LBR_away','LBP_away','DBR_away','DBP_away','NHA_away','S3A_away','S3C_away','L3A_away','L3C_away','STF_away','DP_away','FSP_away','OHP_away','PBEP_away','DLP_away','DSP_away','DMP_away','PFN_away']"
   ]
  },
  {
   "cell_type": "code",
   "execution_count": 91,
   "metadata": {
    "collapsed": false
   },
   "outputs": [],
   "source": [
    "# features = ['temperature','humidity','wind_speed','away_team_id','home_team_id','1QP_home','2QP_home','3QP_home','4QP_home','RFD_home','PFD_home','IFD_home','RY_home','RA_home','PY_home','PA_home','PC_home','SK_home','INT_home','FUM_home','PU_home','GPY_home','PR_home','PRY_home','KR_home','KRY_home','IR_home','IRY_home','PEN_home','TOP_home','TD_home','TDR_home','TDP_home','TDT_home','FGM_home','FGAT_home','FGY_home','RZA_home','RZC_home','BRY_home','BPY_home','SRP_home','S1RP_home','S2RP_home','S3RP_home','SPP_home','S1PP_home','S2PP_home','S3PP_home','LEA_home','LEY_home','LTA_home','LTY_home','LGA_home','LGY_home','MDA_home','MDY_home','RGA_home','RGY_home','RTA_home','RTY_home','REA_home','REY_home','R1A_home','R1Y_home','R2A_home','R2Y_home','R3A_home','R3Y_home','QBA_home','QBY_home','SLA_home','SLY_home','SMA_home','SMY_home','SRA_home','SRY_home','DLA_home','DLY_home','DMA_home','DMY_home','DRA_home','DRY_home','WR1A_home','WR1Y_home','WR3A_home','WR3Y_home','TEA_home','TEY_home','RBA_home','RBY_home','SGA_home','SGY_home','P1A_home','P1Y_home','P2A_home','P2Y_home','P3A_home','P3Y_home','SPC_home','MPC_home','LPC_home','Q1RA_home','Q1RY_home','Q1PA_home','Q1PY_home','LCRA_home','LCRY_home','LCPA_home','LCPY_home','RZRA_home','RZRY_home','RZPA_home','RZPY_home','SKY_home','LBS_home','DBS_home','SFPY_home','DRV_home','NPY_home','TB_home','I20_home','RTD_home','LNR_home','LNP_home','LBR_home','LBP_home','DBR_home','DBP_home','NHA_home','S3A_home','S3C_home','L3A_home','L3C_home','STF_home','DP_home','FSP_home','OHP_home','PBEP_home','DLP_home','DSP_home','DMP_home','PFN_home','1QP_away','2QP_away','3QP_away','4QP_away','RFD_away','PFD_away','IFD_away','RY_away','RA_away','PY_away','PA_away','PC_away','SK_away','INT_away','FUM_away','PU_away','GPY_away','PR_away','PRY_away','KR_away','KRY_away','IR_away','IRY_away','PEN_away','TOP_away','TD_away','TDR_away','TDP_away','TDT_away','FGM_away','FGAT_away','FGY_away','RZA_away','RZC_away','BRY_away','BPY_away','SRP_away','S1RP_away','S2RP_away','S3RP_away','SPP_away','S1PP_away','S2PP_away','S3PP_away','LEA_away','LEY_away','LTA_away','LTY_away','LGA_away','LGY_away','MDA_away','MDY_away','RGA_away','RGY_away','RTA_away','RTY_away','REA_away','REY_away','R1A_away','R1Y_away','R2A_away','R2Y_away','R3A_away','R3Y_away','QBA_away','QBY_away','SLA_away','SLY_away','SMA_away','SMY_away','SRA_away','SRY_away','DLA_away','DLY_away','DMA_away','DMY_away','DRA_away','DRY_away','WR1A_away','WR1Y_away','WR3A_away','WR3Y_away','TEA_away','TEY_away','RBA_away','RBY_away','SGA_away','SGY_away','P1A_away','P1Y_away','P2A_away','P2Y_away','P3A_away','P3Y_away','SPC_away','MPC_away','LPC_away','Q1RA_away','Q1RY_away','Q1PA_away','Q1PY_away','LCRA_away','LCRY_away','LCPA_away','LCPY_away','RZRA_away','RZRY_away','RZPA_away','RZPY_away','SKY_away','LBS_away','DBS_away','SFPY_away','DRV_away','NPY_away','TB_away','I20_away','RTD_away','LNR_away','LNP_away','LBR_away','LBP_away','DBR_away','DBP_away','NHA_away','S3A_away','S3C_away','L3A_away','L3C_away','STF_away','DP_away','FSP_away','OHP_away','PBEP_away','DLP_away','DSP_away','DMP_away','PFN_away']\n",
    "# features.remove('TD_home')\n",
    "# features.remove('FGM_home')\n",
    "# features.remove('TD_away')\n",
    "# features.remove('FGM_away')\n",
    "# features.remove('TB_away')\n",
    "#features.remove(['TD_home','FGM_home','TD_away','FGM_away','TB_away'])\n",
    "#features = ['temperature','humidity','wind_speed','over_or_under','away_team_id','home_team_id']\n",
    "#features = ['temperature','humidity','wind_speed','over_or_under','visitor_point_spread','1QP_home','2QP_home','3QP_home','1QP_away','2QP_away','3QP_away']"
   ]
  },
  {
   "cell_type": "code",
   "execution_count": 92,
   "metadata": {
    "collapsed": false
   },
   "outputs": [],
   "source": [
    "#features = ['temperature','humidity','wind_speed','over_or_under','visitor_point_spread','1QP_home','2QP_home','3QP_home','4QP_home','RFD_home','PFD_home','IFD_home','1QP_away','2QP_away','3QP_away','4QP_away','RFD_away','PFD_away','IFD_away']\n"
   ]
  },
  {
   "cell_type": "code",
   "execution_count": 93,
   "metadata": {
    "collapsed": false
   },
   "outputs": [
    {
     "data": {
      "text/plain": [
       "145"
      ]
     },
     "execution_count": 93,
     "metadata": {},
     "output_type": "execute_result"
    }
   ],
   "source": [
    "len(features)"
   ]
  },
  {
   "cell_type": "code",
   "execution_count": 101,
   "metadata": {
    "collapsed": false
   },
   "outputs": [
    {
     "name": "stdout",
     "output_type": "stream",
     "text": [
      "[ -4.51100301e-03   1.20410097e-03  -8.23425689e-04  -1.25718418e-03\n",
      "  -3.82653671e-03   1.30144859e-02   7.76398953e-02   1.12906299e-01\n",
      "   1.18424996e-01   1.30725624e-01   1.52494639e-01   4.32216641e-02\n",
      "   5.54963950e-02   4.65576067e-02   2.49193103e-03   6.58978508e-03\n",
      "   3.40673746e-03  -2.74945751e-02   7.79269725e-03  -1.04631630e-01\n",
      "  -3.73276556e-01  -6.51072965e-01  -1.55074968e-01  -1.42191894e-03\n",
      "   3.10985457e-02   4.99939671e-03  -3.27913146e-01  -6.52293291e-03\n",
      "   3.73276556e-01   1.19854706e-02  -6.41221544e-03   7.68703752e-03\n",
      "   9.47889927e-01   6.82325551e-01   8.98269453e-01   1.00652752e+00\n",
      "   2.50822718e-01   2.81507070e-02   8.38019115e-03   1.45090761e-01\n",
      "   5.77881420e-01   4.55018709e-03   5.40907987e-03   1.72466668e-02\n",
      "   2.59646094e-02   2.54515835e-02   7.60142377e-02   2.26689214e-02\n",
      "  -1.68754755e-03   4.37153554e-02   8.69240505e-02   2.47879101e-02\n",
      "   3.80687171e-03   3.06771532e-02   3.75870765e-03   1.53605507e-02\n",
      "   2.96470624e-03   1.47272814e-04   4.34790561e-03   2.25403274e-02\n",
      "   4.52204720e-03  -5.25101215e-03   4.88410635e-03   2.87782257e-02\n",
      "   1.97654782e-03   1.67662024e-02   2.07987892e-03   1.25435887e-02\n",
      "   4.19480909e-03  -4.63459420e-03   8.68234010e-03  -6.20232766e-02\n",
      "  -2.43857772e-03  -2.43347193e-02   3.78248228e-03  -3.27226865e-02\n",
      "   6.33962380e-04  -3.50865356e-02   3.61311699e-03  -3.68978444e-02\n",
      "   3.81543628e-03  -5.38565285e-02   3.16232816e-03  -2.13653561e-02\n",
      "   4.38113113e-03  -2.00893838e-02   2.35310486e-03  -3.01332766e-02\n",
      "   1.36755961e-03  -3.30613288e-02   1.68640689e-03  -3.03042372e-02\n",
      "   2.33808303e-03  -2.04058419e-02   5.18515178e-04  -3.86590618e-02\n",
      "   2.36517364e-03  -3.83413210e-02   3.96011431e-03  -1.15259712e-01\n",
      "   4.21057154e-03   2.51015696e-03   6.49394892e-04   5.03808166e-02\n",
      "  -5.96997935e-02   3.01289625e-04   2.46994054e-02   4.66281627e-03\n",
      "  -3.64570858e-02  -1.43981500e-03   2.16546630e-02   5.71595157e-04\n",
      "   3.60948848e-02   1.82352511e-02  -1.54598418e-02   2.11286976e-02\n",
      "  -1.68934171e-02  -6.85145029e-02  -1.37763245e-01   4.59979227e-03\n",
      "  -2.53317388e-01  -8.45199771e-04  -5.01276766e-02   2.33934461e-02\n",
      "   1.52861349e+00   3.72013106e-03  -1.20385407e-03  -1.16562999e-03\n",
      "  -2.93286533e-02   5.45700846e-03  -2.13891821e-02  -7.10494130e-03\n",
      "  -9.45191271e-02   5.39447953e-02  -7.09802779e-02   1.09131412e-01\n",
      "   1.30749939e-02   1.60856495e-01  -5.60024014e-02  -6.13606160e-02\n",
      "  -4.44752123e-02  -3.76644485e-02  -1.56682769e-02  -3.22458145e-02\n",
      "  -6.32189443e-02]\n"
     ]
    },
    {
     "data": {
      "text/html": [
       "<div style=\"max-height:1000px;max-width:1500px;overflow:auto;\">\n",
       "<table border=\"1\" class=\"dataframe\">\n",
       "  <thead>\n",
       "    <tr style=\"text-align: right;\">\n",
       "      <th></th>\n",
       "      <th>Linear Regression</th>\n",
       "      <th>Linear Regression Normalized</th>\n",
       "      <th>Ridge Regression</th>\n",
       "      <th>Ridge Regression Normalized</th>\n",
       "      <th>Lasso Regression</th>\n",
       "      <th>Lasso Regression Normalized</th>\n",
       "    </tr>\n",
       "  </thead>\n",
       "  <tbody>\n",
       "    <tr>\n",
       "      <th>2001</th>\n",
       "      <td> 100.000</td>\n",
       "      <td> 100.000</td>\n",
       "      <td> 100.000</td>\n",
       "      <td> 92.258065</td>\n",
       "      <td> 97.419355</td>\n",
       "      <td> 54.193548</td>\n",
       "    </tr>\n",
       "    <tr>\n",
       "      <th>2002</th>\n",
       "      <td>  99.375</td>\n",
       "      <td>  99.375</td>\n",
       "      <td>  99.375</td>\n",
       "      <td> 93.125000</td>\n",
       "      <td> 95.000000</td>\n",
       "      <td> 59.375000</td>\n",
       "    </tr>\n",
       "    <tr>\n",
       "      <th>2003</th>\n",
       "      <td>  98.750</td>\n",
       "      <td>  98.750</td>\n",
       "      <td>  98.750</td>\n",
       "      <td> 92.500000</td>\n",
       "      <td> 95.000000</td>\n",
       "      <td> 61.875000</td>\n",
       "    </tr>\n",
       "    <tr>\n",
       "      <th>2004</th>\n",
       "      <td> 100.000</td>\n",
       "      <td> 100.000</td>\n",
       "      <td> 100.000</td>\n",
       "      <td> 94.375000</td>\n",
       "      <td> 99.375000</td>\n",
       "      <td> 55.000000</td>\n",
       "    </tr>\n",
       "    <tr>\n",
       "      <th>2005</th>\n",
       "      <td>  99.375</td>\n",
       "      <td>  99.375</td>\n",
       "      <td>  99.375</td>\n",
       "      <td> 90.625000</td>\n",
       "      <td> 96.250000</td>\n",
       "      <td> 56.875000</td>\n",
       "    </tr>\n",
       "    <tr>\n",
       "      <th>2006</th>\n",
       "      <td>  99.375</td>\n",
       "      <td>  99.375</td>\n",
       "      <td>  99.375</td>\n",
       "      <td> 90.625000</td>\n",
       "      <td> 96.875000</td>\n",
       "      <td> 53.125000</td>\n",
       "    </tr>\n",
       "    <tr>\n",
       "      <th>2007</th>\n",
       "      <td> 100.000</td>\n",
       "      <td> 100.000</td>\n",
       "      <td> 100.000</td>\n",
       "      <td> 96.250000</td>\n",
       "      <td> 98.125000</td>\n",
       "      <td> 54.375000</td>\n",
       "    </tr>\n",
       "    <tr>\n",
       "      <th>2008</th>\n",
       "      <td>  99.375</td>\n",
       "      <td>  99.375</td>\n",
       "      <td>  99.375</td>\n",
       "      <td> 92.500000</td>\n",
       "      <td> 96.250000</td>\n",
       "      <td> 56.250000</td>\n",
       "    </tr>\n",
       "    <tr>\n",
       "      <th>2009</th>\n",
       "      <td> 100.000</td>\n",
       "      <td> 100.000</td>\n",
       "      <td> 100.000</td>\n",
       "      <td> 93.125000</td>\n",
       "      <td> 96.250000</td>\n",
       "      <td> 58.125000</td>\n",
       "    </tr>\n",
       "    <tr>\n",
       "      <th>2010</th>\n",
       "      <td> 100.000</td>\n",
       "      <td> 100.000</td>\n",
       "      <td> 100.000</td>\n",
       "      <td> 95.625000</td>\n",
       "      <td> 97.500000</td>\n",
       "      <td> 57.500000</td>\n",
       "    </tr>\n",
       "    <tr>\n",
       "      <th>2011</th>\n",
       "      <td> 100.000</td>\n",
       "      <td> 100.000</td>\n",
       "      <td> 100.000</td>\n",
       "      <td> 90.000000</td>\n",
       "      <td> 93.750000</td>\n",
       "      <td> 54.375000</td>\n",
       "    </tr>\n",
       "    <tr>\n",
       "      <th>2012</th>\n",
       "      <td> 100.000</td>\n",
       "      <td> 100.000</td>\n",
       "      <td> 100.000</td>\n",
       "      <td> 92.500000</td>\n",
       "      <td> 93.125000</td>\n",
       "      <td> 52.500000</td>\n",
       "    </tr>\n",
       "    <tr>\n",
       "      <th>2013</th>\n",
       "      <td>  98.125</td>\n",
       "      <td>  98.125</td>\n",
       "      <td>  98.125</td>\n",
       "      <td> 90.625000</td>\n",
       "      <td> 93.750000</td>\n",
       "      <td> 57.500000</td>\n",
       "    </tr>\n",
       "  </tbody>\n",
       "</table>\n",
       "<p>13 rows × 6 columns</p>\n",
       "</div>"
      ],
      "text/plain": [
       "      Linear Regression  Linear Regression Normalized  Ridge Regression  \\\n",
       "2001            100.000                       100.000           100.000   \n",
       "2002             99.375                        99.375            99.375   \n",
       "2003             98.750                        98.750            98.750   \n",
       "2004            100.000                       100.000           100.000   \n",
       "2005             99.375                        99.375            99.375   \n",
       "2006             99.375                        99.375            99.375   \n",
       "2007            100.000                       100.000           100.000   \n",
       "2008             99.375                        99.375            99.375   \n",
       "2009            100.000                       100.000           100.000   \n",
       "2010            100.000                       100.000           100.000   \n",
       "2011            100.000                       100.000           100.000   \n",
       "2012            100.000                       100.000           100.000   \n",
       "2013             98.125                        98.125            98.125   \n",
       "\n",
       "      Ridge Regression Normalized  Lasso Regression  \\\n",
       "2001                    92.258065         97.419355   \n",
       "2002                    93.125000         95.000000   \n",
       "2003                    92.500000         95.000000   \n",
       "2004                    94.375000         99.375000   \n",
       "2005                    90.625000         96.250000   \n",
       "2006                    90.625000         96.875000   \n",
       "2007                    96.250000         98.125000   \n",
       "2008                    92.500000         96.250000   \n",
       "2009                    93.125000         96.250000   \n",
       "2010                    95.625000         97.500000   \n",
       "2011                    90.000000         93.750000   \n",
       "2012                    92.500000         93.125000   \n",
       "2013                    90.625000         93.750000   \n",
       "\n",
       "      Lasso Regression Normalized  \n",
       "2001                    54.193548  \n",
       "2002                    59.375000  \n",
       "2003                    61.875000  \n",
       "2004                    55.000000  \n",
       "2005                    56.875000  \n",
       "2006                    53.125000  \n",
       "2007                    54.375000  \n",
       "2008                    56.250000  \n",
       "2009                    58.125000  \n",
       "2010                    57.500000  \n",
       "2011                    54.375000  \n",
       "2012                    52.500000  \n",
       "2013                    57.500000  \n",
       "\n",
       "[13 rows x 6 columns]"
      ]
     },
     "execution_count": 101,
     "metadata": {},
     "output_type": "execute_result"
    }
   ],
   "source": [
    "clfs = [LinearRegression(fit_intercept=True),\n",
    "        LinearRegression(fit_intercept=True, normalize=True),\n",
    "        Ridge(fit_intercept=True),\n",
    "        Ridge(fit_intercept=True, normalize=True),\n",
    "        Lasso(fit_intercept=True),\n",
    "        Lasso(fit_intercept=True, normalize=True)]\n",
    "clf_names = ['Linear Regression', 'Linear Regression Normalized',\n",
    "             'Ridge Regression', 'Ridge Regression Normalized',\n",
    "             'Lasso Regression', 'Lasso Regression Normalized']\n",
    "\n",
    "train_results = []\n",
    "models = {}\n",
    "for (i, clf_) in enumerate(clfs):\n",
    "    data = trainDF[trainDF.year >= 2001]\n",
    "    X = data.ix[:, features]\n",
    "    y = data.ix[:, 'score_diff']\n",
    "    clf = clf_.fit(X, y)\n",
    "    models[clf_names[i]] = clf\n",
    "    if clf_names[i] == 'Ridge Regression Normalized':\n",
    "        print clf.coef_\n",
    "    predicted_train = clf.predict(X)\n",
    "    p = [int(round(val)) for val in predicted_train]\n",
    "    data['predicted_score_diff'] = pd.Series(p, index=data.index)\n",
    "    data['correct_prediction'] = data.apply(lambda x: get_correct(x['score_diff'], x['predicted_score_diff']), axis=1)\n",
    "    years = [int(y) for y in unique(data.year)]\n",
    "    ansdf = {}\n",
    "    for y in years:\n",
    "        ansdf[y] = data[data.year == y]\n",
    "    accuracy = check_accuracy(ansdf)\n",
    "    accuracy = pd.DataFrame(accuracy).T\n",
    "    accuracy.columns = ['num_games', 'num_correct_prediction', 'pct_correct_prediction']\n",
    "    accuracy = accuracy[['pct_correct_prediction']]\n",
    "    accuracy.columns = [clf_names[i]]\n",
    "    train_results.append(accuracy.T)\n",
    "\n",
    "train_resultdf = pd.concat(train_results).T\n",
    "train_resultdf"
   ]
  },
  {
   "cell_type": "code",
   "execution_count": 95,
   "metadata": {
    "collapsed": false
   },
   "outputs": [
    {
     "data": {
      "image/png": "[encoded data removed]",
      "text/plain": [
       "<matplotlib.figure.Figure at 0x7f1b2684c290>"
      ]
     },
     "metadata": {},
     "output_type": "display_data"
    }
   ],
   "source": [
    "train_resultdf.plot(kind='bar', figsize=(17, 8))\n",
    "plt.grid(b=True, which='major', color='gray', linestyle=':')\n",
    "plt.xlabel('Years')\n",
    "plt.ylabel('Prediction accurcay')\n",
    "plt.ylim([0, 100])\n",
    "plt.legend(loc='upper center', bbox_to_anchor=(0.5, -0.1), fancybox=True, shadow=True, ncol=3)\n",
    "plt.show()"
   ]
  },
  {
   "cell_type": "code",
   "execution_count": 96,
   "metadata": {
    "collapsed": false
   },
   "outputs": [
    {
     "data": {
      "text/html": [
       "<div style=\"max-height:1000px;max-width:1500px;overflow:auto;\">\n",
       "<table border=\"1\" class=\"dataframe\">\n",
       "  <thead>\n",
       "    <tr style=\"text-align: right;\">\n",
       "      <th></th>\n",
       "      <th>Ridge Regression Normalized</th>\n",
       "      <th>Lasso Regression Normalized</th>\n",
       "      <th>Lasso Regression</th>\n",
       "      <th>Ridge Regression</th>\n",
       "      <th>Linear Regression</th>\n",
       "      <th>Linear Regression Normalized</th>\n",
       "    </tr>\n",
       "  </thead>\n",
       "  <tbody>\n",
       "    <tr>\n",
       "      <th>2001</th>\n",
       "      <td> 94.230769</td>\n",
       "      <td> 57.692308</td>\n",
       "      <td> 97.115385</td>\n",
       "      <td> 100.000000</td>\n",
       "      <td> 100.000000</td>\n",
       "      <td> 100.000000</td>\n",
       "    </tr>\n",
       "    <tr>\n",
       "      <th>2002</th>\n",
       "      <td> 94.392523</td>\n",
       "      <td> 57.943925</td>\n",
       "      <td> 95.327103</td>\n",
       "      <td>  99.065421</td>\n",
       "      <td>  99.065421</td>\n",
       "      <td>  99.065421</td>\n",
       "    </tr>\n",
       "    <tr>\n",
       "      <th>2003</th>\n",
       "      <td> 94.392523</td>\n",
       "      <td> 60.747664</td>\n",
       "      <td> 98.130841</td>\n",
       "      <td>  99.065421</td>\n",
       "      <td>  99.065421</td>\n",
       "      <td>  98.130841</td>\n",
       "    </tr>\n",
       "    <tr>\n",
       "      <th>2004</th>\n",
       "      <td> 90.654206</td>\n",
       "      <td> 58.878505</td>\n",
       "      <td> 93.457944</td>\n",
       "      <td> 100.000000</td>\n",
       "      <td> 100.000000</td>\n",
       "      <td> 100.000000</td>\n",
       "    </tr>\n",
       "    <tr>\n",
       "      <th>2005</th>\n",
       "      <td> 94.392523</td>\n",
       "      <td> 60.747664</td>\n",
       "      <td> 95.327103</td>\n",
       "      <td> 100.000000</td>\n",
       "      <td> 100.000000</td>\n",
       "      <td> 100.000000</td>\n",
       "    </tr>\n",
       "    <tr>\n",
       "      <th>2006</th>\n",
       "      <td> 95.327103</td>\n",
       "      <td> 55.140187</td>\n",
       "      <td> 97.196262</td>\n",
       "      <td> 100.000000</td>\n",
       "      <td> 100.000000</td>\n",
       "      <td> 100.000000</td>\n",
       "    </tr>\n",
       "    <tr>\n",
       "      <th>2007</th>\n",
       "      <td> 96.261682</td>\n",
       "      <td> 60.747664</td>\n",
       "      <td> 95.327103</td>\n",
       "      <td>  99.065421</td>\n",
       "      <td>  99.065421</td>\n",
       "      <td>  99.065421</td>\n",
       "    </tr>\n",
       "    <tr>\n",
       "      <th>2008</th>\n",
       "      <td> 91.588785</td>\n",
       "      <td> 57.009346</td>\n",
       "      <td> 94.392523</td>\n",
       "      <td>  98.130841</td>\n",
       "      <td>  98.130841</td>\n",
       "      <td>  98.130841</td>\n",
       "    </tr>\n",
       "    <tr>\n",
       "      <th>2009</th>\n",
       "      <td> 91.588785</td>\n",
       "      <td> 56.074766</td>\n",
       "      <td> 95.327103</td>\n",
       "      <td> 100.000000</td>\n",
       "      <td> 100.000000</td>\n",
       "      <td> 100.000000</td>\n",
       "    </tr>\n",
       "    <tr>\n",
       "      <th>2010</th>\n",
       "      <td> 92.523364</td>\n",
       "      <td> 52.336449</td>\n",
       "      <td> 94.392523</td>\n",
       "      <td>  99.065421</td>\n",
       "      <td>  99.065421</td>\n",
       "      <td>  99.065421</td>\n",
       "    </tr>\n",
       "    <tr>\n",
       "      <th>2011</th>\n",
       "      <td> 95.327103</td>\n",
       "      <td> 61.682243</td>\n",
       "      <td> 98.130841</td>\n",
       "      <td> 100.000000</td>\n",
       "      <td> 100.000000</td>\n",
       "      <td> 100.000000</td>\n",
       "    </tr>\n",
       "    <tr>\n",
       "      <th>2012</th>\n",
       "      <td> 92.523364</td>\n",
       "      <td> 63.551402</td>\n",
       "      <td> 97.196262</td>\n",
       "      <td>  99.065421</td>\n",
       "      <td>  99.065421</td>\n",
       "      <td>  99.065421</td>\n",
       "    </tr>\n",
       "    <tr>\n",
       "      <th>2013</th>\n",
       "      <td> 95.327103</td>\n",
       "      <td> 62.616822</td>\n",
       "      <td> 98.130841</td>\n",
       "      <td>  99.065421</td>\n",
       "      <td>  99.065421</td>\n",
       "      <td>  99.065421</td>\n",
       "    </tr>\n",
       "  </tbody>\n",
       "</table>\n",
       "<p>13 rows × 6 columns</p>\n",
       "</div>"
      ],
      "text/plain": [
       "      Ridge Regression Normalized  Lasso Regression Normalized  \\\n",
       "2001                    94.230769                    57.692308   \n",
       "2002                    94.392523                    57.943925   \n",
       "2003                    94.392523                    60.747664   \n",
       "2004                    90.654206                    58.878505   \n",
       "2005                    94.392523                    60.747664   \n",
       "2006                    95.327103                    55.140187   \n",
       "2007                    96.261682                    60.747664   \n",
       "2008                    91.588785                    57.009346   \n",
       "2009                    91.588785                    56.074766   \n",
       "2010                    92.523364                    52.336449   \n",
       "2011                    95.327103                    61.682243   \n",
       "2012                    92.523364                    63.551402   \n",
       "2013                    95.327103                    62.616822   \n",
       "\n",
       "      Lasso Regression  Ridge Regression  Linear Regression  \\\n",
       "2001         97.115385        100.000000         100.000000   \n",
       "2002         95.327103         99.065421          99.065421   \n",
       "2003         98.130841         99.065421          99.065421   \n",
       "2004         93.457944        100.000000         100.000000   \n",
       "2005         95.327103        100.000000         100.000000   \n",
       "2006         97.196262        100.000000         100.000000   \n",
       "2007         95.327103         99.065421          99.065421   \n",
       "2008         94.392523         98.130841          98.130841   \n",
       "2009         95.327103        100.000000         100.000000   \n",
       "2010         94.392523         99.065421          99.065421   \n",
       "2011         98.130841        100.000000         100.000000   \n",
       "2012         97.196262         99.065421          99.065421   \n",
       "2013         98.130841         99.065421          99.065421   \n",
       "\n",
       "      Linear Regression Normalized  \n",
       "2001                    100.000000  \n",
       "2002                     99.065421  \n",
       "2003                     98.130841  \n",
       "2004                    100.000000  \n",
       "2005                    100.000000  \n",
       "2006                    100.000000  \n",
       "2007                     99.065421  \n",
       "2008                     98.130841  \n",
       "2009                    100.000000  \n",
       "2010                     99.065421  \n",
       "2011                    100.000000  \n",
       "2012                     99.065421  \n",
       "2013                     99.065421  \n",
       "\n",
       "[13 rows x 6 columns]"
      ]
     },
     "execution_count": 96,
     "metadata": {},
     "output_type": "execute_result"
    }
   ],
   "source": [
    "test_results = []\n",
    "for model_name, model in models.iteritems():\n",
    "    data_test = testDF[testDF.year > 2000]\n",
    "    X_test = data_test.ix[:, features]\n",
    "    y_test = data_test.ix[:, 'score_diff']\n",
    "    predicted_test = model.predict(X_test)\n",
    "    pt = [int(round(val)) for val in predicted_test]\n",
    "    data_test['predicted_score_diff'] = pd.Series(pt, index=data_test.index)\n",
    "    data_test['correct_prediction'] = data_test.apply(lambda x: get_correct(x['score_diff'], x['predicted_score_diff']), axis=1)\n",
    "    years = [int(y) for y in unique(data_test.year)]\n",
    "    ansdf = {}\n",
    "    for y in years:\n",
    "        ansdf[y] = data_test[data_test.year == y]\n",
    "    accuracy = check_accuracy(ansdf)\n",
    "    accuracy = pd.DataFrame(accuracy).T\n",
    "    accuracy.columns = ['num_games', 'num_correct_prediction', 'pct_correct_prediction']\n",
    "    accuracy = accuracy[['pct_correct_prediction']]\n",
    "    accuracy.columns = [model_name]\n",
    "    test_results.append(accuracy.T)\n",
    "\n",
    "test_resultdf = pd.concat(test_results).T\n",
    "test_resultdf"
   ]
  },
  {
   "cell_type": "code",
   "execution_count": 97,
   "metadata": {
    "collapsed": false
   },
   "outputs": [
    {
     "data": {
      "image/png": "[encoded data removed]",
      "text/plain": [
       "<matplotlib.figure.Figure at 0x7f1b26538890>"
      ]
     },
     "metadata": {},
     "output_type": "display_data"
    }
   ],
   "source": [
    "test_resultdf.plot(kind='bar', figsize=(17, 8))\n",
    "plt.grid(b=True, which='major', color='gray', linestyle=':')\n",
    "plt.xlabel('Years')\n",
    "plt.ylabel('Prediction accurcay')\n",
    "plt.ylim([0, 100])\n",
    "plt.legend(loc='upper center', bbox_to_anchor=(0.5, -0.1), fancybox=True, shadow=True, ncol=3)\n",
    "plt.show()"
   ]
  },
  {
   "cell_type": "markdown",
   "metadata": {},
   "source": [
    "---"
   ]
  },
  {
   "cell_type": "code",
   "execution_count": 98,
   "metadata": {
    "collapsed": false
   },
   "outputs": [],
   "source": [
    "# def get_game_features(g, gamesTillNow, itr, alpha):\n",
    "#     hTeam = g.home_team\n",
    "#     aTeam = g.away_team\n",
    "#     gameYear = int(g.year)\n",
    "\n",
    "#     games = []    \n",
    "#     for row, game in gamesTillNow.iterrows():\n",
    "#         rhTeam = game.home_team\n",
    "#         raTeam = game.away_team\n",
    "#         if ((rhTeam == hTeam) or (rhTeam == aTeam) or (raTeam == hTeam) or (raTeam == aTeam)):\n",
    "#             games.append(pd.DataFrame(game).T)\n",
    "#     games = games[-itr:]\n",
    "#     numGames = len(games)\n",
    "#     games = pd.concat(games)\n",
    "#     games = games[features]\n",
    "    \n",
    "#     numGames = len(games.index)\n",
    "#     weights = []\n",
    "#     for i in xrange(1, numGames+1):\n",
    "#         weights.append(alpha**i)\n",
    "#     weights = np.array(weights)\n",
    "#     average = (games.mul(weights[::-1], axis=0)/float(sum(weights)))\n",
    "#     average = pd.DataFrame(average.sum()).T.apply(np.round)\n",
    "#     return (numGames, average[features])"
   ]
  },
  {
   "cell_type": "code",
   "execution_count": 99,
   "metadata": {
    "collapsed": false
   },
   "outputs": [],
   "source": [
    "def get_game_features(g, gamesTillNow, itr, alpha):\n",
    "    hTeam = g.home_team\n",
    "    aTeam = g.away_team\n",
    "    gameYear = int(g.year)\n",
    "    \n",
    "\n",
    "    games = []    \n",
    "#     for row, game in gamesTillNow.iterrows():\n",
    "#         rhTeam = game.home_team\n",
    "#         raTeam = game.away_team\n",
    "#         if ((rhTeam == hTeam) or (rhTeam == aTeam) or (raTeam == hTeam) or (raTeam == aTeam)):\n",
    "#             games.append(pd.DataFrame(game).T)\n",
    "    games = gamesTillNow.loc[(((gamesTillNow['home_team']==hTeam) | (gamesTillNow['away_team']==aTeam))|((gamesTillNow['home_team']==aTeam) | (gamesTillNow['away_team']==hTeam))),features]\n",
    "    #games = gamesTillNow.loc[gamesTillNow['home_team']==hTeam | gamesTillNow['home_team']==aTeam | gamesTillNow['away_team']==hTeam | gamesTillNow['away_team']==aTeam,features]\n",
    "    #games = games[-itr:]\n",
    "    numGames = len(games)\n",
    "    #games = pd.concat(games)\n",
    "    #games = games[features]\n",
    "    \n",
    "    numGames = len(games.index)\n",
    "    weights = []\n",
    "    for i in xrange(1, numGames+1):\n",
    "        weights.append(alpha**i)\n",
    "    weights = np.array(weights)\n",
    "    average = (games.mul(weights[::-1], axis=0)/float(sum(weights)))\n",
    "    average = pd.DataFrame(average.sum()).T.apply(np.round)\n",
    "    return (numGames, average[features])"
   ]
  },
  {
   "cell_type": "code",
   "execution_count": 100,
   "metadata": {
    "collapsed": false
   },
   "outputs": [
    {
     "data": {
      "text/html": [
       "<div style=\"max-height:1000px;max-width:1500px;overflow:auto;\">\n",
       "<table border=\"1\" class=\"dataframe\">\n",
       "  <thead>\n",
       "    <tr style=\"text-align: right;\">\n",
       "      <th></th>\n",
       "      <th>Ridge Regression Normalized</th>\n",
       "      <th>Lasso Regression Normalized</th>\n",
       "      <th>Lasso Regression</th>\n",
       "      <th>Ridge Regression</th>\n",
       "      <th>Linear Regression</th>\n",
       "      <th>Linear Regression Normalized</th>\n",
       "    </tr>\n",
       "  </thead>\n",
       "  <tbody>\n",
       "    <tr>\n",
       "      <th>2008</th>\n",
       "      <td> 56.074766</td>\n",
       "      <td> 57.009346</td>\n",
       "      <td> 55.140187</td>\n",
       "      <td> 46.728972</td>\n",
       "      <td> 49.532710</td>\n",
       "      <td> 45.794393</td>\n",
       "    </tr>\n",
       "    <tr>\n",
       "      <th>2009</th>\n",
       "      <td> 55.140187</td>\n",
       "      <td> 56.074766</td>\n",
       "      <td> 51.401869</td>\n",
       "      <td> 42.990654</td>\n",
       "      <td> 48.598131</td>\n",
       "      <td> 45.794393</td>\n",
       "    </tr>\n",
       "    <tr>\n",
       "      <th>2010</th>\n",
       "      <td> 51.401869</td>\n",
       "      <td> 52.336449</td>\n",
       "      <td> 49.532710</td>\n",
       "      <td> 42.990654</td>\n",
       "      <td> 44.859813</td>\n",
       "      <td> 52.336449</td>\n",
       "    </tr>\n",
       "    <tr>\n",
       "      <th>2011</th>\n",
       "      <td> 60.747664</td>\n",
       "      <td> 61.682243</td>\n",
       "      <td> 58.878505</td>\n",
       "      <td> 47.663551</td>\n",
       "      <td> 41.121495</td>\n",
       "      <td> 55.140187</td>\n",
       "    </tr>\n",
       "    <tr>\n",
       "      <th>2012</th>\n",
       "      <td> 62.616822</td>\n",
       "      <td> 63.551402</td>\n",
       "      <td> 60.747664</td>\n",
       "      <td> 53.271028</td>\n",
       "      <td> 47.663551</td>\n",
       "      <td> 50.467290</td>\n",
       "    </tr>\n",
       "    <tr>\n",
       "      <th>2013</th>\n",
       "      <td> 62.616822</td>\n",
       "      <td> 62.616822</td>\n",
       "      <td> 62.616822</td>\n",
       "      <td> 50.467290</td>\n",
       "      <td> 50.467290</td>\n",
       "      <td> 48.598131</td>\n",
       "    </tr>\n",
       "  </tbody>\n",
       "</table>\n",
       "<p>6 rows × 6 columns</p>\n",
       "</div>"
      ],
      "text/plain": [
       "      Ridge Regression Normalized  Lasso Regression Normalized  \\\n",
       "2008                    56.074766                    57.009346   \n",
       "2009                    55.140187                    56.074766   \n",
       "2010                    51.401869                    52.336449   \n",
       "2011                    60.747664                    61.682243   \n",
       "2012                    62.616822                    63.551402   \n",
       "2013                    62.616822                    62.616822   \n",
       "\n",
       "      Lasso Regression  Ridge Regression  Linear Regression  \\\n",
       "2008         55.140187         46.728972          49.532710   \n",
       "2009         51.401869         42.990654          48.598131   \n",
       "2010         49.532710         42.990654          44.859813   \n",
       "2011         58.878505         47.663551          41.121495   \n",
       "2012         60.747664         53.271028          47.663551   \n",
       "2013         62.616822         50.467290          50.467290   \n",
       "\n",
       "      Linear Regression Normalized  \n",
       "2008                     45.794393  \n",
       "2009                     45.794393  \n",
       "2010                     52.336449  \n",
       "2011                     55.140187  \n",
       "2012                     50.467290  \n",
       "2013                     48.598131  \n",
       "\n",
       "[6 rows x 6 columns]"
      ]
     },
     "execution_count": 100,
     "metadata": {},
     "output_type": "execute_result"
    }
   ],
   "source": [
    "test2_results = []\n",
    "for model_name, model in models.iteritems():\n",
    "    itr = 15\n",
    "    alpha = 1\n",
    "    mtemp = []\n",
    "    data_test = testDF[testDF.year > 2007]\n",
    "    for ix, game in data_test.iterrows():\n",
    "        gamesTillNow = get_games_till_now(game, data)\n",
    "        numGames, gameFeatures = get_game_features(game, gamesTillNow, itr, alpha)\n",
    "        #print gameFeatures\n",
    "        gameResult = run_model(model, gameFeatures)\n",
    "        mtemp.append(gameResult)\n",
    "\n",
    "    data_test['predicted_score_diff'] = pd.Series(mtemp, index=data_test.index)\n",
    "    cols = ['year', 'week', 'home_team', 'away_team', 'home_score', 'away_score', 'winner', 'score_diff', 'predicted_score_diff']\n",
    "    process = data_test[cols]\n",
    "    process['error'] = process.score_diff - process.predicted_score_diff\n",
    "    process['correct_prediction'] = process.apply(lambda x: get_correct(x['score_diff'], x['predicted_score_diff']), axis=1)\n",
    "    years = [int(y) for y in unique(process.year)]\n",
    "    ansdf = {}\n",
    "    for y in years:\n",
    "        ansdf[y] = process[process.year == y]\n",
    "    accuracy = check_accuracy(ansdf)\n",
    "    accuracy = pd.DataFrame(accuracy).T\n",
    "    accuracy.columns = ['num_games', 'num_correct_prediction', 'pct_correct_prediction']\n",
    "    accuracy = accuracy[['pct_correct_prediction']]\n",
    "    accuracy.columns = [model_name]\n",
    "    test2_results.append(accuracy.T)\n",
    "    \n",
    "test2_resultdf = pd.concat(test2_results).T\n",
    "test2_resultdf"
   ]
  },
  {
   "cell_type": "code",
   "execution_count": 27,
   "metadata": {
    "collapsed": false
   },
   "outputs": [
    {
     "data": {
      "image/png": "[encoded data removed]",
      "text/plain": [
       "<matplotlib.figure.Figure at 0x7f876ccac650>"
      ]
     },
     "metadata": {},
     "output_type": "display_data"
    }
   ],
   "source": [
    "test2_resultdf.plot(kind='bar', figsize=(17, 8))\n",
    "plt.grid(b=True, which='major', color='gray', linestyle=':')\n",
    "plt.xlabel('Years')\n",
    "plt.ylabel('Prediction accurcay')\n",
    "plt.ylim([0, 100])\n",
    "plt.legend(loc='upper center', bbox_to_anchor=(0.5, -0.1), fancybox=True, shadow=True, ncol=3)\n",
    "plt.show()"
   ]
  },
  {
   "cell_type": "markdown",
   "metadata": {},
   "source": [
    "---"
   ]
  },
  {
   "cell_type": "markdown",
   "metadata": {},
   "source": [
    "Notes-\n",
    "\n",
    "1 - away_score and home_score should be removed from training features\n",
    "2 - optimized performance by using dfs instead of manual iteration\n",
    "3 - subset of features works much better (results in a separate notebook)\n",
    "4 - overfitting (training error 0 (due to large num of features?))\n",
    "5 - predicted current features by linear interpolation (using alpha(weight control=0.9) and num previous games(15))..results\n",
    "in error when predicting over 285 features (all games which either team is part of are considered)-modified this to include\n",
    "those in which 'both' participated (Either as away or as home) and also by setting alpha = 1 and removing num previous games\n",
    "6 - less training data (2500 rows) considering 285 features\n",
    "7 - vast number of features makes Lasso a more meaningful choice (many co-effs are zero and hence useful for parameter selection)..normalized lasso has all co-efs zero and hence a consistent prediction all the time (intercept)\n",
    "8 - over_or_under and visitor_point_spread features have high impact on lin. reg.\n",
    "9 - modularization of notebooks - main diff. is dataset n features..so split acc. to that..combined all baseline..\n",
    "10 - new features for team ids to capture team info"
   ]
  },
  {
   "cell_type": "markdown",
   "metadata": {},
   "source": [
    "# College Football"
   ]
  },
  {
   "cell_type": "markdown",
   "metadata": {},
   "source": [
    "<a id=\"advanced_clg\"/>"
   ]
  },
  {
   "cell_type": "markdown",
   "metadata": {},
   "source": [
    "# Advanced Models"
   ]
  },
  {
   "cell_type": "markdown",
   "metadata": {},
   "source": [
    "<a id=\"linreg_sep_clg\"/>"
   ]
  },
  {
   "cell_type": "markdown",
   "metadata": {},
   "source": [
    "# Linear Regression Model with separate features"
   ]
  },
  {
   "cell_type": "code",
   "execution_count": 131,
   "metadata": {
    "collapsed": false
   },
   "outputs": [],
   "source": [
    "trainDF,testDF,features = setDataAndFeaturesForClgSeparate(trainDF,testDF,features)"
   ]
  },
  {
   "cell_type": "code",
   "execution_count": 132,
   "metadata": {
    "collapsed": false
   },
   "outputs": [],
   "source": [
    "trainDF['score_diff'] = trainDF.home_score - trainDF.away_score\n",
    "testDF['score_diff'] = testDF.home_score - testDF.away_score\n",
    "\n",
    "trainDF = trainDF.sort(column='game_id').reset_index(drop=True)\n",
    "testDF = testDF.sort(column='game_id').reset_index(drop=True)"
   ]
  },
  {
   "cell_type": "code",
   "execution_count": 133,
   "metadata": {
    "collapsed": false
   },
   "outputs": [],
   "source": [
    "#group = trainDF.groupby('away_team')\n",
    "trainDF[\"away_team_id\"] = trainDF.groupby([\"away_team\"]).grouper.group_info[0]\n",
    "trainDF[\"home_team_id\"] = trainDF.groupby([\"home_team\"]).grouper.group_info[0]\n",
    "testDF[\"away_team_id\"] = testDF.groupby([\"away_team\"]).grouper.group_info[0]\n",
    "testDF[\"home_team_id\"] = testDF.groupby([\"home_team\"]).grouper.group_info[0]"
   ]
  },
  {
   "cell_type": "code",
   "execution_count": 134,
   "metadata": {
    "collapsed": false
   },
   "outputs": [],
   "source": [
    "def get_correct(score_diff, predicted_score):\n",
    "    if ((predicted_score > 0 and score_diff > 0) or (predicted_score < 0 and score_diff < 0)):\n",
    "        return 1\n",
    "    else:\n",
    "        return 0"
   ]
  },
  {
   "cell_type": "code",
   "execution_count": 135,
   "metadata": {
    "collapsed": false
   },
   "outputs": [],
   "source": [
    "def check_accuracy(allStats):\n",
    "    accuracy = dict()\n",
    "    for year, df in allStats.iteritems():  \n",
    "        #print df.correct_prediction\n",
    "        numGames = len(df.correct_prediction)\n",
    "        numCorrect = sum(df.correct_prediction)\n",
    "        pctCorrect = numCorrect*100/float(numGames)\n",
    "        accuracy[year] = [numGames, numCorrect, pctCorrect]\n",
    "    return accuracy"
   ]
  },
  {
   "cell_type": "code",
   "execution_count": 136,
   "metadata": {
    "collapsed": false
   },
   "outputs": [],
   "source": [
    "def initialize(data):\n",
    "    X = data.ix[:, features]\n",
    "    y = data.ix[:, 'score_diff']\n",
    "    \n",
    "    reg = LinearRegression(fit_intercept=True, normalize=True)\n",
    "\n",
    "    model = reg.fit(X, y)\n",
    "    return model"
   ]
  },
  {
   "cell_type": "code",
   "execution_count": 137,
   "metadata": {
    "collapsed": false
   },
   "outputs": [],
   "source": [
    "def get_games_till_now(game, df):\n",
    "    curGameId = int(game.game_id)\n",
    "    retdf = df[df.game_id < curGameId]\n",
    "    return retdf"
   ]
  },
  {
   "cell_type": "code",
   "execution_count": 138,
   "metadata": {
    "collapsed": false
   },
   "outputs": [],
   "source": [
    "def get_game_features(g, gamesTillNow):\n",
    "    hTeam = g.home_team\n",
    "    aTeam = g.away_team\n",
    "    gameYear = int(g.year)\n",
    "\n",
    "    games = []    \n",
    "    for row, game in gamesTillNow.iterrows():\n",
    "        rhTeam = game.home_team\n",
    "        raTeam = game.away_team\n",
    "        if ((rhTeam == hTeam) or (rhTeam == aTeam) or (raTeam == hTeam) or (raTeam == aTeam)):\n",
    "            games.append(pd.DataFrame(game).T)\n",
    "    games = games[-15:]\n",
    "    numGames = len(games)\n",
    "    games = pd.concat(games)\n",
    "    average = pd.DataFrame(games[features].mean().round()).T\n",
    "    return (numGames, average[features])"
   ]
  },
  {
   "cell_type": "code",
   "execution_count": 139,
   "metadata": {
    "collapsed": false
   },
   "outputs": [],
   "source": [
    "def get_updated_data(game, df, g):\n",
    "    curGameId = int(game.game_id)\n",
    "    retdf = df[df.game_id <= curGameId]\n",
    "    return retdf[-g:]"
   ]
  },
  {
   "cell_type": "code",
   "execution_count": 140,
   "metadata": {
    "collapsed": false
   },
   "outputs": [],
   "source": [
    "def train_updated_model(data):\n",
    "    X = data.ix[:, features]\n",
    "    y = data.ix[:, 'score_diff']\n",
    "\n",
    "    reg = LinearRegression(fit_intercept=True, normalize=True)\n",
    "\n",
    "    model = reg.fit(X, y)\n",
    "    return model"
   ]
  },
  {
   "cell_type": "code",
   "execution_count": 141,
   "metadata": {
    "collapsed": false
   },
   "outputs": [],
   "source": [
    "def run_model(model, gameFeatures):\n",
    "    gameResult = int(model.predict(gameFeatures[features]).round())\n",
    "    return gameResult"
   ]
  },
  {
   "cell_type": "code",
   "execution_count": 142,
   "metadata": {
    "collapsed": false
   },
   "outputs": [],
   "source": [
    "#features = ['temperature','humidity','wind_speed','over_or_under','visitor_point_spread','away_score','home_score','1QP_home','2QP_home','3QP_home','4QP_home','RFD_home','PFD_home','IFD_home','RY_home','RA_home','PY_home','PA_home','PC_home','SK_home','INT_home','FUM_home','PU_home','GPY_home','PR_home','PRY_home','KR_home','KRY_home','IR_home','IRY_home','PEN_home','TOP_home','TD_home','TDR_home','TDP_home','TDT_home','FGM_home','FGAT_home','FGY_home','RZA_home','RZC_home','BRY_home','BPY_home','SRP_home','S1RP_home','S2RP_home','S3RP_home','SPP_home','S1PP_home','S2PP_home','S3PP_home','LEA_home','LEY_home','LTA_home','LTY_home','LGA_home','LGY_home','MDA_home','MDY_home','RGA_home','RGY_home','RTA_home','RTY_home','REA_home','REY_home','R1A_home','R1Y_home','R2A_home','R2Y_home','R3A_home','R3Y_home','QBA_home','QBY_home','SLA_home','SLY_home','SMA_home','SMY_home','SRA_home','SRY_home','DLA_home','DLY_home','DMA_home','DMY_home','DRA_home','DRY_home','WR1A_home','WR1Y_home','WR3A_home','WR3Y_home','TEA_home','TEY_home','RBA_home','RBY_home','SGA_home','SGY_home','P1A_home','P1Y_home','P2A_home','P2Y_home','P3A_home','P3Y_home','SPC_home','MPC_home','LPC_home','Q1RA_home','Q1RY_home','Q1PA_home','Q1PY_home','LCRA_home','LCRY_home','LCPA_home','LCPY_home','RZRA_home','RZRY_home','RZPA_home','RZPY_home','SKY_home','LBS_home','DBS_home','SFPY_home','DRV_home','NPY_home','TB_home','I20_home','RTD_home','LNR_home','LNP_home','LBR_home','LBP_home','DBR_home','DBP_home','NHA_home','S3A_home','S3C_home','L3A_home','L3C_home','STF_home','DP_home','FSP_home','OHP_home','PBEP_home','DLP_home','DSP_home','DMP_home','PFN_home','1QP_away','2QP_away','3QP_away','4QP_away','RFD_away','PFD_away','IFD_away','RY_away','RA_away','PY_away','PA_away','PC_away','SK_away','INT_away','FUM_away','PU_away','GPY_away','PR_away','PRY_away','KR_away','KRY_away','IR_away','IRY_away','PEN_away','TOP_away','TD_away','TDR_away','TDP_away','TDT_away','FGM_away','FGAT_away','FGY_away','RZA_away','RZC_away','BRY_away','BPY_away','SRP_away','S1RP_away','S2RP_away','S3RP_away','SPP_away','S1PP_away','S2PP_away','S3PP_away','LEA_away','LEY_away','LTA_away','LTY_away','LGA_away','LGY_away','MDA_away','MDY_away','RGA_away','RGY_away','RTA_away','RTY_away','REA_away','REY_away','R1A_away','R1Y_away','R2A_away','R2Y_away','R3A_away','R3Y_away','QBA_away','QBY_away','SLA_away','SLY_away','SMA_away','SMY_away','SRA_away','SRY_away','DLA_away','DLY_away','DMA_away','DMY_away','DRA_away','DRY_away','WR1A_away','WR1Y_away','WR3A_away','WR3Y_away','TEA_away','TEY_away','RBA_away','RBY_away','SGA_away','SGY_away','P1A_away','P1Y_away','P2A_away','P2Y_away','P3A_away','P3Y_away','SPC_away','MPC_away','LPC_away','Q1RA_away','Q1RY_away','Q1PA_away','Q1PY_away','LCRA_away','LCRY_away','LCPA_away','LCPY_away','RZRA_away','RZRY_away','RZPA_away','RZPY_away','SKY_away','LBS_away','DBS_away','SFPY_away','DRV_away','NPY_away','TB_away','I20_away','RTD_away','LNR_away','LNP_away','LBR_away','LBP_away','DBR_away','DBP_away','NHA_away','S3A_away','S3C_away','L3A_away','L3C_away','STF_away','DP_away','FSP_away','OHP_away','PBEP_away','DLP_away','DSP_away','DMP_away','PFN_away']"
   ]
  },
  {
   "cell_type": "code",
   "execution_count": 143,
   "metadata": {
    "collapsed": false
   },
   "outputs": [],
   "source": [
    "# features = ['temperature','humidity','wind_speed','away_team_id','home_team_id','1QP_home','2QP_home','3QP_home','4QP_home','RFD_home','PFD_home','IFD_home','RY_home','RA_home','PY_home','PA_home','PC_home','SK_home','INT_home','FUM_home','PU_home','GPY_home','PR_home','PRY_home','KR_home','KRY_home','IR_home','IRY_home','PEN_home','TOP_home','TD_home','TDR_home','TDP_home','TDT_home','FGM_home','FGAT_home','FGY_home','RZA_home','RZC_home','BRY_home','BPY_home','SRP_home','S1RP_home','S2RP_home','S3RP_home','SPP_home','S1PP_home','S2PP_home','S3PP_home','LEA_home','LEY_home','LTA_home','LTY_home','LGA_home','LGY_home','MDA_home','MDY_home','RGA_home','RGY_home','RTA_home','RTY_home','REA_home','REY_home','R1A_home','R1Y_home','R2A_home','R2Y_home','R3A_home','R3Y_home','QBA_home','QBY_home','SLA_home','SLY_home','SMA_home','SMY_home','SRA_home','SRY_home','DLA_home','DLY_home','DMA_home','DMY_home','DRA_home','DRY_home','WR1A_home','WR1Y_home','WR3A_home','WR3Y_home','TEA_home','TEY_home','RBA_home','RBY_home','SGA_home','SGY_home','P1A_home','P1Y_home','P2A_home','P2Y_home','P3A_home','P3Y_home','SPC_home','MPC_home','LPC_home','Q1RA_home','Q1RY_home','Q1PA_home','Q1PY_home','LCRA_home','LCRY_home','LCPA_home','LCPY_home','RZRA_home','RZRY_home','RZPA_home','RZPY_home','SKY_home','LBS_home','DBS_home','SFPY_home','DRV_home','NPY_home','TB_home','I20_home','RTD_home','LNR_home','LNP_home','LBR_home','LBP_home','DBR_home','DBP_home','NHA_home','S3A_home','S3C_home','L3A_home','L3C_home','STF_home','DP_home','FSP_home','OHP_home','PBEP_home','DLP_home','DSP_home','DMP_home','PFN_home','1QP_away','2QP_away','3QP_away','4QP_away','RFD_away','PFD_away','IFD_away','RY_away','RA_away','PY_away','PA_away','PC_away','SK_away','INT_away','FUM_away','PU_away','GPY_away','PR_away','PRY_away','KR_away','KRY_away','IR_away','IRY_away','PEN_away','TOP_away','TD_away','TDR_away','TDP_away','TDT_away','FGM_away','FGAT_away','FGY_away','RZA_away','RZC_away','BRY_away','BPY_away','SRP_away','S1RP_away','S2RP_away','S3RP_away','SPP_away','S1PP_away','S2PP_away','S3PP_away','LEA_away','LEY_away','LTA_away','LTY_away','LGA_away','LGY_away','MDA_away','MDY_away','RGA_away','RGY_away','RTA_away','RTY_away','REA_away','REY_away','R1A_away','R1Y_away','R2A_away','R2Y_away','R3A_away','R3Y_away','QBA_away','QBY_away','SLA_away','SLY_away','SMA_away','SMY_away','SRA_away','SRY_away','DLA_away','DLY_away','DMA_away','DMY_away','DRA_away','DRY_away','WR1A_away','WR1Y_away','WR3A_away','WR3Y_away','TEA_away','TEY_away','RBA_away','RBY_away','SGA_away','SGY_away','P1A_away','P1Y_away','P2A_away','P2Y_away','P3A_away','P3Y_away','SPC_away','MPC_away','LPC_away','Q1RA_away','Q1RY_away','Q1PA_away','Q1PY_away','LCRA_away','LCRY_away','LCPA_away','LCPY_away','RZRA_away','RZRY_away','RZPA_away','RZPY_away','SKY_away','LBS_away','DBS_away','SFPY_away','DRV_away','NPY_away','TB_away','I20_away','RTD_away','LNR_away','LNP_away','LBR_away','LBP_away','DBR_away','DBP_away','NHA_away','S3A_away','S3C_away','L3A_away','L3C_away','STF_away','DP_away','FSP_away','OHP_away','PBEP_away','DLP_away','DSP_away','DMP_away','PFN_away']\n",
    "# features.remove('TD_home')\n",
    "# features.remove('FGM_home')\n",
    "# features.remove('TD_away')\n",
    "# features.remove('FGM_away')\n",
    "# features.remove('TB_away')\n",
    "#features.remove(['TD_home','FGM_home','TD_away','FGM_away','TB_away'])\n",
    "#features = ['temperature','humidity','wind_speed','over_or_under','away_team_id','home_team_id']\n",
    "#features = ['temperature','humidity','wind_speed','over_or_under','visitor_point_spread','1QP_home','2QP_home','3QP_home','1QP_away','2QP_away','3QP_away']"
   ]
  },
  {
   "cell_type": "code",
   "execution_count": 144,
   "metadata": {
    "collapsed": false
   },
   "outputs": [],
   "source": [
    "#features = ['temperature','humidity','wind_speed','over_or_under','visitor_point_spread','1QP_home','2QP_home','3QP_home','4QP_home','RFD_home','PFD_home','IFD_home','1QP_away','2QP_away','3QP_away','4QP_away','RFD_away','PFD_away','IFD_away']\n"
   ]
  },
  {
   "cell_type": "code",
   "execution_count": 145,
   "metadata": {
    "collapsed": false
   },
   "outputs": [
    {
     "data": {
      "text/plain": [
       "32"
      ]
     },
     "execution_count": 145,
     "metadata": {},
     "output_type": "execute_result"
    }
   ],
   "source": [
    "len(features)"
   ]
  },
  {
   "cell_type": "code",
   "execution_count": 147,
   "metadata": {
    "collapsed": false
   },
   "outputs": [
    {
     "name": "stdout",
     "output_type": "stream",
     "text": [
      "[  1.00000000e+00  -1.00000000e+00  -2.22077131e-15   5.91280497e-15\n",
      "  -3.35842465e-15  -5.54764568e-15   1.08940634e-15   2.50841015e-15\n",
      "  -1.66533454e-16   2.01227923e-15  -1.96717642e-15  -2.06085149e-15\n",
      "   1.45386090e-15   3.24393290e-16   3.19419513e-16  -2.63284945e-16\n",
      "   3.08184468e-15  -3.68986525e-15  -2.74541674e-15   2.35992866e-15\n",
      "   5.72599693e-15  -3.58545658e-16  -8.69665668e-17  -2.73828811e-16\n",
      "  -7.84301687e-17   1.37798708e-16  -3.01841885e-16   2.57086019e-15\n",
      "   2.55351296e-15  -2.84147705e-15   3.31332184e-16   5.48606299e-16]\n"
     ]
    },
    {
     "data": {
      "text/html": [
       "<div style=\"max-height:1000px;max-width:1500px;overflow:auto;\">\n",
       "<table border=\"1\" class=\"dataframe\">\n",
       "  <thead>\n",
       "    <tr style=\"text-align: right;\">\n",
       "      <th></th>\n",
       "      <th>Linear Regression</th>\n",
       "      <th>Linear Regression Normalized</th>\n",
       "      <th>Ridge Regression</th>\n",
       "      <th>Ridge Regression Normalized</th>\n",
       "      <th>Lasso Regression</th>\n",
       "      <th>Lasso Regression Normalized</th>\n",
       "    </tr>\n",
       "  </thead>\n",
       "  <tbody>\n",
       "    <tr>\n",
       "      <th>2005</th>\n",
       "      <td> 100</td>\n",
       "      <td> 100</td>\n",
       "      <td> 100</td>\n",
       "      <td> 91.860465</td>\n",
       "      <td> 100</td>\n",
       "      <td> 60.930233</td>\n",
       "    </tr>\n",
       "    <tr>\n",
       "      <th>2006</th>\n",
       "      <td> 100</td>\n",
       "      <td> 100</td>\n",
       "      <td> 100</td>\n",
       "      <td> 90.526316</td>\n",
       "      <td> 100</td>\n",
       "      <td> 62.105263</td>\n",
       "    </tr>\n",
       "    <tr>\n",
       "      <th>2007</th>\n",
       "      <td> 100</td>\n",
       "      <td> 100</td>\n",
       "      <td> 100</td>\n",
       "      <td> 89.473684</td>\n",
       "      <td> 100</td>\n",
       "      <td> 62.526316</td>\n",
       "    </tr>\n",
       "    <tr>\n",
       "      <th>2008</th>\n",
       "      <td> 100</td>\n",
       "      <td> 100</td>\n",
       "      <td> 100</td>\n",
       "      <td> 92.531120</td>\n",
       "      <td> 100</td>\n",
       "      <td> 61.825726</td>\n",
       "    </tr>\n",
       "    <tr>\n",
       "      <th>2009</th>\n",
       "      <td> 100</td>\n",
       "      <td> 100</td>\n",
       "      <td> 100</td>\n",
       "      <td> 92.768595</td>\n",
       "      <td> 100</td>\n",
       "      <td> 64.876033</td>\n",
       "    </tr>\n",
       "    <tr>\n",
       "      <th>2010</th>\n",
       "      <td> 100</td>\n",
       "      <td> 100</td>\n",
       "      <td> 100</td>\n",
       "      <td> 91.322314</td>\n",
       "      <td> 100</td>\n",
       "      <td> 59.297521</td>\n",
       "    </tr>\n",
       "    <tr>\n",
       "      <th>2011</th>\n",
       "      <td> 100</td>\n",
       "      <td> 100</td>\n",
       "      <td> 100</td>\n",
       "      <td> 92.402464</td>\n",
       "      <td> 100</td>\n",
       "      <td> 65.092402</td>\n",
       "    </tr>\n",
       "    <tr>\n",
       "      <th>2012</th>\n",
       "      <td> 100</td>\n",
       "      <td> 100</td>\n",
       "      <td> 100</td>\n",
       "      <td> 91.035857</td>\n",
       "      <td> 100</td>\n",
       "      <td> 61.952191</td>\n",
       "    </tr>\n",
       "    <tr>\n",
       "      <th>2013</th>\n",
       "      <td> 100</td>\n",
       "      <td> 100</td>\n",
       "      <td> 100</td>\n",
       "      <td> 93.223819</td>\n",
       "      <td> 100</td>\n",
       "      <td> 60.574949</td>\n",
       "    </tr>\n",
       "    <tr>\n",
       "      <th>2014</th>\n",
       "      <td> 100</td>\n",
       "      <td> 100</td>\n",
       "      <td> 100</td>\n",
       "      <td> 92.540323</td>\n",
       "      <td> 100</td>\n",
       "      <td> 61.088710</td>\n",
       "    </tr>\n",
       "  </tbody>\n",
       "</table>\n",
       "<p>10 rows × 6 columns</p>\n",
       "</div>"
      ],
      "text/plain": [
       "      Linear Regression  Linear Regression Normalized  Ridge Regression  \\\n",
       "2005                100                           100               100   \n",
       "2006                100                           100               100   \n",
       "2007                100                           100               100   \n",
       "2008                100                           100               100   \n",
       "2009                100                           100               100   \n",
       "2010                100                           100               100   \n",
       "2011                100                           100               100   \n",
       "2012                100                           100               100   \n",
       "2013                100                           100               100   \n",
       "2014                100                           100               100   \n",
       "\n",
       "      Ridge Regression Normalized  Lasso Regression  \\\n",
       "2005                    91.860465               100   \n",
       "2006                    90.526316               100   \n",
       "2007                    89.473684               100   \n",
       "2008                    92.531120               100   \n",
       "2009                    92.768595               100   \n",
       "2010                    91.322314               100   \n",
       "2011                    92.402464               100   \n",
       "2012                    91.035857               100   \n",
       "2013                    93.223819               100   \n",
       "2014                    92.540323               100   \n",
       "\n",
       "      Lasso Regression Normalized  \n",
       "2005                    60.930233  \n",
       "2006                    62.105263  \n",
       "2007                    62.526316  \n",
       "2008                    61.825726  \n",
       "2009                    64.876033  \n",
       "2010                    59.297521  \n",
       "2011                    65.092402  \n",
       "2012                    61.952191  \n",
       "2013                    60.574949  \n",
       "2014                    61.088710  \n",
       "\n",
       "[10 rows x 6 columns]"
      ]
     },
     "execution_count": 147,
     "metadata": {},
     "output_type": "execute_result"
    }
   ],
   "source": [
    "clfs = [LinearRegression(fit_intercept=True),\n",
    "        LinearRegression(fit_intercept=True, normalize=True),\n",
    "        Ridge(fit_intercept=True),\n",
    "        Ridge(fit_intercept=True, normalize=True),\n",
    "        Lasso(fit_intercept=True),\n",
    "        Lasso(fit_intercept=True, normalize=True)]\n",
    "clf_names = ['Linear Regression', 'Linear Regression Normalized',\n",
    "             'Ridge Regression', 'Ridge Regression Normalized',\n",
    "             'Lasso Regression', 'Lasso Regression Normalized']\n",
    "\n",
    "train_results = []\n",
    "models = {}\n",
    "for (i, clf_) in enumerate(clfs):\n",
    "    data = trainDF[trainDF.year >= 2001]\n",
    "    X = data.ix[:, features]\n",
    "    y = data.ix[:, 'score_diff']\n",
    "    clf = clf_.fit(X, y)\n",
    "    models[clf_names[i]] = clf\n",
    "    if clf_names[i] == 'Ridge Regression Normalized':\n",
    "        print clf.coef_\n",
    "    predicted_train = clf.predict(X)\n",
    "    p = [int(round(val)) for val in predicted_train]\n",
    "    data['predicted_score_diff'] = pd.Series(p, index=data.index)\n",
    "    data['correct_prediction'] = data.apply(lambda x: get_correct(x['score_diff'], x['predicted_score_diff']), axis=1)\n",
    "    years = [int(y) for y in unique(data.year)]\n",
    "    ansdf = {}\n",
    "    for y in years:\n",
    "        ansdf[y] = data[data.year == y]\n",
    "    accuracy = check_accuracy(ansdf)\n",
    "    accuracy = pd.DataFrame(accuracy).T\n",
    "    accuracy.columns = ['num_games', 'num_correct_prediction', 'pct_correct_prediction']\n",
    "    accuracy = accuracy[['pct_correct_prediction']]\n",
    "    accuracy.columns = [clf_names[i]]\n",
    "    train_results.append(accuracy.T)\n",
    "\n",
    "train_resultdf = pd.concat(train_results).T\n",
    "train_resultdf"
   ]
  },
  {
   "cell_type": "code",
   "execution_count": 119,
   "metadata": {
    "collapsed": false
   },
   "outputs": [
    {
     "data": {
      "image/png": "[encoded data removed]",
      "text/plain": [
       "<matplotlib.figure.Figure at 0x7f1b26663890>"
      ]
     },
     "metadata": {},
     "output_type": "display_data"
    }
   ],
   "source": [
    "train_resultdf.plot(kind='bar', figsize=(17, 8))\n",
    "plt.grid(b=True, which='major', color='gray', linestyle=':')\n",
    "plt.xlabel('Years')\n",
    "plt.ylabel('Prediction accurcay')\n",
    "plt.ylim([0, 100])\n",
    "plt.legend(loc='upper center', bbox_to_anchor=(0.5, -0.1), fancybox=True, shadow=True, ncol=3)\n",
    "plt.show()"
   ]
  },
  {
   "cell_type": "code",
   "execution_count": 120,
   "metadata": {
    "collapsed": false
   },
   "outputs": [
    {
     "data": {
      "text/html": [
       "<div style=\"max-height:1000px;max-width:1500px;overflow:auto;\">\n",
       "<table border=\"1\" class=\"dataframe\">\n",
       "  <thead>\n",
       "    <tr style=\"text-align: right;\">\n",
       "      <th></th>\n",
       "      <th>Ridge Regression Normalized</th>\n",
       "      <th>Lasso Regression Normalized</th>\n",
       "      <th>Lasso Regression</th>\n",
       "      <th>Ridge Regression</th>\n",
       "      <th>Linear Regression</th>\n",
       "      <th>Linear Regression Normalized</th>\n",
       "    </tr>\n",
       "  </thead>\n",
       "  <tbody>\n",
       "    <tr>\n",
       "      <th>2005</th>\n",
       "      <td> 83.333333</td>\n",
       "      <td> 57.638889</td>\n",
       "      <td> 86.458333</td>\n",
       "      <td> 88.541667</td>\n",
       "      <td> 88.541667</td>\n",
       "      <td> 88.541667</td>\n",
       "    </tr>\n",
       "    <tr>\n",
       "      <th>2006</th>\n",
       "      <td> 85.488959</td>\n",
       "      <td> 61.514196</td>\n",
       "      <td> 89.274448</td>\n",
       "      <td> 90.220820</td>\n",
       "      <td> 90.220820</td>\n",
       "      <td> 90.220820</td>\n",
       "    </tr>\n",
       "    <tr>\n",
       "      <th>2007</th>\n",
       "      <td> 89.274448</td>\n",
       "      <td> 62.145110</td>\n",
       "      <td> 90.536278</td>\n",
       "      <td> 93.059937</td>\n",
       "      <td> 93.059937</td>\n",
       "      <td> 93.059937</td>\n",
       "    </tr>\n",
       "    <tr>\n",
       "      <th>2008</th>\n",
       "      <td> 85.714286</td>\n",
       "      <td> 63.975155</td>\n",
       "      <td> 87.577640</td>\n",
       "      <td> 92.236025</td>\n",
       "      <td> 92.236025</td>\n",
       "      <td> 92.236025</td>\n",
       "    </tr>\n",
       "    <tr>\n",
       "      <th>2009</th>\n",
       "      <td> 88.271605</td>\n",
       "      <td> 61.728395</td>\n",
       "      <td> 89.814815</td>\n",
       "      <td> 91.975309</td>\n",
       "      <td> 91.975309</td>\n",
       "      <td> 91.975309</td>\n",
       "    </tr>\n",
       "    <tr>\n",
       "      <th>2010</th>\n",
       "      <td> 87.962963</td>\n",
       "      <td> 62.345679</td>\n",
       "      <td> 88.888889</td>\n",
       "      <td> 90.740741</td>\n",
       "      <td> 90.740741</td>\n",
       "      <td> 90.740741</td>\n",
       "    </tr>\n",
       "    <tr>\n",
       "      <th>2011</th>\n",
       "      <td> 84.923077</td>\n",
       "      <td> 61.846154</td>\n",
       "      <td> 86.769231</td>\n",
       "      <td> 89.846154</td>\n",
       "      <td> 89.846154</td>\n",
       "      <td> 89.846154</td>\n",
       "    </tr>\n",
       "    <tr>\n",
       "      <th>2012</th>\n",
       "      <td> 87.202381</td>\n",
       "      <td> 59.821429</td>\n",
       "      <td> 87.202381</td>\n",
       "      <td> 90.773810</td>\n",
       "      <td> 90.773810</td>\n",
       "      <td> 90.773810</td>\n",
       "    </tr>\n",
       "    <tr>\n",
       "      <th>2013</th>\n",
       "      <td> 89.877301</td>\n",
       "      <td> 64.110429</td>\n",
       "      <td> 92.944785</td>\n",
       "      <td> 93.865031</td>\n",
       "      <td> 93.865031</td>\n",
       "      <td> 93.865031</td>\n",
       "    </tr>\n",
       "    <tr>\n",
       "      <th>2014</th>\n",
       "      <td> 83.081571</td>\n",
       "      <td> 60.422961</td>\n",
       "      <td> 88.519637</td>\n",
       "      <td> 88.821752</td>\n",
       "      <td> 88.821752</td>\n",
       "      <td> 88.821752</td>\n",
       "    </tr>\n",
       "  </tbody>\n",
       "</table>\n",
       "<p>10 rows × 6 columns</p>\n",
       "</div>"
      ],
      "text/plain": [
       "      Ridge Regression Normalized  Lasso Regression Normalized  \\\n",
       "2005                    83.333333                    57.638889   \n",
       "2006                    85.488959                    61.514196   \n",
       "2007                    89.274448                    62.145110   \n",
       "2008                    85.714286                    63.975155   \n",
       "2009                    88.271605                    61.728395   \n",
       "2010                    87.962963                    62.345679   \n",
       "2011                    84.923077                    61.846154   \n",
       "2012                    87.202381                    59.821429   \n",
       "2013                    89.877301                    64.110429   \n",
       "2014                    83.081571                    60.422961   \n",
       "\n",
       "      Lasso Regression  Ridge Regression  Linear Regression  \\\n",
       "2005         86.458333         88.541667          88.541667   \n",
       "2006         89.274448         90.220820          90.220820   \n",
       "2007         90.536278         93.059937          93.059937   \n",
       "2008         87.577640         92.236025          92.236025   \n",
       "2009         89.814815         91.975309          91.975309   \n",
       "2010         88.888889         90.740741          90.740741   \n",
       "2011         86.769231         89.846154          89.846154   \n",
       "2012         87.202381         90.773810          90.773810   \n",
       "2013         92.944785         93.865031          93.865031   \n",
       "2014         88.519637         88.821752          88.821752   \n",
       "\n",
       "      Linear Regression Normalized  \n",
       "2005                     88.541667  \n",
       "2006                     90.220820  \n",
       "2007                     93.059937  \n",
       "2008                     92.236025  \n",
       "2009                     91.975309  \n",
       "2010                     90.740741  \n",
       "2011                     89.846154  \n",
       "2012                     90.773810  \n",
       "2013                     93.865031  \n",
       "2014                     88.821752  \n",
       "\n",
       "[10 rows x 6 columns]"
      ]
     },
     "execution_count": 120,
     "metadata": {},
     "output_type": "execute_result"
    }
   ],
   "source": [
    "test_results = []\n",
    "for model_name, model in models.iteritems():\n",
    "    data_test = testDF[testDF.year > 2000]\n",
    "    X_test = data_test.ix[:, features]\n",
    "    y_test = data_test.ix[:, 'score_diff']\n",
    "    predicted_test = model.predict(X_test)\n",
    "    pt = [int(round(val)) for val in predicted_test]\n",
    "    data_test['predicted_score_diff'] = pd.Series(pt, index=data_test.index)\n",
    "    data_test['correct_prediction'] = data_test.apply(lambda x: get_correct(x['score_diff'], x['predicted_score_diff']), axis=1)\n",
    "    years = [int(y) for y in unique(data_test.year)]\n",
    "    ansdf = {}\n",
    "    for y in years:\n",
    "        ansdf[y] = data_test[data_test.year == y]\n",
    "    accuracy = check_accuracy(ansdf)\n",
    "    accuracy = pd.DataFrame(accuracy).T\n",
    "    accuracy.columns = ['num_games', 'num_correct_prediction', 'pct_correct_prediction']\n",
    "    accuracy = accuracy[['pct_correct_prediction']]\n",
    "    accuracy.columns = [model_name]\n",
    "    test_results.append(accuracy.T)\n",
    "\n",
    "test_resultdf = pd.concat(test_results).T\n",
    "test_resultdf"
   ]
  },
  {
   "cell_type": "code",
   "execution_count": 121,
   "metadata": {
    "collapsed": false
   },
   "outputs": [
    {
     "data": {
      "image/png": "[encoded data removed]",
      "text/plain": [
       "<matplotlib.figure.Figure at 0x7f1b267a5210>"
      ]
     },
     "metadata": {},
     "output_type": "display_data"
    }
   ],
   "source": [
    "test_resultdf.plot(kind='bar', figsize=(17, 8))\n",
    "plt.grid(b=True, which='major', color='gray', linestyle=':')\n",
    "plt.xlabel('Years')\n",
    "plt.ylabel('Prediction accurcay')\n",
    "plt.ylim([0, 100])\n",
    "plt.legend(loc='upper center', bbox_to_anchor=(0.5, -0.1), fancybox=True, shadow=True, ncol=3)\n",
    "plt.show()"
   ]
  },
  {
   "cell_type": "markdown",
   "metadata": {},
   "source": [
    "---"
   ]
  },
  {
   "cell_type": "code",
   "execution_count": 98,
   "metadata": {
    "collapsed": false
   },
   "outputs": [],
   "source": [
    "# def get_game_features(g, gamesTillNow, itr, alpha):\n",
    "#     hTeam = g.home_team\n",
    "#     aTeam = g.away_team\n",
    "#     gameYear = int(g.year)\n",
    "\n",
    "#     games = []    \n",
    "#     for row, game in gamesTillNow.iterrows():\n",
    "#         rhTeam = game.home_team\n",
    "#         raTeam = game.away_team\n",
    "#         if ((rhTeam == hTeam) or (rhTeam == aTeam) or (raTeam == hTeam) or (raTeam == aTeam)):\n",
    "#             games.append(pd.DataFrame(game).T)\n",
    "#     games = games[-itr:]\n",
    "#     numGames = len(games)\n",
    "#     games = pd.concat(games)\n",
    "#     games = games[features]\n",
    "    \n",
    "#     numGames = len(games.index)\n",
    "#     weights = []\n",
    "#     for i in xrange(1, numGames+1):\n",
    "#         weights.append(alpha**i)\n",
    "#     weights = np.array(weights)\n",
    "#     average = (games.mul(weights[::-1], axis=0)/float(sum(weights)))\n",
    "#     average = pd.DataFrame(average.sum()).T.apply(np.round)\n",
    "#     return (numGames, average[features])"
   ]
  },
  {
   "cell_type": "code",
   "execution_count": 122,
   "metadata": {
    "collapsed": false
   },
   "outputs": [],
   "source": [
    "def get_game_features(g, gamesTillNow, itr, alpha):\n",
    "    hTeam = g.home_team\n",
    "    aTeam = g.away_team\n",
    "    gameYear = int(g.year)\n",
    "    \n",
    "\n",
    "    games = []    \n",
    "#     for row, game in gamesTillNow.iterrows():\n",
    "#         rhTeam = game.home_team\n",
    "#         raTeam = game.away_team\n",
    "#         if ((rhTeam == hTeam) or (rhTeam == aTeam) or (raTeam == hTeam) or (raTeam == aTeam)):\n",
    "#             games.append(pd.DataFrame(game).T)\n",
    "    games = gamesTillNow.loc[(((gamesTillNow['home_team']==hTeam) | (gamesTillNow['away_team']==aTeam))|((gamesTillNow['home_team']==aTeam) | (gamesTillNow['away_team']==hTeam))),features]\n",
    "    #games = gamesTillNow.loc[gamesTillNow['home_team']==hTeam | gamesTillNow['home_team']==aTeam | gamesTillNow['away_team']==hTeam | gamesTillNow['away_team']==aTeam,features]\n",
    "    #games = games[-itr:]\n",
    "    numGames = len(games)\n",
    "    #games = pd.concat(games)\n",
    "    #games = games[features]\n",
    "    \n",
    "    numGames = len(games.index)\n",
    "    weights = []\n",
    "    for i in xrange(1, numGames+1):\n",
    "        weights.append(alpha**i)\n",
    "    weights = np.array(weights)\n",
    "    average = (games.mul(weights[::-1], axis=0)/float(sum(weights)))\n",
    "    average = pd.DataFrame(average.sum()).T.apply(np.round)\n",
    "    return (numGames, average[features])"
   ]
  },
  {
   "cell_type": "code",
   "execution_count": 123,
   "metadata": {
    "collapsed": false
   },
   "outputs": [
    {
     "data": {
      "text/html": [
       "<div style=\"max-height:1000px;max-width:1500px;overflow:auto;\">\n",
       "<table border=\"1\" class=\"dataframe\">\n",
       "  <thead>\n",
       "    <tr style=\"text-align: right;\">\n",
       "      <th></th>\n",
       "      <th>Ridge Regression Normalized</th>\n",
       "      <th>Lasso Regression Normalized</th>\n",
       "      <th>Lasso Regression</th>\n",
       "      <th>Ridge Regression</th>\n",
       "      <th>Linear Regression</th>\n",
       "      <th>Linear Regression Normalized</th>\n",
       "    </tr>\n",
       "  </thead>\n",
       "  <tbody>\n",
       "    <tr>\n",
       "      <th>2008</th>\n",
       "      <td> 63.975155</td>\n",
       "      <td> 63.975155</td>\n",
       "      <td> 63.043478</td>\n",
       "      <td> 62.422360</td>\n",
       "      <td> 62.422360</td>\n",
       "      <td> 62.422360</td>\n",
       "    </tr>\n",
       "    <tr>\n",
       "      <th>2009</th>\n",
       "      <td> 61.728395</td>\n",
       "      <td> 61.728395</td>\n",
       "      <td> 61.111111</td>\n",
       "      <td> 60.185185</td>\n",
       "      <td> 60.185185</td>\n",
       "      <td> 60.185185</td>\n",
       "    </tr>\n",
       "    <tr>\n",
       "      <th>2010</th>\n",
       "      <td> 62.345679</td>\n",
       "      <td> 62.345679</td>\n",
       "      <td> 62.037037</td>\n",
       "      <td> 60.802469</td>\n",
       "      <td> 60.802469</td>\n",
       "      <td> 60.802469</td>\n",
       "    </tr>\n",
       "    <tr>\n",
       "      <th>2011</th>\n",
       "      <td> 61.846154</td>\n",
       "      <td> 61.846154</td>\n",
       "      <td> 61.846154</td>\n",
       "      <td> 61.230769</td>\n",
       "      <td> 61.230769</td>\n",
       "      <td> 61.230769</td>\n",
       "    </tr>\n",
       "    <tr>\n",
       "      <th>2012</th>\n",
       "      <td> 59.821429</td>\n",
       "      <td> 59.821429</td>\n",
       "      <td> 59.821429</td>\n",
       "      <td> 59.821429</td>\n",
       "      <td> 59.821429</td>\n",
       "      <td> 59.821429</td>\n",
       "    </tr>\n",
       "    <tr>\n",
       "      <th>2013</th>\n",
       "      <td> 64.110429</td>\n",
       "      <td> 64.110429</td>\n",
       "      <td> 64.110429</td>\n",
       "      <td> 62.576687</td>\n",
       "      <td> 62.576687</td>\n",
       "      <td> 62.576687</td>\n",
       "    </tr>\n",
       "    <tr>\n",
       "      <th>2014</th>\n",
       "      <td> 60.422961</td>\n",
       "      <td> 60.422961</td>\n",
       "      <td> 60.422961</td>\n",
       "      <td> 61.027190</td>\n",
       "      <td> 61.027190</td>\n",
       "      <td> 61.027190</td>\n",
       "    </tr>\n",
       "  </tbody>\n",
       "</table>\n",
       "<p>7 rows × 6 columns</p>\n",
       "</div>"
      ],
      "text/plain": [
       "      Ridge Regression Normalized  Lasso Regression Normalized  \\\n",
       "2008                    63.975155                    63.975155   \n",
       "2009                    61.728395                    61.728395   \n",
       "2010                    62.345679                    62.345679   \n",
       "2011                    61.846154                    61.846154   \n",
       "2012                    59.821429                    59.821429   \n",
       "2013                    64.110429                    64.110429   \n",
       "2014                    60.422961                    60.422961   \n",
       "\n",
       "      Lasso Regression  Ridge Regression  Linear Regression  \\\n",
       "2008         63.043478         62.422360          62.422360   \n",
       "2009         61.111111         60.185185          60.185185   \n",
       "2010         62.037037         60.802469          60.802469   \n",
       "2011         61.846154         61.230769          61.230769   \n",
       "2012         59.821429         59.821429          59.821429   \n",
       "2013         64.110429         62.576687          62.576687   \n",
       "2014         60.422961         61.027190          61.027190   \n",
       "\n",
       "      Linear Regression Normalized  \n",
       "2008                     62.422360  \n",
       "2009                     60.185185  \n",
       "2010                     60.802469  \n",
       "2011                     61.230769  \n",
       "2012                     59.821429  \n",
       "2013                     62.576687  \n",
       "2014                     61.027190  \n",
       "\n",
       "[7 rows x 6 columns]"
      ]
     },
     "execution_count": 123,
     "metadata": {},
     "output_type": "execute_result"
    }
   ],
   "source": [
    "test2_results = []\n",
    "for model_name, model in models.iteritems():\n",
    "    itr = 15\n",
    "    alpha = 1\n",
    "    mtemp = []\n",
    "    data_test = testDF[testDF.year > 2007]\n",
    "    for ix, game in data_test.iterrows():\n",
    "        gamesTillNow = get_games_till_now(game, data)\n",
    "        numGames, gameFeatures = get_game_features(game, gamesTillNow, itr, alpha)\n",
    "        #print gameFeatures\n",
    "        gameResult = run_model(model, gameFeatures)\n",
    "        mtemp.append(gameResult)\n",
    "\n",
    "    data_test['predicted_score_diff'] = pd.Series(mtemp, index=data_test.index)\n",
    "    cols = ['year', 'week', 'home_team', 'away_team', 'home_score', 'away_score', 'winner', 'score_diff', 'predicted_score_diff']\n",
    "    process = data_test[cols]\n",
    "    process['error'] = process.score_diff - process.predicted_score_diff\n",
    "    process['correct_prediction'] = process.apply(lambda x: get_correct(x['score_diff'], x['predicted_score_diff']), axis=1)\n",
    "    years = [int(y) for y in unique(process.year)]\n",
    "    ansdf = {}\n",
    "    for y in years:\n",
    "        ansdf[y] = process[process.year == y]\n",
    "    accuracy = check_accuracy(ansdf)\n",
    "    accuracy = pd.DataFrame(accuracy).T\n",
    "    accuracy.columns = ['num_games', 'num_correct_prediction', 'pct_correct_prediction']\n",
    "    accuracy = accuracy[['pct_correct_prediction']]\n",
    "    accuracy.columns = [model_name]\n",
    "    test2_results.append(accuracy.T)\n",
    "    \n",
    "test2_resultdf = pd.concat(test2_results).T\n",
    "test2_resultdf"
   ]
  },
  {
   "cell_type": "code",
   "execution_count": 27,
   "metadata": {
    "collapsed": false
   },
   "outputs": [
    {
     "data": {
      "image/png": "[encoded data removed]",
      "text/plain": [
       "<matplotlib.figure.Figure at 0x7f876ccac650>"
      ]
     },
     "metadata": {},
     "output_type": "display_data"
    }
   ],
   "source": [
    "test2_resultdf.plot(kind='bar', figsize=(17, 8))\n",
    "plt.grid(b=True, which='major', color='gray', linestyle=':')\n",
    "plt.xlabel('Years')\n",
    "plt.ylabel('Prediction accurcay')\n",
    "plt.ylim([0, 100])\n",
    "plt.legend(loc='upper center', bbox_to_anchor=(0.5, -0.1), fancybox=True, shadow=True, ncol=3)\n",
    "plt.show()"
   ]
  },
  {
   "cell_type": "markdown",
   "metadata": {},
   "source": [
    "---"
   ]
  },
  {
   "cell_type": "markdown",
   "metadata": {},
   "source": [
    "<a id=\"linreg_paired_clg\"/>"
   ]
  },
  {
   "cell_type": "markdown",
   "metadata": {},
   "source": [
    "# Linear Regression Model with paired features"
   ]
  },
  {
   "cell_type": "code",
   "execution_count": 149,
   "metadata": {
    "collapsed": false
   },
   "outputs": [],
   "source": [
    "trainDF,testDF,features = setDataAndFeaturesForClgPaired(trainDF,testDF,features)"
   ]
  },
  {
   "cell_type": "code",
   "execution_count": 150,
   "metadata": {
    "collapsed": false
   },
   "outputs": [],
   "source": [
    "trainDF['score_diff'] = trainDF.home_score - trainDF.away_score\n",
    "testDF['score_diff'] = testDF.home_score - testDF.away_score\n",
    "\n",
    "trainDF = trainDF.sort(column='game_id').reset_index(drop=True)\n",
    "testDF = testDF.sort(column='game_id').reset_index(drop=True)"
   ]
  },
  {
   "cell_type": "code",
   "execution_count": 151,
   "metadata": {
    "collapsed": false
   },
   "outputs": [],
   "source": [
    "#group = trainDF.groupby('away_team')\n",
    "trainDF[\"away_team_id\"] = trainDF.groupby([\"away_team\"]).grouper.group_info[0]\n",
    "trainDF[\"home_team_id\"] = trainDF.groupby([\"home_team\"]).grouper.group_info[0]\n",
    "testDF[\"away_team_id\"] = testDF.groupby([\"away_team\"]).grouper.group_info[0]\n",
    "testDF[\"home_team_id\"] = testDF.groupby([\"home_team\"]).grouper.group_info[0]"
   ]
  },
  {
   "cell_type": "code",
   "execution_count": 152,
   "metadata": {
    "collapsed": false
   },
   "outputs": [],
   "source": [
    "def get_correct(score_diff, predicted_score):\n",
    "    if ((predicted_score > 0 and score_diff > 0) or (predicted_score < 0 and score_diff < 0)):\n",
    "        return 1\n",
    "    else:\n",
    "        return 0"
   ]
  },
  {
   "cell_type": "code",
   "execution_count": 153,
   "metadata": {
    "collapsed": false
   },
   "outputs": [],
   "source": [
    "def check_accuracy(allStats):\n",
    "    accuracy = dict()\n",
    "    for year, df in allStats.iteritems():  \n",
    "        #print df.correct_prediction\n",
    "        numGames = len(df.correct_prediction)\n",
    "        numCorrect = sum(df.correct_prediction)\n",
    "        pctCorrect = numCorrect*100/float(numGames)\n",
    "        accuracy[year] = [numGames, numCorrect, pctCorrect]\n",
    "    return accuracy"
   ]
  },
  {
   "cell_type": "code",
   "execution_count": 154,
   "metadata": {
    "collapsed": false
   },
   "outputs": [],
   "source": [
    "def initialize(data):\n",
    "    X = data.ix[:, features]\n",
    "    y = data.ix[:, 'score_diff']\n",
    "    \n",
    "    reg = LinearRegression(fit_intercept=True, normalize=True)\n",
    "\n",
    "    model = reg.fit(X, y)\n",
    "    return model"
   ]
  },
  {
   "cell_type": "code",
   "execution_count": 155,
   "metadata": {
    "collapsed": false
   },
   "outputs": [],
   "source": [
    "def get_games_till_now(game, df):\n",
    "    curGameId = int(game.game_id)\n",
    "    retdf = df[df.game_id < curGameId]\n",
    "    return retdf"
   ]
  },
  {
   "cell_type": "code",
   "execution_count": 156,
   "metadata": {
    "collapsed": false
   },
   "outputs": [],
   "source": [
    "def get_game_features(g, gamesTillNow):\n",
    "    hTeam = g.home_team\n",
    "    aTeam = g.away_team\n",
    "    gameYear = int(g.year)\n",
    "\n",
    "    games = []    \n",
    "    for row, game in gamesTillNow.iterrows():\n",
    "        rhTeam = game.home_team\n",
    "        raTeam = game.away_team\n",
    "        if ((rhTeam == hTeam) or (rhTeam == aTeam) or (raTeam == hTeam) or (raTeam == aTeam)):\n",
    "            games.append(pd.DataFrame(game).T)\n",
    "    games = games[-15:]\n",
    "    numGames = len(games)\n",
    "    games = pd.concat(games)\n",
    "    average = pd.DataFrame(games[features].mean().round()).T\n",
    "    return (numGames, average[features])"
   ]
  },
  {
   "cell_type": "code",
   "execution_count": 157,
   "metadata": {
    "collapsed": false
   },
   "outputs": [],
   "source": [
    "def get_updated_data(game, df, g):\n",
    "    curGameId = int(game.game_id)\n",
    "    retdf = df[df.game_id <= curGameId]\n",
    "    return retdf[-g:]"
   ]
  },
  {
   "cell_type": "code",
   "execution_count": 158,
   "metadata": {
    "collapsed": false
   },
   "outputs": [],
   "source": [
    "def train_updated_model(data):\n",
    "    X = data.ix[:, features]\n",
    "    y = data.ix[:, 'score_diff']\n",
    "\n",
    "    reg = LinearRegression(fit_intercept=True, normalize=True)\n",
    "\n",
    "    model = reg.fit(X, y)\n",
    "    return model"
   ]
  },
  {
   "cell_type": "code",
   "execution_count": 159,
   "metadata": {
    "collapsed": false
   },
   "outputs": [],
   "source": [
    "def run_model(model, gameFeatures):\n",
    "    gameResult = int(model.predict(gameFeatures[features]).round())\n",
    "    return gameResult"
   ]
  },
  {
   "cell_type": "code",
   "execution_count": 160,
   "metadata": {
    "collapsed": false
   },
   "outputs": [],
   "source": [
    "#features = ['temperature','humidity','wind_speed','over_or_under','visitor_point_spread','away_score','home_score','1QP_home','2QP_home','3QP_home','4QP_home','RFD_home','PFD_home','IFD_home','RY_home','RA_home','PY_home','PA_home','PC_home','SK_home','INT_home','FUM_home','PU_home','GPY_home','PR_home','PRY_home','KR_home','KRY_home','IR_home','IRY_home','PEN_home','TOP_home','TD_home','TDR_home','TDP_home','TDT_home','FGM_home','FGAT_home','FGY_home','RZA_home','RZC_home','BRY_home','BPY_home','SRP_home','S1RP_home','S2RP_home','S3RP_home','SPP_home','S1PP_home','S2PP_home','S3PP_home','LEA_home','LEY_home','LTA_home','LTY_home','LGA_home','LGY_home','MDA_home','MDY_home','RGA_home','RGY_home','RTA_home','RTY_home','REA_home','REY_home','R1A_home','R1Y_home','R2A_home','R2Y_home','R3A_home','R3Y_home','QBA_home','QBY_home','SLA_home','SLY_home','SMA_home','SMY_home','SRA_home','SRY_home','DLA_home','DLY_home','DMA_home','DMY_home','DRA_home','DRY_home','WR1A_home','WR1Y_home','WR3A_home','WR3Y_home','TEA_home','TEY_home','RBA_home','RBY_home','SGA_home','SGY_home','P1A_home','P1Y_home','P2A_home','P2Y_home','P3A_home','P3Y_home','SPC_home','MPC_home','LPC_home','Q1RA_home','Q1RY_home','Q1PA_home','Q1PY_home','LCRA_home','LCRY_home','LCPA_home','LCPY_home','RZRA_home','RZRY_home','RZPA_home','RZPY_home','SKY_home','LBS_home','DBS_home','SFPY_home','DRV_home','NPY_home','TB_home','I20_home','RTD_home','LNR_home','LNP_home','LBR_home','LBP_home','DBR_home','DBP_home','NHA_home','S3A_home','S3C_home','L3A_home','L3C_home','STF_home','DP_home','FSP_home','OHP_home','PBEP_home','DLP_home','DSP_home','DMP_home','PFN_home','1QP_away','2QP_away','3QP_away','4QP_away','RFD_away','PFD_away','IFD_away','RY_away','RA_away','PY_away','PA_away','PC_away','SK_away','INT_away','FUM_away','PU_away','GPY_away','PR_away','PRY_away','KR_away','KRY_away','IR_away','IRY_away','PEN_away','TOP_away','TD_away','TDR_away','TDP_away','TDT_away','FGM_away','FGAT_away','FGY_away','RZA_away','RZC_away','BRY_away','BPY_away','SRP_away','S1RP_away','S2RP_away','S3RP_away','SPP_away','S1PP_away','S2PP_away','S3PP_away','LEA_away','LEY_away','LTA_away','LTY_away','LGA_away','LGY_away','MDA_away','MDY_away','RGA_away','RGY_away','RTA_away','RTY_away','REA_away','REY_away','R1A_away','R1Y_away','R2A_away','R2Y_away','R3A_away','R3Y_away','QBA_away','QBY_away','SLA_away','SLY_away','SMA_away','SMY_away','SRA_away','SRY_away','DLA_away','DLY_away','DMA_away','DMY_away','DRA_away','DRY_away','WR1A_away','WR1Y_away','WR3A_away','WR3Y_away','TEA_away','TEY_away','RBA_away','RBY_away','SGA_away','SGY_away','P1A_away','P1Y_away','P2A_away','P2Y_away','P3A_away','P3Y_away','SPC_away','MPC_away','LPC_away','Q1RA_away','Q1RY_away','Q1PA_away','Q1PY_away','LCRA_away','LCRY_away','LCPA_away','LCPY_away','RZRA_away','RZRY_away','RZPA_away','RZPY_away','SKY_away','LBS_away','DBS_away','SFPY_away','DRV_away','NPY_away','TB_away','I20_away','RTD_away','LNR_away','LNP_away','LBR_away','LBP_away','DBR_away','DBP_away','NHA_away','S3A_away','S3C_away','L3A_away','L3C_away','STF_away','DP_away','FSP_away','OHP_away','PBEP_away','DLP_away','DSP_away','DMP_away','PFN_away']"
   ]
  },
  {
   "cell_type": "code",
   "execution_count": 161,
   "metadata": {
    "collapsed": false
   },
   "outputs": [],
   "source": [
    "# features = ['temperature','humidity','wind_speed','away_team_id','home_team_id','1QP_home','2QP_home','3QP_home','4QP_home','RFD_home','PFD_home','IFD_home','RY_home','RA_home','PY_home','PA_home','PC_home','SK_home','INT_home','FUM_home','PU_home','GPY_home','PR_home','PRY_home','KR_home','KRY_home','IR_home','IRY_home','PEN_home','TOP_home','TD_home','TDR_home','TDP_home','TDT_home','FGM_home','FGAT_home','FGY_home','RZA_home','RZC_home','BRY_home','BPY_home','SRP_home','S1RP_home','S2RP_home','S3RP_home','SPP_home','S1PP_home','S2PP_home','S3PP_home','LEA_home','LEY_home','LTA_home','LTY_home','LGA_home','LGY_home','MDA_home','MDY_home','RGA_home','RGY_home','RTA_home','RTY_home','REA_home','REY_home','R1A_home','R1Y_home','R2A_home','R2Y_home','R3A_home','R3Y_home','QBA_home','QBY_home','SLA_home','SLY_home','SMA_home','SMY_home','SRA_home','SRY_home','DLA_home','DLY_home','DMA_home','DMY_home','DRA_home','DRY_home','WR1A_home','WR1Y_home','WR3A_home','WR3Y_home','TEA_home','TEY_home','RBA_home','RBY_home','SGA_home','SGY_home','P1A_home','P1Y_home','P2A_home','P2Y_home','P3A_home','P3Y_home','SPC_home','MPC_home','LPC_home','Q1RA_home','Q1RY_home','Q1PA_home','Q1PY_home','LCRA_home','LCRY_home','LCPA_home','LCPY_home','RZRA_home','RZRY_home','RZPA_home','RZPY_home','SKY_home','LBS_home','DBS_home','SFPY_home','DRV_home','NPY_home','TB_home','I20_home','RTD_home','LNR_home','LNP_home','LBR_home','LBP_home','DBR_home','DBP_home','NHA_home','S3A_home','S3C_home','L3A_home','L3C_home','STF_home','DP_home','FSP_home','OHP_home','PBEP_home','DLP_home','DSP_home','DMP_home','PFN_home','1QP_away','2QP_away','3QP_away','4QP_away','RFD_away','PFD_away','IFD_away','RY_away','RA_away','PY_away','PA_away','PC_away','SK_away','INT_away','FUM_away','PU_away','GPY_away','PR_away','PRY_away','KR_away','KRY_away','IR_away','IRY_away','PEN_away','TOP_away','TD_away','TDR_away','TDP_away','TDT_away','FGM_away','FGAT_away','FGY_away','RZA_away','RZC_away','BRY_away','BPY_away','SRP_away','S1RP_away','S2RP_away','S3RP_away','SPP_away','S1PP_away','S2PP_away','S3PP_away','LEA_away','LEY_away','LTA_away','LTY_away','LGA_away','LGY_away','MDA_away','MDY_away','RGA_away','RGY_away','RTA_away','RTY_away','REA_away','REY_away','R1A_away','R1Y_away','R2A_away','R2Y_away','R3A_away','R3Y_away','QBA_away','QBY_away','SLA_away','SLY_away','SMA_away','SMY_away','SRA_away','SRY_away','DLA_away','DLY_away','DMA_away','DMY_away','DRA_away','DRY_away','WR1A_away','WR1Y_away','WR3A_away','WR3Y_away','TEA_away','TEY_away','RBA_away','RBY_away','SGA_away','SGY_away','P1A_away','P1Y_away','P2A_away','P2Y_away','P3A_away','P3Y_away','SPC_away','MPC_away','LPC_away','Q1RA_away','Q1RY_away','Q1PA_away','Q1PY_away','LCRA_away','LCRY_away','LCPA_away','LCPY_away','RZRA_away','RZRY_away','RZPA_away','RZPY_away','SKY_away','LBS_away','DBS_away','SFPY_away','DRV_away','NPY_away','TB_away','I20_away','RTD_away','LNR_away','LNP_away','LBR_away','LBP_away','DBR_away','DBP_away','NHA_away','S3A_away','S3C_away','L3A_away','L3C_away','STF_away','DP_away','FSP_away','OHP_away','PBEP_away','DLP_away','DSP_away','DMP_away','PFN_away']\n",
    "# features.remove('TD_home')\n",
    "# features.remove('FGM_home')\n",
    "# features.remove('TD_away')\n",
    "# features.remove('FGM_away')\n",
    "# features.remove('TB_away')\n",
    "#features.remove(['TD_home','FGM_home','TD_away','FGM_away','TB_away'])\n",
    "#features = ['temperature','humidity','wind_speed','over_or_under','away_team_id','home_team_id']\n",
    "#features = ['temperature','humidity','wind_speed','over_or_under','visitor_point_spread','1QP_home','2QP_home','3QP_home','1QP_away','2QP_away','3QP_away']"
   ]
  },
  {
   "cell_type": "code",
   "execution_count": 162,
   "metadata": {
    "collapsed": false
   },
   "outputs": [],
   "source": [
    "#features = ['temperature','humidity','wind_speed','over_or_under','visitor_point_spread','1QP_home','2QP_home','3QP_home','4QP_home','RFD_home','PFD_home','IFD_home','1QP_away','2QP_away','3QP_away','4QP_away','RFD_away','PFD_away','IFD_away']\n"
   ]
  },
  {
   "cell_type": "code",
   "execution_count": 163,
   "metadata": {
    "collapsed": false
   },
   "outputs": [
    {
     "data": {
      "text/plain": [
       "15"
      ]
     },
     "execution_count": 163,
     "metadata": {},
     "output_type": "execute_result"
    }
   ],
   "source": [
    "len(features)"
   ]
  },
  {
   "cell_type": "code",
   "execution_count": 164,
   "metadata": {
    "collapsed": false
   },
   "outputs": [
    {
     "name": "stdout",
     "output_type": "stream",
     "text": [
      "[  4.47521460e-01  -7.93752803e-01   6.61093857e-01   6.75067186e-01\n",
      "  -1.85255091e+00   1.22158830e-01   3.41412643e-02  -7.60447006e-02\n",
      "  -2.25532060e-04   9.15144780e-02   3.21314542e-02  -6.65477318e-05\n",
      "  -9.54558406e-01  -2.18144012e+00  -9.03838135e-02]\n"
     ]
    },
    {
     "data": {
      "text/html": [
       "<div style=\"max-height:1000px;max-width:1500px;overflow:auto;\">\n",
       "<table border=\"1\" class=\"dataframe\">\n",
       "  <thead>\n",
       "    <tr style=\"text-align: right;\">\n",
       "      <th></th>\n",
       "      <th>Linear Regression</th>\n",
       "      <th>Linear Regression Normalized</th>\n",
       "      <th>Ridge Regression</th>\n",
       "      <th>Ridge Regression Normalized</th>\n",
       "      <th>Lasso Regression</th>\n",
       "      <th>Lasso Regression Normalized</th>\n",
       "    </tr>\n",
       "  </thead>\n",
       "  <tbody>\n",
       "    <tr>\n",
       "      <th>2005</th>\n",
       "      <td> 90.232558</td>\n",
       "      <td> 90.232558</td>\n",
       "      <td> 90.232558</td>\n",
       "      <td> 87.209302</td>\n",
       "      <td> 89.069767</td>\n",
       "      <td> 60.930233</td>\n",
       "    </tr>\n",
       "    <tr>\n",
       "      <th>2006</th>\n",
       "      <td> 90.315789</td>\n",
       "      <td> 90.315789</td>\n",
       "      <td> 90.315789</td>\n",
       "      <td> 87.578947</td>\n",
       "      <td> 88.421053</td>\n",
       "      <td> 62.105263</td>\n",
       "    </tr>\n",
       "    <tr>\n",
       "      <th>2007</th>\n",
       "      <td> 90.105263</td>\n",
       "      <td> 90.105263</td>\n",
       "      <td> 90.105263</td>\n",
       "      <td> 85.052632</td>\n",
       "      <td> 87.368421</td>\n",
       "      <td> 62.526316</td>\n",
       "    </tr>\n",
       "    <tr>\n",
       "      <th>2008</th>\n",
       "      <td> 90.871369</td>\n",
       "      <td> 90.871369</td>\n",
       "      <td> 90.871369</td>\n",
       "      <td> 86.929461</td>\n",
       "      <td> 89.419087</td>\n",
       "      <td> 61.825726</td>\n",
       "    </tr>\n",
       "    <tr>\n",
       "      <th>2009</th>\n",
       "      <td> 89.462810</td>\n",
       "      <td> 89.462810</td>\n",
       "      <td> 89.462810</td>\n",
       "      <td> 87.396694</td>\n",
       "      <td> 88.636364</td>\n",
       "      <td> 64.876033</td>\n",
       "    </tr>\n",
       "    <tr>\n",
       "      <th>2010</th>\n",
       "      <td> 91.322314</td>\n",
       "      <td> 91.322314</td>\n",
       "      <td> 91.322314</td>\n",
       "      <td> 86.570248</td>\n",
       "      <td> 91.322314</td>\n",
       "      <td> 59.297521</td>\n",
       "    </tr>\n",
       "    <tr>\n",
       "      <th>2011</th>\n",
       "      <td> 89.733060</td>\n",
       "      <td> 89.733060</td>\n",
       "      <td> 89.733060</td>\n",
       "      <td> 87.268994</td>\n",
       "      <td> 89.117043</td>\n",
       "      <td> 65.092402</td>\n",
       "    </tr>\n",
       "    <tr>\n",
       "      <th>2012</th>\n",
       "      <td> 91.434263</td>\n",
       "      <td> 91.434263</td>\n",
       "      <td> 91.434263</td>\n",
       "      <td> 86.454183</td>\n",
       "      <td> 90.836653</td>\n",
       "      <td> 61.952191</td>\n",
       "    </tr>\n",
       "    <tr>\n",
       "      <th>2013</th>\n",
       "      <td> 91.375770</td>\n",
       "      <td> 91.375770</td>\n",
       "      <td> 91.170431</td>\n",
       "      <td> 87.063655</td>\n",
       "      <td> 90.349076</td>\n",
       "      <td> 60.574949</td>\n",
       "    </tr>\n",
       "    <tr>\n",
       "      <th>2014</th>\n",
       "      <td> 88.508065</td>\n",
       "      <td> 88.508065</td>\n",
       "      <td> 88.508065</td>\n",
       "      <td> 83.669355</td>\n",
       "      <td> 88.306452</td>\n",
       "      <td> 61.088710</td>\n",
       "    </tr>\n",
       "  </tbody>\n",
       "</table>\n",
       "<p>10 rows × 6 columns</p>\n",
       "</div>"
      ],
      "text/plain": [
       "      Linear Regression  Linear Regression Normalized  Ridge Regression  \\\n",
       "2005          90.232558                     90.232558         90.232558   \n",
       "2006          90.315789                     90.315789         90.315789   \n",
       "2007          90.105263                     90.105263         90.105263   \n",
       "2008          90.871369                     90.871369         90.871369   \n",
       "2009          89.462810                     89.462810         89.462810   \n",
       "2010          91.322314                     91.322314         91.322314   \n",
       "2011          89.733060                     89.733060         89.733060   \n",
       "2012          91.434263                     91.434263         91.434263   \n",
       "2013          91.375770                     91.375770         91.170431   \n",
       "2014          88.508065                     88.508065         88.508065   \n",
       "\n",
       "      Ridge Regression Normalized  Lasso Regression  \\\n",
       "2005                    87.209302         89.069767   \n",
       "2006                    87.578947         88.421053   \n",
       "2007                    85.052632         87.368421   \n",
       "2008                    86.929461         89.419087   \n",
       "2009                    87.396694         88.636364   \n",
       "2010                    86.570248         91.322314   \n",
       "2011                    87.268994         89.117043   \n",
       "2012                    86.454183         90.836653   \n",
       "2013                    87.063655         90.349076   \n",
       "2014                    83.669355         88.306452   \n",
       "\n",
       "      Lasso Regression Normalized  \n",
       "2005                    60.930233  \n",
       "2006                    62.105263  \n",
       "2007                    62.526316  \n",
       "2008                    61.825726  \n",
       "2009                    64.876033  \n",
       "2010                    59.297521  \n",
       "2011                    65.092402  \n",
       "2012                    61.952191  \n",
       "2013                    60.574949  \n",
       "2014                    61.088710  \n",
       "\n",
       "[10 rows x 6 columns]"
      ]
     },
     "execution_count": 164,
     "metadata": {},
     "output_type": "execute_result"
    }
   ],
   "source": [
    "clfs = [LinearRegression(fit_intercept=True),\n",
    "        LinearRegression(fit_intercept=True, normalize=True),\n",
    "        Ridge(fit_intercept=True),\n",
    "        Ridge(fit_intercept=True, normalize=True),\n",
    "        Lasso(fit_intercept=True),\n",
    "        Lasso(fit_intercept=True, normalize=True)]\n",
    "clf_names = ['Linear Regression', 'Linear Regression Normalized',\n",
    "             'Ridge Regression', 'Ridge Regression Normalized',\n",
    "             'Lasso Regression', 'Lasso Regression Normalized']\n",
    "\n",
    "train_results = []\n",
    "models = {}\n",
    "for (i, clf_) in enumerate(clfs):\n",
    "    data = trainDF[trainDF.year >= 2001]\n",
    "    X = data.ix[:, features]\n",
    "    y = data.ix[:, 'score_diff']\n",
    "    clf = clf_.fit(X, y)\n",
    "    models[clf_names[i]] = clf\n",
    "    if clf_names[i] == 'Ridge Regression Normalized':\n",
    "        print clf.coef_\n",
    "    predicted_train = clf.predict(X)\n",
    "    p = [int(round(val)) for val in predicted_train]\n",
    "    data['predicted_score_diff'] = pd.Series(p, index=data.index)\n",
    "    data['correct_prediction'] = data.apply(lambda x: get_correct(x['score_diff'], x['predicted_score_diff']), axis=1)\n",
    "    years = [int(y) for y in unique(data.year)]\n",
    "    ansdf = {}\n",
    "    for y in years:\n",
    "        ansdf[y] = data[data.year == y]\n",
    "    accuracy = check_accuracy(ansdf)\n",
    "    accuracy = pd.DataFrame(accuracy).T\n",
    "    accuracy.columns = ['num_games', 'num_correct_prediction', 'pct_correct_prediction']\n",
    "    accuracy = accuracy[['pct_correct_prediction']]\n",
    "    accuracy.columns = [clf_names[i]]\n",
    "    train_results.append(accuracy.T)\n",
    "\n",
    "train_resultdf = pd.concat(train_results).T\n",
    "train_resultdf"
   ]
  },
  {
   "cell_type": "code",
   "execution_count": 165,
   "metadata": {
    "collapsed": false
   },
   "outputs": [
    {
     "data": {
      "image/png": "[encoded data removed]",
      "text/plain": [
       "<matplotlib.figure.Figure at 0x7f1b26663e90>"
      ]
     },
     "metadata": {},
     "output_type": "display_data"
    }
   ],
   "source": [
    "train_resultdf.plot(kind='bar', figsize=(17, 8))\n",
    "plt.grid(b=True, which='major', color='gray', linestyle=':')\n",
    "plt.xlabel('Years')\n",
    "plt.ylabel('Prediction accurcay')\n",
    "plt.ylim([0, 100])\n",
    "plt.legend(loc='upper center', bbox_to_anchor=(0.5, -0.1), fancybox=True, shadow=True, ncol=3)\n",
    "plt.show()"
   ]
  },
  {
   "cell_type": "code",
   "execution_count": 166,
   "metadata": {
    "collapsed": false
   },
   "outputs": [
    {
     "data": {
      "text/html": [
       "<div style=\"max-height:1000px;max-width:1500px;overflow:auto;\">\n",
       "<table border=\"1\" class=\"dataframe\">\n",
       "  <thead>\n",
       "    <tr style=\"text-align: right;\">\n",
       "      <th></th>\n",
       "      <th>Ridge Regression Normalized</th>\n",
       "      <th>Lasso Regression Normalized</th>\n",
       "      <th>Lasso Regression</th>\n",
       "      <th>Ridge Regression</th>\n",
       "      <th>Linear Regression</th>\n",
       "      <th>Linear Regression Normalized</th>\n",
       "    </tr>\n",
       "  </thead>\n",
       "  <tbody>\n",
       "    <tr>\n",
       "      <th>2005</th>\n",
       "      <td> 84.027778</td>\n",
       "      <td> 57.638889</td>\n",
       "      <td> 87.152778</td>\n",
       "      <td> 87.847222</td>\n",
       "      <td> 87.847222</td>\n",
       "      <td> 87.847222</td>\n",
       "    </tr>\n",
       "    <tr>\n",
       "      <th>2006</th>\n",
       "      <td> 86.435331</td>\n",
       "      <td> 61.514196</td>\n",
       "      <td> 90.220820</td>\n",
       "      <td> 90.536278</td>\n",
       "      <td> 90.536278</td>\n",
       "      <td> 90.536278</td>\n",
       "    </tr>\n",
       "    <tr>\n",
       "      <th>2007</th>\n",
       "      <td> 87.381703</td>\n",
       "      <td> 62.145110</td>\n",
       "      <td> 92.429022</td>\n",
       "      <td> 92.113565</td>\n",
       "      <td> 92.113565</td>\n",
       "      <td> 92.113565</td>\n",
       "    </tr>\n",
       "    <tr>\n",
       "      <th>2008</th>\n",
       "      <td> 85.403727</td>\n",
       "      <td> 63.975155</td>\n",
       "      <td> 91.304348</td>\n",
       "      <td> 92.236025</td>\n",
       "      <td> 92.236025</td>\n",
       "      <td> 92.236025</td>\n",
       "    </tr>\n",
       "    <tr>\n",
       "      <th>2009</th>\n",
       "      <td> 87.654321</td>\n",
       "      <td> 61.728395</td>\n",
       "      <td> 90.740741</td>\n",
       "      <td> 91.975309</td>\n",
       "      <td> 91.975309</td>\n",
       "      <td> 91.975309</td>\n",
       "    </tr>\n",
       "    <tr>\n",
       "      <th>2010</th>\n",
       "      <td> 89.814815</td>\n",
       "      <td> 62.345679</td>\n",
       "      <td> 89.506173</td>\n",
       "      <td> 89.814815</td>\n",
       "      <td> 89.814815</td>\n",
       "      <td> 89.814815</td>\n",
       "    </tr>\n",
       "    <tr>\n",
       "      <th>2011</th>\n",
       "      <td> 84.615385</td>\n",
       "      <td> 61.846154</td>\n",
       "      <td> 88.000000</td>\n",
       "      <td> 89.846154</td>\n",
       "      <td> 89.846154</td>\n",
       "      <td> 89.846154</td>\n",
       "    </tr>\n",
       "    <tr>\n",
       "      <th>2012</th>\n",
       "      <td> 87.202381</td>\n",
       "      <td> 59.821429</td>\n",
       "      <td> 88.690476</td>\n",
       "      <td> 91.369048</td>\n",
       "      <td> 91.369048</td>\n",
       "      <td> 91.369048</td>\n",
       "    </tr>\n",
       "    <tr>\n",
       "      <th>2013</th>\n",
       "      <td> 89.570552</td>\n",
       "      <td> 64.110429</td>\n",
       "      <td> 93.558282</td>\n",
       "      <td> 93.865031</td>\n",
       "      <td> 93.865031</td>\n",
       "      <td> 93.865031</td>\n",
       "    </tr>\n",
       "    <tr>\n",
       "      <th>2014</th>\n",
       "      <td> 81.570997</td>\n",
       "      <td> 60.422961</td>\n",
       "      <td> 88.217523</td>\n",
       "      <td> 88.519637</td>\n",
       "      <td> 88.519637</td>\n",
       "      <td> 88.519637</td>\n",
       "    </tr>\n",
       "  </tbody>\n",
       "</table>\n",
       "<p>10 rows × 6 columns</p>\n",
       "</div>"
      ],
      "text/plain": [
       "      Ridge Regression Normalized  Lasso Regression Normalized  \\\n",
       "2005                    84.027778                    57.638889   \n",
       "2006                    86.435331                    61.514196   \n",
       "2007                    87.381703                    62.145110   \n",
       "2008                    85.403727                    63.975155   \n",
       "2009                    87.654321                    61.728395   \n",
       "2010                    89.814815                    62.345679   \n",
       "2011                    84.615385                    61.846154   \n",
       "2012                    87.202381                    59.821429   \n",
       "2013                    89.570552                    64.110429   \n",
       "2014                    81.570997                    60.422961   \n",
       "\n",
       "      Lasso Regression  Ridge Regression  Linear Regression  \\\n",
       "2005         87.152778         87.847222          87.847222   \n",
       "2006         90.220820         90.536278          90.536278   \n",
       "2007         92.429022         92.113565          92.113565   \n",
       "2008         91.304348         92.236025          92.236025   \n",
       "2009         90.740741         91.975309          91.975309   \n",
       "2010         89.506173         89.814815          89.814815   \n",
       "2011         88.000000         89.846154          89.846154   \n",
       "2012         88.690476         91.369048          91.369048   \n",
       "2013         93.558282         93.865031          93.865031   \n",
       "2014         88.217523         88.519637          88.519637   \n",
       "\n",
       "      Linear Regression Normalized  \n",
       "2005                     87.847222  \n",
       "2006                     90.536278  \n",
       "2007                     92.113565  \n",
       "2008                     92.236025  \n",
       "2009                     91.975309  \n",
       "2010                     89.814815  \n",
       "2011                     89.846154  \n",
       "2012                     91.369048  \n",
       "2013                     93.865031  \n",
       "2014                     88.519637  \n",
       "\n",
       "[10 rows x 6 columns]"
      ]
     },
     "execution_count": 166,
     "metadata": {},
     "output_type": "execute_result"
    }
   ],
   "source": [
    "test_results = []\n",
    "for model_name, model in models.iteritems():\n",
    "    data_test = testDF[testDF.year > 2000]\n",
    "    X_test = data_test.ix[:, features]\n",
    "    y_test = data_test.ix[:, 'score_diff']\n",
    "    predicted_test = model.predict(X_test)\n",
    "    pt = [int(round(val)) for val in predicted_test]\n",
    "    data_test['predicted_score_diff'] = pd.Series(pt, index=data_test.index)\n",
    "    data_test['correct_prediction'] = data_test.apply(lambda x: get_correct(x['score_diff'], x['predicted_score_diff']), axis=1)\n",
    "    years = [int(y) for y in unique(data_test.year)]\n",
    "    ansdf = {}\n",
    "    for y in years:\n",
    "        ansdf[y] = data_test[data_test.year == y]\n",
    "    accuracy = check_accuracy(ansdf)\n",
    "    accuracy = pd.DataFrame(accuracy).T\n",
    "    accuracy.columns = ['num_games', 'num_correct_prediction', 'pct_correct_prediction']\n",
    "    accuracy = accuracy[['pct_correct_prediction']]\n",
    "    accuracy.columns = [model_name]\n",
    "    test_results.append(accuracy.T)\n",
    "\n",
    "test_resultdf = pd.concat(test_results).T\n",
    "test_resultdf"
   ]
  },
  {
   "cell_type": "code",
   "execution_count": 167,
   "metadata": {
    "collapsed": false
   },
   "outputs": [
    {
     "data": {
      "image/png": "[encoded data removed]",
      "text/plain": [
       "<matplotlib.figure.Figure at 0x7f1b26573250>"
      ]
     },
     "metadata": {},
     "output_type": "display_data"
    }
   ],
   "source": [
    "test_resultdf.plot(kind='bar', figsize=(17, 8))\n",
    "plt.grid(b=True, which='major', color='gray', linestyle=':')\n",
    "plt.xlabel('Years')\n",
    "plt.ylabel('Prediction accurcay')\n",
    "plt.ylim([0, 100])\n",
    "plt.legend(loc='upper center', bbox_to_anchor=(0.5, -0.1), fancybox=True, shadow=True, ncol=3)\n",
    "plt.show()"
   ]
  },
  {
   "cell_type": "markdown",
   "metadata": {},
   "source": [
    "---"
   ]
  },
  {
   "cell_type": "code",
   "execution_count": 168,
   "metadata": {
    "collapsed": false
   },
   "outputs": [],
   "source": [
    "# def get_game_features(g, gamesTillNow, itr, alpha):\n",
    "#     hTeam = g.home_team\n",
    "#     aTeam = g.away_team\n",
    "#     gameYear = int(g.year)\n",
    "\n",
    "#     games = []    \n",
    "#     for row, game in gamesTillNow.iterrows():\n",
    "#         rhTeam = game.home_team\n",
    "#         raTeam = game.away_team\n",
    "#         if ((rhTeam == hTeam) or (rhTeam == aTeam) or (raTeam == hTeam) or (raTeam == aTeam)):\n",
    "#             games.append(pd.DataFrame(game).T)\n",
    "#     games = games[-itr:]\n",
    "#     numGames = len(games)\n",
    "#     games = pd.concat(games)\n",
    "#     games = games[features]\n",
    "    \n",
    "#     numGames = len(games.index)\n",
    "#     weights = []\n",
    "#     for i in xrange(1, numGames+1):\n",
    "#         weights.append(alpha**i)\n",
    "#     weights = np.array(weights)\n",
    "#     average = (games.mul(weights[::-1], axis=0)/float(sum(weights)))\n",
    "#     average = pd.DataFrame(average.sum()).T.apply(np.round)\n",
    "#     return (numGames, average[features])"
   ]
  },
  {
   "cell_type": "code",
   "execution_count": 169,
   "metadata": {
    "collapsed": false
   },
   "outputs": [],
   "source": [
    "def get_game_features(g, gamesTillNow, itr, alpha):\n",
    "    hTeam = g.home_team\n",
    "    aTeam = g.away_team\n",
    "    gameYear = int(g.year)\n",
    "    \n",
    "\n",
    "    games = []    \n",
    "#     for row, game in gamesTillNow.iterrows():\n",
    "#         rhTeam = game.home_team\n",
    "#         raTeam = game.away_team\n",
    "#         if ((rhTeam == hTeam) or (rhTeam == aTeam) or (raTeam == hTeam) or (raTeam == aTeam)):\n",
    "#             games.append(pd.DataFrame(game).T)\n",
    "    games = gamesTillNow.loc[(((gamesTillNow['home_team']==hTeam) | (gamesTillNow['away_team']==aTeam))|((gamesTillNow['home_team']==aTeam) | (gamesTillNow['away_team']==hTeam))),features]\n",
    "    #games = gamesTillNow.loc[gamesTillNow['home_team']==hTeam | gamesTillNow['home_team']==aTeam | gamesTillNow['away_team']==hTeam | gamesTillNow['away_team']==aTeam,features]\n",
    "    #games = games[-itr:]\n",
    "    numGames = len(games)\n",
    "    #games = pd.concat(games)\n",
    "    #games = games[features]\n",
    "    \n",
    "    numGames = len(games.index)\n",
    "    weights = []\n",
    "    for i in xrange(1, numGames+1):\n",
    "        weights.append(alpha**i)\n",
    "    weights = np.array(weights)\n",
    "    average = (games.mul(weights[::-1], axis=0)/float(sum(weights)))\n",
    "    average = pd.DataFrame(average.sum()).T.apply(np.round)\n",
    "    return (numGames, average[features])"
   ]
  },
  {
   "cell_type": "code",
   "execution_count": 170,
   "metadata": {
    "collapsed": false
   },
   "outputs": [
    {
     "data": {
      "text/html": [
       "<div style=\"max-height:1000px;max-width:1500px;overflow:auto;\">\n",
       "<table border=\"1\" class=\"dataframe\">\n",
       "  <thead>\n",
       "    <tr style=\"text-align: right;\">\n",
       "      <th></th>\n",
       "      <th>Ridge Regression Normalized</th>\n",
       "      <th>Lasso Regression Normalized</th>\n",
       "      <th>Lasso Regression</th>\n",
       "      <th>Ridge Regression</th>\n",
       "      <th>Linear Regression</th>\n",
       "      <th>Linear Regression Normalized</th>\n",
       "    </tr>\n",
       "  </thead>\n",
       "  <tbody>\n",
       "    <tr>\n",
       "      <th>2008</th>\n",
       "      <td> 63.975155</td>\n",
       "      <td> 63.975155</td>\n",
       "      <td> 62.732919</td>\n",
       "      <td> 63.043478</td>\n",
       "      <td> 63.043478</td>\n",
       "      <td> 63.043478</td>\n",
       "    </tr>\n",
       "    <tr>\n",
       "      <th>2009</th>\n",
       "      <td> 61.728395</td>\n",
       "      <td> 61.728395</td>\n",
       "      <td> 60.802469</td>\n",
       "      <td> 60.493827</td>\n",
       "      <td> 60.493827</td>\n",
       "      <td> 60.493827</td>\n",
       "    </tr>\n",
       "    <tr>\n",
       "      <th>2010</th>\n",
       "      <td> 62.345679</td>\n",
       "      <td> 62.345679</td>\n",
       "      <td> 62.654321</td>\n",
       "      <td> 62.037037</td>\n",
       "      <td> 62.037037</td>\n",
       "      <td> 62.037037</td>\n",
       "    </tr>\n",
       "    <tr>\n",
       "      <th>2011</th>\n",
       "      <td> 61.846154</td>\n",
       "      <td> 61.846154</td>\n",
       "      <td> 61.846154</td>\n",
       "      <td> 61.846154</td>\n",
       "      <td> 61.846154</td>\n",
       "      <td> 61.846154</td>\n",
       "    </tr>\n",
       "    <tr>\n",
       "      <th>2012</th>\n",
       "      <td> 59.821429</td>\n",
       "      <td> 59.821429</td>\n",
       "      <td> 59.821429</td>\n",
       "      <td> 59.523810</td>\n",
       "      <td> 59.523810</td>\n",
       "      <td> 59.523810</td>\n",
       "    </tr>\n",
       "    <tr>\n",
       "      <th>2013</th>\n",
       "      <td> 64.110429</td>\n",
       "      <td> 64.110429</td>\n",
       "      <td> 64.110429</td>\n",
       "      <td> 64.110429</td>\n",
       "      <td> 64.110429</td>\n",
       "      <td> 64.110429</td>\n",
       "    </tr>\n",
       "    <tr>\n",
       "      <th>2014</th>\n",
       "      <td> 60.422961</td>\n",
       "      <td> 60.422961</td>\n",
       "      <td> 60.422961</td>\n",
       "      <td> 60.120846</td>\n",
       "      <td> 60.120846</td>\n",
       "      <td> 60.120846</td>\n",
       "    </tr>\n",
       "  </tbody>\n",
       "</table>\n",
       "<p>7 rows × 6 columns</p>\n",
       "</div>"
      ],
      "text/plain": [
       "      Ridge Regression Normalized  Lasso Regression Normalized  \\\n",
       "2008                    63.975155                    63.975155   \n",
       "2009                    61.728395                    61.728395   \n",
       "2010                    62.345679                    62.345679   \n",
       "2011                    61.846154                    61.846154   \n",
       "2012                    59.821429                    59.821429   \n",
       "2013                    64.110429                    64.110429   \n",
       "2014                    60.422961                    60.422961   \n",
       "\n",
       "      Lasso Regression  Ridge Regression  Linear Regression  \\\n",
       "2008         62.732919         63.043478          63.043478   \n",
       "2009         60.802469         60.493827          60.493827   \n",
       "2010         62.654321         62.037037          62.037037   \n",
       "2011         61.846154         61.846154          61.846154   \n",
       "2012         59.821429         59.523810          59.523810   \n",
       "2013         64.110429         64.110429          64.110429   \n",
       "2014         60.422961         60.120846          60.120846   \n",
       "\n",
       "      Linear Regression Normalized  \n",
       "2008                     63.043478  \n",
       "2009                     60.493827  \n",
       "2010                     62.037037  \n",
       "2011                     61.846154  \n",
       "2012                     59.523810  \n",
       "2013                     64.110429  \n",
       "2014                     60.120846  \n",
       "\n",
       "[7 rows x 6 columns]"
      ]
     },
     "execution_count": 170,
     "metadata": {},
     "output_type": "execute_result"
    }
   ],
   "source": [
    "test2_results = []\n",
    "for model_name, model in models.iteritems():\n",
    "    itr = 15\n",
    "    alpha = 1\n",
    "    mtemp = []\n",
    "    data_test = testDF[testDF.year > 2007]\n",
    "    for ix, game in data_test.iterrows():\n",
    "        gamesTillNow = get_games_till_now(game, data)\n",
    "        numGames, gameFeatures = get_game_features(game, gamesTillNow, itr, alpha)\n",
    "        #print gameFeatures\n",
    "        gameResult = run_model(model, gameFeatures)\n",
    "        mtemp.append(gameResult)\n",
    "\n",
    "    data_test['predicted_score_diff'] = pd.Series(mtemp, index=data_test.index)\n",
    "    cols = ['year', 'week', 'home_team', 'away_team', 'home_score', 'away_score', 'winner', 'score_diff', 'predicted_score_diff']\n",
    "    process = data_test[cols]\n",
    "    process['error'] = process.score_diff - process.predicted_score_diff\n",
    "    process['correct_prediction'] = process.apply(lambda x: get_correct(x['score_diff'], x['predicted_score_diff']), axis=1)\n",
    "    years = [int(y) for y in unique(process.year)]\n",
    "    ansdf = {}\n",
    "    for y in years:\n",
    "        ansdf[y] = process[process.year == y]\n",
    "    accuracy = check_accuracy(ansdf)\n",
    "    accuracy = pd.DataFrame(accuracy).T\n",
    "    accuracy.columns = ['num_games', 'num_correct_prediction', 'pct_correct_prediction']\n",
    "    accuracy = accuracy[['pct_correct_prediction']]\n",
    "    accuracy.columns = [model_name]\n",
    "    test2_results.append(accuracy.T)\n",
    "    \n",
    "test2_resultdf = pd.concat(test2_results).T\n",
    "test2_resultdf"
   ]
  },
  {
   "cell_type": "code",
   "execution_count": 27,
   "metadata": {
    "collapsed": false
   },
   "outputs": [
    {
     "data": {
      "image/png": "[encoded data removed]",
      "text/plain": [
       "<matplotlib.figure.Figure at 0x7f876ccac650>"
      ]
     },
     "metadata": {},
     "output_type": "display_data"
    }
   ],
   "source": [
    "test2_resultdf.plot(kind='bar', figsize=(17, 8))\n",
    "plt.grid(b=True, which='major', color='gray', linestyle=':')\n",
    "plt.xlabel('Years')\n",
    "plt.ylabel('Prediction accurcay')\n",
    "plt.ylim([0, 100])\n",
    "plt.legend(loc='upper center', bbox_to_anchor=(0.5, -0.1), fancybox=True, shadow=True, ncol=3)\n",
    "plt.show()"
   ]
  }
 ],
 "metadata": {
  "kernelspec": {
   "display_name": "Python 2",
   "language": "python",
   "name": "python2"
  },
  "language_info": {
   "codemirror_mode": {
    "name": "ipython",
    "version": 2
   },
   "file_extension": ".py",
   "mimetype": "text/x-python",
   "name": "python",
   "nbconvert_exporter": "python",
   "pygments_lexer": "ipython2",
   "version": "2.7.10"
  }
 },
 "nbformat": 4,
 "nbformat_minor": 0
}
